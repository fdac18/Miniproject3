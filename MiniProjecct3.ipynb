{
 "cells": [
  {
   "cell_type": "markdown",
   "metadata": {},
   "source": [
    "A Survey on Technology Choice\n",
    "======\n"
   ]
  },
  {
   "cell_type": "code",
   "execution_count": 30,
   "metadata": {},
   "outputs": [],
   "source": [
    "# This assignment is to make a model to predict the priority variable \n",
    "# PG5_11NSG is my assigned value \n",
    "\n",
    "library(dplyr)\n",
    "# For nicer printing\n",
    "options(digits=2);"
   ]
  },
  {
   "cell_type": "code",
   "execution_count": 31,
   "metadata": {},
   "outputs": [],
   "source": [
    "# Read in the data\n",
    "data <- read.csv(\"TechSurvey - Survey.csv\",header=T);\n",
    "\n",
    "#convert date to unix second\n",
    "for (i in c(\"Start\", \"End\")) \n",
    "    data[,i] = as.numeric(as.POSIXct(strptime(data[,i], \"%Y-%m-%d %H:%M:%S\")))\n",
    "for (i in 0:12){\n",
    "    vnam = paste(c(\"PG\",i,\"Submit\"), collapse=\"\")\n",
    "    data[,vnam] = as.numeric(as.POSIXct(strptime(data[,vnam], \"%Y-%m-%d %H:%M:%S\")))\n",
    "}\n",
    "#calculate differences in time    \n",
    "for (i in 12:0){\n",
    "    pv = paste(c(\"PG\",i-1,\"Submit\"), collapse=\"\");\n",
    "    if (i==0) \n",
    "        pv=\"Start\";\n",
    "    vnam = paste(c(\"PG\",i,\"Submit\"), collapse=\"\");\n",
    "    data[,vnam] = data[,vnam] -data[,pv];\n",
    "}"
   ]
  },
  {
   "cell_type": "code",
   "execution_count": 33,
   "metadata": {
    "scrolled": false
   },
   "outputs": [
    {
     "name": "stdout",
     "output_type": "stream",
     "text": [
      "[1] \"Time to take entire survey:  680.35652173913  Seconds\"\n",
      "[1] \"Question that took the longest to complete:  PG5Submit \"\n",
      "[1] \"Question that took the least to complete:  PG11Submit \"\n",
      "[1] \"Top-ranked criteria:  PG5_2Order \"\n",
      "[1] \"Demographic distribution by age: \"\n"
     ]
    },
    {
     "data": {
      "image/png": "[encoded data removed]",
      "text/plain": [
       "Plot with title \"Age Distribution\""
      ]
     },
     "metadata": {},
     "output_type": "display_data"
    }
   ],
   "source": [
    "# Simple questions \n",
    "\n",
    "# Time to take entire survey?\n",
    "total = mean(data$End - data$Start, na.rm = TRUE)\n",
    "print(paste(\"Time to take entire survey: \" ,total, \" Seconds\"))\n",
    "\n",
    "# Question that took the longest to complete?\n",
    "submit_times <- data[, grep(\"Submit\", colnames(data), value = TRUE)]\n",
    "submit_times = submit_times[, -c(1)]\n",
    "submit_means = apply(submit_times, 2, mean, na.rm = TRUE)\n",
    "longest = names(submit_means[which(submit_means == max(submit_means))])\n",
    "print(paste(\"Question that took the longest to complete: \" ,longest, \"\"))\n",
    "\n",
    "# Question that took the least time?\n",
    "shortest = names(submit_means[which(submit_means == min(submit_means))])\n",
    "print(paste(\"Question that took the least to complete: \" ,shortest, \"\"))\n",
    "\n",
    "# Top-ranked criteria?\n",
    "ranked = data[, grep(\"PG5\", colnames(data), value = TRUE)]\n",
    "ordered = ranked[, grep(\"Order\", colnames(ranked), value = TRUE)]\n",
    "means = apply(ordered, 2, mean, na.rm = TRUE)\n",
    "top_ranked = names(means[which(means == max(means))])\n",
    "print(paste(\"Top-ranked criteria: \" ,top_ranked, \"\"))\n",
    "\n",
    "\n",
    "# Demographic distribution by age?\n",
    "print(paste(\"Demographic distribution by age: \" ))\n",
    "age_data <- select(data, PG12Resp) %>%\n",
    "    filter(PG12Resp != '')\n",
    "age_p <- factor(age_data[,])\n",
    "barplot(table(age_p), main = 'Age Distribution')"
   ]
  },
  {
   "cell_type": "markdown",
   "metadata": {},
   "source": [
    "### Interpret  basic summaries"
   ]
  },
  {
   "cell_type": "code",
   "execution_count": 3,
   "metadata": {},
   "outputs": [
    {
     "data": {
      "text/plain": [
       "     Device    Completed       Start               End               PG0Dis   \n",
       "        :  2   0    :  2   Min.   :1.54e+09   Min.   :1.54e+09   Min.   :  0  \n",
       " Bot    :  1   FALSE:546   1st Qu.:1.54e+09   1st Qu.:1.54e+09   1st Qu.:  0  \n",
       " PC     :955   TRUE :805   Median :1.54e+09   Median :1.54e+09   Median :  1  \n",
       " Phone  :376               Mean   :1.54e+09   Mean   :1.54e+09   Mean   : 44  \n",
       " Tablet : 16               3rd Qu.:1.54e+09   3rd Qu.:1.54e+09   3rd Qu.: 24  \n",
       " Unknown:  3               Max.   :1.54e+09   Max.   :1.54e+09   Max.   :168  \n",
       "                           NA's   :2          NA's   :548        NA's   :73   \n",
       "    PG0Shown      PG0Submit    \n",
       " Min.   :   0   Min.   :    2  \n",
       " 1st Qu.:   0   1st Qu.:    6  \n",
       " Median : 102   Median :    9  \n",
       " Mean   : 249   Mean   :  299  \n",
       " 3rd Qu.: 428   3rd Qu.:   15  \n",
       " Max.   :1190   Max.   :76226  \n",
       " NA's   :73     NA's   :199    \n",
       "                                       PG1PsnUse  \n",
       " For personal work and/or research use      :727  \n",
       "                                            :613  \n",
       " Chapter book                               :  1  \n",
       " For training attendees of my sessions      :  1  \n",
       " It's a coures on tidyverse that I developed:  1  \n",
       " Learning how to create a package           :  1  \n",
       " (Other)                                    :  9  \n",
       "                                                                        PG1WdAuth   \n",
       "                                                                             :1145  \n",
       " Because Microsoft was paying me to do it                                    :   1  \n",
       " For a wider audience, such as developers of other packages or other software: 205  \n",
       " Hackathon                                                                   :   1  \n",
       " Tool for other researchers to analyse their data                            :   1  \n",
       "                                                                                    \n",
       "                                                                                    \n",
       "                                PG1Trn    \n",
       "                                   :1168  \n",
       " For a training / class that I took: 184  \n",
       " teaching economics                :   1  \n",
       "                                          \n",
       "                                          \n",
       "                                          \n",
       "                                          \n",
       "                                                               PG1Other   \n",
       "                                                                   :1272  \n",
       " Other                                                             :  23  \n",
       " Teaching                                                          :   3  \n",
       " teaching                                                          :   3  \n",
       " For training that I gave                                          :   2  \n",
       " How does software technology spreads in the open source community?:   2  \n",
       " (Other)                                                           :  48  \n",
       "   PG1Submit        PG2Resp      PG2Submit   \n",
       " Min.   :   1           :431   Min.   :   1  \n",
       " 1st Qu.:  11   No      :374   1st Qu.:   9  \n",
       " Median :  16   Not sure:303   Median :  13  \n",
       " Mean   :  39   Yes     :245   Mean   :  29  \n",
       " 3rd Qu.:  30                  3rd Qu.:  29  \n",
       " Max.   :6892                  Max.   :1470  \n",
       " NA's   :282                   NA's   :377   \n",
       "                                                                            PG2Resp.1  \n",
       "                                                                                 :480  \n",
       " The core \"data.frame\" object lacked functionality that I needed                 :354  \n",
       " I saw a recommendation for the package                                          :149  \n",
       " Chose the package to be compatible with other packages in my project            :137  \n",
       " I didn't choose to use the package, it was included implicitly / unintentionally: 39  \n",
       " Other                                                                           :  6  \n",
       " (Other)                                                                         :188  \n",
       "   PG3Submit      PG4Dtr0_6      PG4Psv7_8      PG4Prm9_10    PG4AllResp \n",
       " Min.   :   1   Min.   :0      Min.   :7      Min.   : 9    Min.   : 0   \n",
       " 1st Qu.:  16   1st Qu.:3      1st Qu.:7      1st Qu.:10    1st Qu.: 8   \n",
       " Median :  23   Median :5      Median :8      Median :10    Median : 9   \n",
       " Mean   :  44   Mean   :4      Mean   :8      Mean   :10    Mean   : 8   \n",
       " 3rd Qu.:  40   3rd Qu.:6      3rd Qu.:8      3rd Qu.:10    3rd Qu.:10   \n",
       " Max.   :4648   Max.   :6      Max.   :8      Max.   :10    Max.   :10   \n",
       " NA's   :451    NA's   :1232   NA's   :1115   NA's   :869   NA's   :510  \n",
       "   PG4Submit             PG5_1RRPQ     PG5_1Order                PG5_1Time  \n",
       " Min.   :  1                  :877   Min.   : 1                       :877  \n",
       " 1st Qu.:  6   Essential      : 60   1st Qu.: 4    2018-10-11 13:32:57:  3  \n",
       " Median :  7   High Priority  :102   Median : 7    2018-10-11 13:29:20:  2  \n",
       " Mean   :  9   Low Priority   : 85   Mean   : 7    2018-10-11 13:34:56:  2  \n",
       " 3rd Qu.:  9   Medium Priority:134   3rd Qu.:11    2018-10-11 13:14:25:  1  \n",
       " Max.   :332   Not a Priority : 95   Max.   :20    2018-10-11 13:14:45:  1  \n",
       " NA's   :473                         NA's   :877   (Other)            :467  \n",
       "           PG5_2BNUI     PG5_2Order                PG5_2Time  \n",
       "                :923   Min.   : 1                       :923  \n",
       " Essential      :  3   1st Qu.: 5    2018-10-11 13:21:46:  2  \n",
       " High Priority  : 26   Median : 8    2018-10-11 13:38:07:  2  \n",
       " Low Priority   :121   Mean   : 8    2018-10-11 13:14:27:  1  \n",
       " Medium Priority: 92   3rd Qu.:11    2018-10-11 13:14:40:  1  \n",
       " Not a Priority :188   Max.   :21    2018-10-11 13:15:18:  1  \n",
       "                       NA's   :923   (Other)            :423  \n",
       "            PG5_3HDS     PG5_3Order                PG5_3Time  \n",
       "                :768   Min.   : 1                       :768  \n",
       " Essential      :103   1st Qu.: 2    2018-10-11 13:54:00:  2  \n",
       " High Priority  :200   Median : 4    2018-10-11 14:21:45:  2  \n",
       " Low Priority   : 69   Mean   : 6    2018-10-11 14:25:51:  2  \n",
       " Medium Priority:162   3rd Qu.: 9    2018-10-11 17:21:39:  2  \n",
       " Not a Priority : 51   Max.   :19    2018-10-11 13:14:18:  1  \n",
       "                       NA's   :768   (Other)            :576  \n",
       "            PG5_4VGP     PG5_4Order                PG5_4Time  \n",
       "                :852   Min.   : 1                       :852  \n",
       " Essential      : 22   1st Qu.: 4    2018-10-11 13:16:50:  2  \n",
       " High Priority  :111   Median : 6    2018-10-11 13:29:51:  2  \n",
       " Low Priority   : 88   Mean   : 7    2018-10-11 13:37:39:  2  \n",
       " Medium Priority:164   3rd Qu.:10    2018-10-11 13:38:11:  2  \n",
       " Not a Priority :116   Max.   :18    2018-10-11 15:42:22:  2  \n",
       "                       NA's   :852   (Other)            :491  \n",
       "            PG5_5PHR     PG5_5Order                PG5_5Time  \n",
       "                :753   Min.   : 1                       :753  \n",
       " Essential      : 79   1st Qu.: 2    2018-10-11 13:18:47:  2  \n",
       " High Priority  :252   Median : 4    2018-10-11 13:18:48:  2  \n",
       " Low Priority   : 63   Mean   : 6    2018-10-11 13:32:40:  2  \n",
       " Medium Priority:162   3rd Qu.: 8    2018-10-11 13:38:12:  2  \n",
       " Not a Priority : 44   Max.   :18    2018-10-11 13:45:48:  2  \n",
       "                       NA's   :753   (Other)            :590  \n",
       "           PG5_6SSYOP    PG5_6Order                PG5_6Time  \n",
       "                :852   Min.   : 1                       :852  \n",
       " Essential      : 63   1st Qu.: 3    2018-10-11 13:20:00:  2  \n",
       " High Priority  :137   Median : 6    2018-10-11 13:40:53:  2  \n",
       " Low Priority   : 84   Mean   : 7    2018-10-11 13:44:00:  2  \n",
       " Medium Priority:110   3rd Qu.:10    2018-10-11 13:45:41:  2  \n",
       " Not a Priority :107   Max.   :17    2018-10-11 16:22:38:  2  \n",
       "                       NA's   :852   (Other)            :491  \n",
       "           PG5_7NDYP     PG5_7Order                PG5_7Time  \n",
       "                :934   Min.   : 1                       :934  \n",
       " Essential      :  8   1st Qu.: 4    2018-10-11 13:18:50:  2  \n",
       " High Priority  : 31   Median : 7    2018-10-11 14:23:19:  2  \n",
       " Low Priority   : 93   Mean   : 7    2018-10-11 13:14:22:  1  \n",
       " Medium Priority: 52   3rd Qu.:11    2018-10-11 13:14:50:  1  \n",
       " Not a Priority :235   Max.   :17    2018-10-11 13:15:08:  1  \n",
       "                       NA's   :934   (Other)            :412  \n",
       "            PG5_8CP      PG5_8Order                PG5_8Time  \n",
       "                :715   Min.   : 1                       :715  \n",
       " Essential      :232   1st Qu.: 1    2018-10-11 13:29:46:  2  \n",
       " High Priority  :197   Median : 4    2018-10-11 13:37:00:  2  \n",
       " Low Priority   : 52   Mean   : 5    2018-10-11 13:38:36:  2  \n",
       " Medium Priority:121   3rd Qu.: 8    2018-10-11 13:39:22:  2  \n",
       " Not a Priority : 36   Max.   :20    2018-10-11 14:02:46:  2  \n",
       "                       NA's   :715   (Other)            :628  \n",
       "            PG5_9FRP     PG5_9Order                PG5_9Time  \n",
       "                :738   Min.   : 1                       :738  \n",
       " Essential      :165   1st Qu.: 2    2018-10-11 13:35:13:  2  \n",
       " High Priority  :243   Median : 4    2018-10-11 13:37:34:  2  \n",
       " Low Priority   : 42   Mean   : 5    2018-10-11 14:02:44:  2  \n",
       " Medium Priority:125   3rd Qu.: 9    2018-10-11 13:14:17:  1  \n",
       " Not a Priority : 40   Max.   :19    2018-10-11 13:14:52:  1  \n",
       "                       NA's   :738   (Other)            :607  \n",
       "           PG5_10RPA    PG5_10Order                PG5_10Time \n",
       "                :779   Min.   : 1                       :779  \n",
       " Essential      : 55   1st Qu.: 2    2018-10-11 13:17:47:  2  \n",
       " High Priority  :204   Median : 5    2018-10-11 13:27:48:  2  \n",
       " Low Priority   : 79   Mean   : 6    2018-10-11 13:45:33:  2  \n",
       " Medium Priority:151   3rd Qu.: 9    2018-10-11 15:30:40:  2  \n",
       " Not a Priority : 85   Max.   :22    2018-10-11 15:48:40:  2  \n",
       "                       NA's   :779   (Other)            :564  \n",
       "           PG5_11NSG    PG5_11Order                PG5_11Time \n",
       "                :890   Min.   : 1                       :890  \n",
       " Essential      :  6   1st Qu.: 4    2018-10-11 13:19:44:  2  \n",
       " High Priority  : 29   Median : 6    2018-10-11 13:21:53:  2  \n",
       " Low Priority   : 89   Mean   : 7    2018-10-11 13:31:08:  2  \n",
       " Medium Priority: 68   3rd Qu.:10    2018-10-11 13:40:48:  2  \n",
       " Not a Priority :271   Max.   :18    2018-10-11 14:55:47:  2  \n",
       "                       NA's   :890   (Other)            :453  \n",
       "           PG5_12NWG    PG5_12Order                PG5_12Time \n",
       "                :916   Min.   : 1                       :916  \n",
       " High Priority  : 10   1st Qu.: 5    2018-10-11 13:30:08:  2  \n",
       " Low Priority   : 77   Median : 7    2018-10-11 13:31:20:  2  \n",
       " Medium Priority: 25   Mean   : 7    2018-10-11 14:55:40:  2  \n",
       " Not a Priority :325   3rd Qu.:11    2018-10-11 13:14:46:  1  \n",
       "                       Max.   :18    2018-10-11 13:14:50:  1  \n",
       "                       NA's   :916   (Other)            :429  \n",
       "           PG5_13NFG    PG5_13Order                PG5_13Time    PG5Submit   \n",
       "                :920   Min.   : 1                       :920   Min.   :   3  \n",
       " High Priority  : 10   1st Qu.: 4    2018-10-11 13:17:39:  2   1st Qu.:  45  \n",
       " Low Priority   : 76   Median : 7    2018-10-11 13:35:20:  2   Median :  62  \n",
       " Medium Priority: 37   Mean   : 7    2018-10-11 13:35:56:  2   Mean   :  87  \n",
       " Not a Priority :310   3rd Qu.:10    2018-10-11 15:42:36:  2   3rd Qu.:  84  \n",
       "                       Max.   :17    2018-10-11 13:14:41:  1   Max.   :4130  \n",
       "                       NA's   :920   (Other)            :424   NA's   :544   \n",
       "              PG6Resp      PG6Submit         PG7R      PG7C.C..     PG7Java    \n",
       "                  :549   Min.   :   1   R      :684        :1268        :1306  \n",
       " 13 - 19 years    : 50   1st Qu.:   7          :614   C/C++:  84   Java :  46  \n",
       " 2 - 5 years      :332   Median :   9   Perl   :  6   Cobol:   1   scala:   1  \n",
       " 20 years or more : 45   Mean   :  24   PHP    :  5                            \n",
       " 6 - 8 years      :112   3rd Qu.:  12   SQL    :  5                            \n",
       " 9 - 12 years     : 70   Max.   :5759   Ruby   :  4                            \n",
       " Less than 2 years:195   NA's   :543    (Other): 35                            \n",
       "  PG7Python       PG7Javascript  PG7Go     PG7C.        PG7Other   \n",
       "       :1129             :1304     :1351     :1330          :1283  \n",
       " Python: 223   Javascript:  48   Go:   2   C#:  23   Other  :  62  \n",
       " perl  :   1   sql       :   1                       PHP    :   2  \n",
       "                                                     Matlab :   1  \n",
       "                                                     Ruby   :   1  \n",
       "                                                     SAS    :   1  \n",
       "                                                     (Other):   3  \n",
       "   PG7Submit                PG8Resp      PG8Submit           PG9Resp   \n",
       " Min.   :  1                    :570   Min.   :  1               :562  \n",
       " 1st Qu.:  6   Data Scientist   :379   1st Qu.:  5   2 - 3       :229  \n",
       " Median :  8   Software Engineer: 55   Median :  8   4 - 6       :166  \n",
       " Mean   : 11   Student          : 24   Mean   : 12   7 - 10      :122  \n",
       " 3rd Qu.: 11   Researcher       : 15   3rd Qu.: 14   1           : 94  \n",
       " Max.   :777   PhD student      : 10   Max.   :207   More than 25: 92  \n",
       " NA's   :542   (Other)          :300   NA's   :546   (Other)     : 88  \n",
       "   PG9Submit                                            PG10Resp  \n",
       " Min.   :    0                                              :565  \n",
       " 1st Qu.:    7   Native                                     :424  \n",
       " Median :   10   Not native - full working proficiency      :263  \n",
       " Mean   :   40   Not native - limited working proficiency   : 17  \n",
       " 3rd Qu.:   14   Not native - passable                      :  5  \n",
       " Max.   :20126   Not native - sufficient working proficiency: 77  \n",
       " NA's   :547     Not native - very limited                  :  2  \n",
       "   PG10Submit                   PG11Resp     PG11Submit         PG12Resp  \n",
       " Min.   :   1                       :576   Min.   :  1              :590  \n",
       " 1st Qu.:   5   Female              : 96   1st Qu.:  4   18 - 24    : 34  \n",
       " Median :   7   Male                :652   Median :  4   25 - 34    :338  \n",
       " Mean   :  17   Prefer not to answer: 29   Mean   :  6   35 - 44    :258  \n",
       " 3rd Qu.:  11                              3rd Qu.:  5   45 - 54    : 89  \n",
       " Max.   :5966                              Max.   :605   55 - 64    : 36  \n",
       " NA's   :546                               NA's   :548   65 and over:  8  \n",
       "   PG12Submit  \n",
       " Min.   :   1  \n",
       " 1st Qu.:   4  \n",
       " Median :   5  \n",
       " Mean   :   8  \n",
       " 3rd Qu.:   6  \n",
       " Max.   :1566  \n",
       " NA's   :548   "
      ]
     },
     "metadata": {},
     "output_type": "display_data"
    }
   ],
   "source": [
    "#now explore variables\n",
    "summary(data);"
   ]
  },
  {
   "cell_type": "markdown",
   "metadata": {},
   "source": [
    "### Hypothesis\n",
    "The # of stars on Git will affect the priority, and the popularity for picking a package. "
   ]
  },
  {
   "cell_type": "markdown",
   "metadata": {},
   "source": [
    "Data prepared:\n",
    "Response that are not relevant to my response will be removed. Takes only responses for PG5 that are associate with priority."
   ]
  },
  {
   "cell_type": "code",
   "execution_count": 38,
   "metadata": {
    "scrolled": true
   },
   "outputs": [
    {
     "data": {
      "text/plain": [
       "           PG5_1RRPQ             PG5_2BNUI              PG5_3HDS  \n",
       "                :877                  :923                  :768  \n",
       " Essential      : 60   Essential      :  3   Essential      :103  \n",
       " High Priority  :102   High Priority  : 26   High Priority  :200  \n",
       " Low Priority   : 85   Low Priority   :121   Low Priority   : 69  \n",
       " Medium Priority:134   Medium Priority: 92   Medium Priority:162  \n",
       " Not a Priority : 95   Not a Priority :188   Not a Priority : 51  \n",
       "            PG5_4VGP              PG5_5PHR             PG5_6SSYOP \n",
       "                :852                  :753                  :852  \n",
       " Essential      : 22   Essential      : 79   Essential      : 63  \n",
       " High Priority  :111   High Priority  :252   High Priority  :137  \n",
       " Low Priority   : 88   Low Priority   : 63   Low Priority   : 84  \n",
       " Medium Priority:164   Medium Priority:162   Medium Priority:110  \n",
       " Not a Priority :116   Not a Priority : 44   Not a Priority :107  \n",
       "           PG5_7NDYP              PG5_8CP               PG5_9FRP  \n",
       "                :934                  :715                  :738  \n",
       " Essential      :  8   Essential      :232   Essential      :165  \n",
       " High Priority  : 31   High Priority  :197   High Priority  :243  \n",
       " Low Priority   : 93   Low Priority   : 52   Low Priority   : 42  \n",
       " Medium Priority: 52   Medium Priority:121   Medium Priority:125  \n",
       " Not a Priority :235   Not a Priority : 36   Not a Priority : 40  \n",
       "           PG5_10RPA             PG5_11NSG             PG5_12NWG  \n",
       "                :779                  :890                  :916  \n",
       " Essential      : 55   Essential      :  6   High Priority  : 10  \n",
       " High Priority  :204   High Priority  : 29   Low Priority   : 77  \n",
       " Low Priority   : 79   Low Priority   : 89   Medium Priority: 25  \n",
       " Medium Priority:151   Medium Priority: 68   Not a Priority :325  \n",
       " Not a Priority : 85   Not a Priority :271                        \n",
       "           PG5_13NFG  \n",
       "                :920  \n",
       " High Priority  : 10  \n",
       " Low Priority   : 76  \n",
       " Medium Priority: 37  \n",
       " Not a Priority :310  \n",
       "                      "
      ]
     },
     "metadata": {},
     "output_type": "display_data"
    }
   ],
   "source": [
    "datas <- select(data, starts_with('PG5'), -ends_with('Order'), -ends_with('Time'), -ends_with('Submit'))\n",
    "summary(datas)"
   ]
  },
  {
   "cell_type": "markdown",
   "metadata": {},
   "source": [
    "### Correlation"
   ]
  },
  {
   "cell_type": "code",
   "execution_count": 39,
   "metadata": {
    "scrolled": false
   },
   "outputs": [
    {
     "data": {
      "text/html": [
       "<dl class=dl-horizontal>\n",
       "\t<dt>Essential</dt>\n",
       "\t\t<dd>6</dd>\n",
       "\t<dt>High Priority</dt>\n",
       "\t\t<dd>29</dd>\n",
       "\t<dt>Low Priority</dt>\n",
       "\t\t<dd>89</dd>\n",
       "\t<dt>Medium Priority</dt>\n",
       "\t\t<dd>68</dd>\n",
       "\t<dt>Not a Priority</dt>\n",
       "\t\t<dd>271</dd>\n",
       "</dl>\n"
      ],
      "text/latex": [
       "\\begin{description*}\n",
       "\\item[Essential] 6\n",
       "\\item[High Priority] 29\n",
       "\\item[Low Priority] 89\n",
       "\\item[Medium Priority] 68\n",
       "\\item[Not a Priority] 271\n",
       "\\end{description*}\n"
      ],
      "text/markdown": [
       "Essential\n",
       ":   6High Priority\n",
       ":   29Low Priority\n",
       ":   89Medium Priority\n",
       ":   68Not a Priority\n",
       ":   271\n",
       "\n"
      ],
      "text/plain": [
       "      Essential   High Priority    Low Priority Medium Priority  Not a Priority \n",
       "              6              29              89              68             271 "
      ]
     },
     "metadata": {},
     "output_type": "display_data"
    }
   ],
   "source": [
    "# Shows number of Data point that is related to the #stars on the Git \n",
    "datas <- filter(datas, PG5_11NSG != '')\n",
    "datas$PG5_11NSG <- factor(datas$PG5_11NSG)\n",
    "summary(datas$PG5_11NSG)"
   ]
  },
  {
   "cell_type": "markdown",
   "metadata": {},
   "source": [
    "#remove variables that does not have correlation "
   ]
  },
  {
   "cell_type": "code",
   "execution_count": 53,
   "metadata": {},
   "outputs": [],
   "source": [
    "for(i in colnames(data))\n",
    "{\n",
    "    data[,i] <- as.numeric (data[,i]);\n",
    "}\n",
    "data <- replace(data, is.na(data), 0)\n"
   ]
  },
  {
   "cell_type": "markdown",
   "metadata": {},
   "source": [
    "### linear regression model"
   ]
  },
  {
   "cell_type": "code",
   "execution_count": 51,
   "metadata": {
    "scrolled": true
   },
   "outputs": [
    {
     "data": {
      "text/plain": [
       "\n",
       "Call:\n",
       "lm(formula = PG5_11NSG ~ ., data = datas)\n",
       "\n",
       "Residuals:\n",
       "   Min     1Q Median     3Q    Max \n",
       "-3.051 -0.670  0.312  0.543  2.177 \n",
       "\n",
       "Coefficients:\n",
       "            Estimate Std. Error t value Pr(>|t|)    \n",
       "(Intercept)   2.2403     0.2045   10.95  < 2e-16 ***\n",
       "PG5_1RRPQ     0.0094     0.0359    0.26   0.7935    \n",
       "PG5_2BNUI     0.0740     0.0396    1.87   0.0619 .  \n",
       "PG5_3HDS     -0.0451     0.0333   -1.35   0.1761    \n",
       "PG5_4VGP      0.0129     0.0358    0.36   0.7190    \n",
       "PG5_5PHR      0.0027     0.0368    0.07   0.9417    \n",
       "PG5_6SSYOP    0.0205     0.0326    0.63   0.5299    \n",
       "PG5_7NDYP    -0.0411     0.0347   -1.18   0.2377    \n",
       "PG5_8CP       0.0613     0.0344    1.78   0.0754 .  \n",
       "PG5_9FRP      0.0555     0.0349    1.59   0.1128    \n",
       "PG5_10RPA     0.0109     0.0341    0.32   0.7491    \n",
       "PG5_12NWG     0.1943     0.0475    4.09  5.1e-05 ***\n",
       "PG5_13NFG     0.1389     0.0475    2.93   0.0036 ** \n",
       "---\n",
       "Signif. codes:  0 '***' 0.001 '**' 0.01 '*' 0.05 '.' 0.1 ' ' 1\n",
       "\n",
       "Residual standard error: 0.93 on 450 degrees of freedom\n",
       "Multiple R-squared:  0.233,\tAdjusted R-squared:  0.213 \n",
       "F-statistic: 11.4 on 12 and 450 DF,  p-value: <2e-16\n"
      ]
     },
     "metadata": {},
     "output_type": "display_data"
    }
   ],
   "source": [
    "for(i in colnames(datas))\n",
    "{\n",
    "    datas[,i] <- as.numeric (datas[,i]);\n",
    "}\n",
    "datas <- replace(datas, is.na(datas), 0)\n",
    "MODEL <- lm(PG5_11NSG ~ ., data = datas)\n",
    "summary(MODEL)"
   ]
  },
  {
   "cell_type": "markdown",
   "metadata": {},
   "source": [
    "### Conclusion\n",
    "There are 5 variables show less than 0.05 p-value out of 13 variables. Therefore, 61% (8 divided by 13) of the data are not significant to rejeccts the hypothesis that the #stars on Git is corelated to the priority. However, the adjusted r^2 value of .213 corelates only 21.3% of data, which is not significant enough to support the positive corelation and to support or hypothesis. "
   ]
  },
  {
   "cell_type": "markdown",
   "metadata": {},
   "source": [
    "### potential improvment / topic for future research \n",
    "We should eliminate the results with too long/short survey time. The ones are longer than 25min or less than 3min should be eliminated. Also, we should only take those \"completed\" survey into account. The \"NaN\"/blank values gives technical issue in data cleaning and affects the result coeifficient.  "
   ]
  }
 ],
 "metadata": {
  "kernelspec": {
   "display_name": "R",
   "language": "R",
   "name": "ir"
  },
  "language_info": {
   "codemirror_mode": "r",
   "file_extension": ".r",
   "mimetype": "text/x-r-source",
   "name": "R",
   "pygments_lexer": "r",
   "version": "3.4.4"
  }
 },
 "nbformat": 4,
 "nbformat_minor": 1
}
