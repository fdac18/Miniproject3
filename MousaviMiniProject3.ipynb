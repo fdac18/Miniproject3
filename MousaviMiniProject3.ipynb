{
 "cells": [
  {
   "cell_type": "code",
   "execution_count": 28,
   "metadata": {},
   "outputs": [],
   "source": [
    "#The goal of this assignment is to creat a prediction model on the priority variables\n",
    "# My assigned responce variable is PG5_5PHR\n",
    "#The data is 1353 samples/observations and 82 different feature columns.\n",
    "\n",
    "\n",
    "\n",
    "##### Reading in the data #######\n",
    "# For nicer printing\n",
    "options(digits=2);\n",
    "data <- read.csv(\"TechSurvey - Survey.csv\",header=T);\n",
    "#convert date to unix second\n",
    "for (i in c(\"Start\", \"End\"))\n",
    "  data[,i] = as.numeric(as.POSIXct(strptime(data[,i], \"%Y-%m-%d %H:%M:%S\")))\n",
    "\n",
    "for (i in 0:12){\n",
    "  vnam = paste(c(\"PG\",i,\"Submit\"), collapse=\"\")\n",
    "  data[,vnam] = as.numeric(as.POSIXct(strptime(data[,vnam], \"%Y-%m-%d %H:%M:%S\")))\n",
    "}\n",
    "#calculate differences in time\n",
    "for (i in 12:0){\n",
    "  pv = paste(c(\"PG\",i-1,\"Submit\"), collapse=\"\");\n",
    "  if (i==0)\n",
    "    pv=\"Start\";\n",
    "  vnam = paste(c(\"PG\",i,\"Submit\"), collapse=\"\");\n",
    "  data[,vnam] = data[,vnam] -data[,pv];\n",
    "}"
   ]
  },
  {
   "cell_type": "code",
   "execution_count": 29,
   "metadata": {},
   "outputs": [
    {
     "data": {},
     "metadata": {},
     "output_type": "display_data"
    },
    {
     "data": {
      "image/png": "[encoded data removed]",
      "text/plain": [
       "plot without title"
      ]
     },
     "metadata": {},
     "output_type": "display_data"
    }
   ],
   "source": [
    "####### The simple questions are ##########\n",
    "# 1. Time to take entire survey? In order to get that, I get the average time for all of the observcations which is 680 seconds. (total = 680)\n",
    "      total = mean(data$End - data$Start, na.rm = TRUE)\n",
    "      \n",
    "# 2. Question that took the longest to complete?\n",
    "      submit_times <- data[, grep(\"Submit\", colnames(data), value = TRUE)]\n",
    "      #extract page 0\n",
    "      submit_times = submit_times[, -c(1)]\n",
    "      #average time of each question \n",
    "      submit_means = apply(submit_times, 2, mean, na.rm = TRUE)\n",
    "      longest = names(submit_means[which(submit_means == max(submit_means))])\n",
    "      #longest = PG5Submit which is reasonable because this is the hardet and most generic question in the survey\n",
    "      \n",
    "# 3. Question that took the least time?\n",
    "      shortest = names(submit_means[which(submit_means == min(submit_means))])\n",
    "      #shortest = PG11Submit which is asking the gender and is very easy to answer!\n",
    "      \n",
    "# 4. Top-ranked criteria?\n",
    "      ranked = data[, grep(\"PG5\", colnames(data), value = TRUE)]\n",
    "      ordered = ranked[, grep(\"Order\", colnames(ranked), value = TRUE)]\n",
    "      means = apply(ordered, 2, mean, na.rm = TRUE)\n",
    "      top_ranked = names(means[which(means == max(means))])\n",
    "      #top_ranked = PG5_2Order which is \n",
    "      \n",
    "# 5. Demographic distribution by age?\n",
    "      library(ggplot2)\n",
    "      Ages = data[,81]\n",
    "      ggplot(data.frame(data[,81]), aes(x=Ages)) + geom_bar()\n",
    "      #As the plot shows from the people who have answered this question the majority of the are within the range of 25-34\n"
   ]
  },
  {
   "cell_type": "markdown",
   "metadata": {},
   "source": [
    "# Hypothesis:\n",
    "I think the priority is going to be effected by the experince of the programmer.\n",
    "For example if the programmer is a software developer they might care\n",
    "more about the reputation of the package that they are using. I would also hink that\n",
    "it might be effected by the level of experince and the languages that they use."
   ]
  },
  {
   "cell_type": "markdown",
   "metadata": {},
   "source": [
    "## Explanation how needed measures are calculated from the provided data\n",
    "In order to be able to to a modeling on the data I need to extract the columns that are related to my responce variable. Doing some statistic such as corrolation I can find the highly correlated variables and exclude them from my model. As for the model, I use RandomForest and AUC to check the accuracy of the model. In order to know what variables are important I used the \"importance\" function in R.\n",
    "## descriptive analysis of the proposed measures\n",
    "The following code and the comments describes this. \n",
    "## transformation and cleaning statement\n",
    "I needed to clean the data by removing the columns with too many unique variables but not too man observations for each. In addition removing highly correlated variables plus the un necessory variable for PG4. "
   ]
  },
  {
   "cell_type": "code",
   "execution_count": 30,
   "metadata": {},
   "outputs": [
    {
     "data": {
      "text/plain": [
       "     Device    Completed       Start               End               PG0Dis   \n",
       "        :  0   0    :  0   Min.   :1.54e+09   Min.   :1.54e+09   Min.   :  0  \n",
       " Bot    :  0   FALSE:  8   1st Qu.:1.54e+09   1st Qu.:1.54e+09   1st Qu.:  0  \n",
       " PC     :462   TRUE :592   Median :1.54e+09   Median :1.54e+09   Median :  1  \n",
       " Phone  :128               Mean   :1.54e+09   Mean   :1.54e+09   Mean   : 46  \n",
       " Tablet : 10               3rd Qu.:1.54e+09   3rd Qu.:1.54e+09   3rd Qu.: 24  \n",
       " Unknown:  0               Max.   :1.54e+09   Max.   :1.54e+09   Max.   :168  \n",
       "                                              NA's   :8          NA's   :36   \n",
       "    PG0Shown      PG0Submit    \n",
       " Min.   :   0   Min.   :    2  \n",
       " 1st Qu.:   0   1st Qu.:    6  \n",
       " Median : 119   Median :    9  \n",
       " Mean   : 268   Mean   :  218  \n",
       " 3rd Qu.: 471   3rd Qu.:   15  \n",
       " Max.   :1190   Max.   :76226  \n",
       " NA's   :36                    \n",
       "                                       PG1PsnUse  \n",
       " For personal work and/or research use      :418  \n",
       "                                            :172  \n",
       " Chapter book                               :  1  \n",
       " For training attendees of my sessions      :  1  \n",
       " It's a coures on tidyverse that I developed:  1  \n",
       " Learning how to create a package           :  1  \n",
       " (Other)                                    :  6  \n",
       "                                                                        PG1WdAuth  \n",
       "                                                                             :469  \n",
       " Because Microsoft was paying me to do it                                    :  0  \n",
       " For a wider audience, such as developers of other packages or other software:129  \n",
       " Hackathon                                                                   :  1  \n",
       " Tool for other researchers to analyse their data                            :  1  \n",
       "                                                                                   \n",
       "                                                                                   \n",
       "                                PG1Trn      PG1Submit       PG2Resp   \n",
       "                                   :497   Min.   :  1           : 20  \n",
       " For a training / class that I took:102   1st Qu.: 11   No      :251  \n",
       " teaching economics                :  1   Median : 16   Not sure:173  \n",
       "                                          Mean   : 31   Yes     :156  \n",
       "                                          3rd Qu.: 31                 \n",
       "                                          Max.   :819                 \n",
       "                                                                      \n",
       "   PG2Submit      PG3Submit      PG4AllResp     PG4Submit  \n",
       " Min.   :   1   Min.   :   1   Min.   : 0.0   Min.   :  1  \n",
       " 1st Qu.:   9   1st Qu.:  16   1st Qu.: 8.0   1st Qu.:  6  \n",
       " Median :  14   Median :  24   Median : 9.0   Median :  7  \n",
       " Mean   :  32   Mean   :  48   Mean   : 8.6   Mean   :  9  \n",
       " 3rd Qu.:  32   3rd Qu.:  43   3rd Qu.:10.0   3rd Qu.:  9  \n",
       " Max.   :1470   Max.   :4648   Max.   :10.0   Max.   :332  \n",
       "                NA's   :1      NA's   :23     NA's   :2    \n",
       "              PG6Resp      PG6Submit         PG7R      PG7C.C..    PG7Java   \n",
       "                  :  7   Min.   :   1   R      :507        :537        :567  \n",
       " 13 - 19 years    : 33   1st Qu.:   7          : 45   C/C++: 62   Java : 32  \n",
       " 2 - 5 years      :251   Median :   9   Perl   :  6   Cobol:  1   scala:  1  \n",
       " 20 years or more : 33   Mean   :  19   PHP    :  5                          \n",
       " 6 - 8 years      : 79   3rd Qu.:  12   SQL    :  5                          \n",
       " 9 - 12 years     : 56   Max.   :4862   Stata  :  3                          \n",
       " Less than 2 years:141   NA's   :4      (Other): 29                          \n",
       "  PG7Python      PG7Javascript PG7Go    PG7C.      PG7Submit     PG8Submit  \n",
       "       :435             :563     :598     :584   Min.   :  1   Min.   :  1  \n",
       " Python:164   Javascript: 37   Go:  2   C#: 16   1st Qu.:  6   1st Qu.:  5  \n",
       " perl  :  1   sql       :  0                     Median :  8   Median :  8  \n",
       "                                                 Mean   : 11   Mean   : 12  \n",
       "                                                 3rd Qu.: 11   3rd Qu.: 14  \n",
       "                                                 Max.   :777   Max.   :207  \n",
       "                                                 NA's   :3     NA's   :6    \n",
       "         PG9Resp      PG9Submit    \n",
       " 2 - 3       :166   Min.   :    0  \n",
       " 4 - 6       :125   1st Qu.:    7  \n",
       " 7 - 10      : 93   Median :   10  \n",
       " More than 25: 65   Mean   :   47  \n",
       " 1           : 64   3rd Qu.:   13  \n",
       " 11 - 15     : 48   Max.   :20126  \n",
       " (Other)     : 39   NA's   :7      \n",
       "                                        PG10Resp     PG10Submit\n",
       "                                            : 19   Min.   : 1  \n",
       " Native                                     :345   1st Qu.: 5  \n",
       " Not native - full working proficiency      :171   Median : 7  \n",
       " Not native - limited working proficiency   : 13   Mean   : 8  \n",
       " Not native - passable                      :  3   3rd Qu.:10  \n",
       " Not native - sufficient working proficiency: 48   Max.   :51  \n",
       " Not native - very limited                  :  1   NA's   :6   \n",
       "                 PG11Resp     PG11Submit         PG12Resp     PG12Submit\n",
       "                     : 28   Min.   :  1              : 36   Min.   : 1  \n",
       " Female              : 67   1st Qu.:  4   18 - 24    : 23   1st Qu.: 4  \n",
       " Male                :485   Median :  4   25 - 34    :264   Median : 5  \n",
       " Prefer not to answer: 20   Mean   :  7   35 - 44    :180   Mean   : 6  \n",
       "                            3rd Qu.:  5   45 - 54    : 69   3rd Qu.: 6  \n",
       "                            Max.   :605   55 - 64    : 23   Max.   :85  \n",
       "                            NA's   :8     65 and over:  5   NA's   :8   \n",
       "            PG5_5PHR  \n",
       "                :  0  \n",
       " Essential      : 79  \n",
       " High Priority  :252  \n",
       " Low Priority   : 63  \n",
       " Medium Priority:162  \n",
       " Not a Priority : 44  \n",
       "                      "
      ]
     },
     "metadata": {},
     "output_type": "display_data"
    }
   ],
   "source": [
    "# Explanation how needed measures are calculated from the provided data\n",
    "# descriptive analysis of the proposed measures\n",
    "# transformation and cleaning statement\n",
    "      \n",
    "  # The following is how I extract the columns that are related to my responce variable\n",
    "  # Not all of the extracted valuses are going to be used in the model though.\n",
    "\n",
    "  # My responce variable is PG5_5PHR = data[,'PG5_5PHR']\n",
    "  # remove all other variables in page 5 other than mine\n",
    "      \n",
    "  #fixing the name of the responce column for the 3rd question\n",
    "  colnames(data)[grep(\"PG2Resp.1\", colnames(data))] = \"PG3Resp\"\n",
    "  #find the title of the columns\n",
    "  col_names = colnames(data)\n",
    "  #Find the index of columns that are in page 5\n",
    "  col5_ind = c(grep(\"PG5\", col_names))\n",
    "  #Find the index of my resmonce variable \n",
    "  mine = c(grep(\"PG5_5PHR\", col_names))\n",
    "  #remove the index of my responce variable from the list of the columns that are going to be deleted\n",
    "  col5_ind = col5_ind[-grep(mine, col5_ind)]\n",
    "  \n",
    "  #times_ind = match(c(\"End\", \"Start\"), col_names)\n",
    "  #times_ind= c(times_ind, grep(\"Submit\", col_names))\n",
    "  #ind = c (col5_ind, times_ind)\n",
    "  \n",
    "  ###Removing columns related to page 4 that I don't need.\n",
    "  col4_ind = match(c(\"PG4Dtr0_6\", \"PG4Psv7_8\", \"PG4Prm9_10\"), colnames(data))\n",
    "  colOther_ind = match(c(\"PG7Other\", \"PG1Other\"), colnames(data)) #remove the \"other\" columns\n",
    "  lotsUniq_ind = match(c(\"PG3Resp\", \"PG8Resp\"), colnames(data)) #remove variable with too many uniquw values\n",
    "  \n",
    "  ind = c(col4_ind, col5_ind, colOther_ind,lotsUniq_ind)\n",
    "  \n",
    "  model_data = data[,-ind]\n",
    "\n",
    "  \n",
    "  model_data<- model_data[,c(1:16,18:ncol(model_data), 17)]\n",
    "  \n",
    "  ## those observation that are epmty need to be removes\n",
    "  model_data<- model_data[-c(which(model_data[,\"PG5_5PHR\"]==\"\")),]\n",
    "  \n",
    "  summary(model_data)\n",
    "  \n"
   ]
  },
  {
   "cell_type": "code",
   "execution_count": 31,
   "metadata": {},
   "outputs": [
    {
     "data": {
      "text/html": [
       "<table>\n",
       "<thead><tr><th></th><th scope=col>row</th><th scope=col>col</th></tr></thead>\n",
       "<tbody>\n",
       "\t<tr><th scope=row>End</th><td>2</td><td>1</td></tr>\n",
       "\t<tr><th scope=row>Start</th><td>1</td><td>2</td></tr>\n",
       "\t<tr><th scope=row>PG0Shown</th><td>4</td><td>3</td></tr>\n",
       "\t<tr><th scope=row>PG0Dis</th><td>3</td><td>4</td></tr>\n",
       "</tbody>\n",
       "</table>\n"
      ],
      "text/latex": [
       "\\begin{tabular}{r|ll}\n",
       "  & row & col\\\\\n",
       "\\hline\n",
       "\tEnd & 2 & 1\\\\\n",
       "\tStart & 1 & 2\\\\\n",
       "\tPG0Shown & 4 & 3\\\\\n",
       "\tPG0Dis & 3 & 4\\\\\n",
       "\\end{tabular}\n"
      ],
      "text/markdown": [
       "\n",
       "| <!--/--> | row | col | \n",
       "|---|---|---|---|\n",
       "| End | 2 | 1 | \n",
       "| Start | 1 | 2 | \n",
       "| PG0Shown | 4 | 3 | \n",
       "| PG0Dis | 3 | 4 | \n",
       "\n",
       "\n"
      ],
      "text/plain": [
       "         row col\n",
       "End      2   1  \n",
       "Start    1   2  \n",
       "PG0Shown 4   3  \n",
       "PG0Dis   3   4  "
      ]
     },
     "metadata": {},
     "output_type": "display_data"
    },
    {
     "data": {
      "text/html": [
       "<ol class=list-inline>\n",
       "\t<li>'End'</li>\n",
       "\t<li>'Start'</li>\n",
       "\t<li>'PG0Shown'</li>\n",
       "\t<li>'PG0Dis'</li>\n",
       "</ol>\n"
      ],
      "text/latex": [
       "\\begin{enumerate*}\n",
       "\\item 'End'\n",
       "\\item 'Start'\n",
       "\\item 'PG0Shown'\n",
       "\\item 'PG0Dis'\n",
       "\\end{enumerate*}\n"
      ],
      "text/markdown": [
       "1. 'End'\n",
       "2. 'Start'\n",
       "3. 'PG0Shown'\n",
       "4. 'PG0Dis'\n",
       "\n",
       "\n"
      ],
      "text/plain": [
       "[1] \"End\"      \"Start\"    \"PG0Shown\" \"PG0Dis\"  "
      ]
     },
     "metadata": {},
     "output_type": "display_data"
    }
   ],
   "source": [
    " # correlation analysis and a statement about whhether or not some of the measures are too correlated and need to be dropped\n",
    "  #get numeric fields only for correlation\n",
    "  sel = c()\n",
    "  for (i in 1:dim(model_data)[2]) if (is.numeric(model_data[,i])) sel = c(sel, i);\n",
    "  correlation <- cor(model_data[,sel],method=\"spearman\",use=\"pairwise.complete.obs\"); #OK for any: uses ranks\n",
    "  hight_cor <- which(abs(correlation) > 0.7 & abs(correlation) < 0.999999, arr.ind = TRUE)\n",
    "  hight_cor\n",
    "  rownames(hight_cor) #= \"End\"      \"Start\"    \"PG0Shown\" \"PG0Dis\"\n",
    "  ## remove the highly correlated columns from model_data\n",
    "  model_data <- model_data[,-c( match(rownames(hight_cor), colnames(model_data)))]"
   ]
  },
  {
   "cell_type": "code",
   "execution_count": 32,
   "metadata": {},
   "outputs": [],
   "source": [
    "  library(rpart)\n",
    "  library(AUC)\n",
    "  library(randomForest)"
   ]
  },
  {
   "cell_type": "markdown",
   "metadata": {},
   "source": [
    "## Model data:"
   ]
  },
  {
   "cell_type": "code",
   "execution_count": 33,
   "metadata": {},
   "outputs": [],
   "source": [
    "  model_data$PG5_5PHR<- as.factor(as.character(model_data$PG5_5PHR))\n",
    "  \n",
    "  #fitting of the statistical model\n",
    "  #Now the data is ready and I need to split the data into train and test\n",
    "  train_ind = sample(1:nrow(model_data), nrow(model_data)*0.75)\n",
    "  train_data = model_data[train_ind,]\n",
    "  test_data = model_data[-c(train_ind),]\n",
    "  \n",
    "  train = train_data[, -c(ncol(train_data))]\n",
    "  train_y = train_data[, ncol(train_data)]\n",
    "  # library(magrittr)\n",
    "  # train = train %>% select(-PG3Resp, -PG8Resp, -PG7, -PG1)\n",
    "  \n",
    "  \n",
    "  test = test_data[, -c(ncol(test_data))]\n",
    "  test_y = test_data[, ncol(test_data)]"
   ]
  },
  {
   "cell_type": "code",
   "execution_count": 34,
   "metadata": {},
   "outputs": [
    {
     "data": {
      "text/html": [
       "0.471014492753623"
      ],
      "text/latex": [
       "0.471014492753623"
      ],
      "text/markdown": [
       "0.471014492753623"
      ],
      "text/plain": [
       "[1] 0.47"
      ]
     },
     "metadata": {},
     "output_type": "display_data"
    },
    {
     "data": {
      "text/html": [
       "<table>\n",
       "<thead><tr><th></th><th scope=col>MeanDecreaseAccuracy</th></tr></thead>\n",
       "<tbody>\n",
       "\t<tr><th scope=row>Device</th><td>-0.257</td></tr>\n",
       "\t<tr><th scope=row>Completed</th><td> 0.000</td></tr>\n",
       "\t<tr><th scope=row>PG0Submit</th><td> 1.575</td></tr>\n",
       "\t<tr><th scope=row>PG1PsnUse</th><td>-0.886</td></tr>\n",
       "\t<tr><th scope=row>PG1WdAuth</th><td> 0.475</td></tr>\n",
       "\t<tr><th scope=row>PG1Trn</th><td>-1.550</td></tr>\n",
       "\t<tr><th scope=row>PG1Submit</th><td>-0.304</td></tr>\n",
       "\t<tr><th scope=row>PG2Resp</th><td>-1.114</td></tr>\n",
       "\t<tr><th scope=row>PG2Submit</th><td>-0.759</td></tr>\n",
       "\t<tr><th scope=row>PG3Submit</th><td>-0.680</td></tr>\n",
       "\t<tr><th scope=row>PG4AllResp</th><td>-0.967</td></tr>\n",
       "\t<tr><th scope=row>PG4Submit</th><td>-1.185</td></tr>\n",
       "\t<tr><th scope=row>PG6Resp</th><td> 0.416</td></tr>\n",
       "\t<tr><th scope=row>PG6Submit</th><td> 2.322</td></tr>\n",
       "\t<tr><th scope=row>PG7R</th><td> 0.072</td></tr>\n",
       "\t<tr><th scope=row>PG7C.C..</th><td>-2.188</td></tr>\n",
       "\t<tr><th scope=row>PG7Java</th><td> 0.122</td></tr>\n",
       "\t<tr><th scope=row>PG7Python</th><td>-1.592</td></tr>\n",
       "\t<tr><th scope=row>PG7Javascript</th><td>-0.329</td></tr>\n",
       "\t<tr><th scope=row>PG7Go</th><td>-1.005</td></tr>\n",
       "\t<tr><th scope=row>PG7C.</th><td>-0.793</td></tr>\n",
       "\t<tr><th scope=row>PG7Submit</th><td>-0.202</td></tr>\n",
       "\t<tr><th scope=row>PG8Submit</th><td> 0.720</td></tr>\n",
       "\t<tr><th scope=row>PG9Resp</th><td>-0.775</td></tr>\n",
       "\t<tr><th scope=row>PG9Submit</th><td> 1.963</td></tr>\n",
       "\t<tr><th scope=row>PG10Resp</th><td> 0.033</td></tr>\n",
       "\t<tr><th scope=row>PG10Submit</th><td> 2.016</td></tr>\n",
       "\t<tr><th scope=row>PG11Resp</th><td> 1.282</td></tr>\n",
       "\t<tr><th scope=row>PG11Submit</th><td> 0.319</td></tr>\n",
       "\t<tr><th scope=row>PG12Resp</th><td>-0.378</td></tr>\n",
       "\t<tr><th scope=row>PG12Submit</th><td> 0.433</td></tr>\n",
       "</tbody>\n",
       "</table>\n"
      ],
      "text/latex": [
       "\\begin{tabular}{r|l}\n",
       "  & MeanDecreaseAccuracy\\\\\n",
       "\\hline\n",
       "\tDevice & -0.257\\\\\n",
       "\tCompleted &  0.000\\\\\n",
       "\tPG0Submit &  1.575\\\\\n",
       "\tPG1PsnUse & -0.886\\\\\n",
       "\tPG1WdAuth &  0.475\\\\\n",
       "\tPG1Trn & -1.550\\\\\n",
       "\tPG1Submit & -0.304\\\\\n",
       "\tPG2Resp & -1.114\\\\\n",
       "\tPG2Submit & -0.759\\\\\n",
       "\tPG3Submit & -0.680\\\\\n",
       "\tPG4AllResp & -0.967\\\\\n",
       "\tPG4Submit & -1.185\\\\\n",
       "\tPG6Resp &  0.416\\\\\n",
       "\tPG6Submit &  2.322\\\\\n",
       "\tPG7R &  0.072\\\\\n",
       "\tPG7C.C.. & -2.188\\\\\n",
       "\tPG7Java &  0.122\\\\\n",
       "\tPG7Python & -1.592\\\\\n",
       "\tPG7Javascript & -0.329\\\\\n",
       "\tPG7Go & -1.005\\\\\n",
       "\tPG7C. & -0.793\\\\\n",
       "\tPG7Submit & -0.202\\\\\n",
       "\tPG8Submit &  0.720\\\\\n",
       "\tPG9Resp & -0.775\\\\\n",
       "\tPG9Submit &  1.963\\\\\n",
       "\tPG10Resp &  0.033\\\\\n",
       "\tPG10Submit &  2.016\\\\\n",
       "\tPG11Resp &  1.282\\\\\n",
       "\tPG11Submit &  0.319\\\\\n",
       "\tPG12Resp & -0.378\\\\\n",
       "\tPG12Submit &  0.433\\\\\n",
       "\\end{tabular}\n"
      ],
      "text/markdown": [
       "\n",
       "| <!--/--> | MeanDecreaseAccuracy | \n",
       "|---|---|---|---|---|---|---|---|---|---|---|---|---|---|---|---|---|---|---|---|---|---|---|---|---|---|---|---|---|---|---|\n",
       "| Device | -0.257 | \n",
       "| Completed |  0.000 | \n",
       "| PG0Submit |  1.575 | \n",
       "| PG1PsnUse | -0.886 | \n",
       "| PG1WdAuth |  0.475 | \n",
       "| PG1Trn | -1.550 | \n",
       "| PG1Submit | -0.304 | \n",
       "| PG2Resp | -1.114 | \n",
       "| PG2Submit | -0.759 | \n",
       "| PG3Submit | -0.680 | \n",
       "| PG4AllResp | -0.967 | \n",
       "| PG4Submit | -1.185 | \n",
       "| PG6Resp |  0.416 | \n",
       "| PG6Submit |  2.322 | \n",
       "| PG7R |  0.072 | \n",
       "| PG7C.C.. | -2.188 | \n",
       "| PG7Java |  0.122 | \n",
       "| PG7Python | -1.592 | \n",
       "| PG7Javascript | -0.329 | \n",
       "| PG7Go | -1.005 | \n",
       "| PG7C. | -0.793 | \n",
       "| PG7Submit | -0.202 | \n",
       "| PG8Submit |  0.720 | \n",
       "| PG9Resp | -0.775 | \n",
       "| PG9Submit |  1.963 | \n",
       "| PG10Resp |  0.033 | \n",
       "| PG10Submit |  2.016 | \n",
       "| PG11Resp |  1.282 | \n",
       "| PG11Submit |  0.319 | \n",
       "| PG12Resp | -0.378 | \n",
       "| PG12Submit |  0.433 | \n",
       "\n",
       "\n"
      ],
      "text/plain": [
       "              MeanDecreaseAccuracy\n",
       "Device        -0.257              \n",
       "Completed      0.000              \n",
       "PG0Submit      1.575              \n",
       "PG1PsnUse     -0.886              \n",
       "PG1WdAuth      0.475              \n",
       "PG1Trn        -1.550              \n",
       "PG1Submit     -0.304              \n",
       "PG2Resp       -1.114              \n",
       "PG2Submit     -0.759              \n",
       "PG3Submit     -0.680              \n",
       "PG4AllResp    -0.967              \n",
       "PG4Submit     -1.185              \n",
       "PG6Resp        0.416              \n",
       "PG6Submit      2.322              \n",
       "PG7R           0.072              \n",
       "PG7C.C..      -2.188              \n",
       "PG7Java        0.122              \n",
       "PG7Python     -1.592              \n",
       "PG7Javascript -0.329              \n",
       "PG7Go         -1.005              \n",
       "PG7C.         -0.793              \n",
       "PG7Submit     -0.202              \n",
       "PG8Submit      0.720              \n",
       "PG9Resp       -0.775              \n",
       "PG9Submit      1.963              \n",
       "PG10Resp       0.033              \n",
       "PG10Submit     2.016              \n",
       "PG11Resp       1.282              \n",
       "PG11Submit     0.319              \n",
       "PG12Resp      -0.378              \n",
       "PG12Submit     0.433              "
      ]
     },
     "metadata": {},
     "output_type": "display_data"
    },
    {
     "data": {
      "image/png": "[encoded data removed]",
      "text/plain": [
       "plot without title"
      ]
     },
     "metadata": {},
     "output_type": "display_data"
    }
   ],
   "source": [
    "  rf<- randomForest(PG5_5PHR ~ . , data=train_data, na.action = na.omit, iter = 100, ntree = 100, importance=TRUE)\n",
    "  pred<- predict(rf, test_data)\n",
    "  AUC::auc(roc(pred,test_y))\n",
    "  varImpPlot(rf, n.var = 10, main = \"Variable Importance\")\n",
    "  importance(rf, type = 1)"
   ]
  },
  {
   "cell_type": "markdown",
   "metadata": {},
   "source": [
    "According to the current model, submit time is one of the important variabls. \n",
    "## Let's remove the submit columns"
   ]
  },
  {
   "cell_type": "code",
   "execution_count": 37,
   "metadata": {},
   "outputs": [
    {
     "name": "stdout",
     "output_type": "stream",
     "text": [
      "'data.frame':\t150 obs. of  20 variables:\n",
      " $ Device       : Factor w/ 6 levels \"\",\"Bot\",\"PC\",..: 3 3 4 4 4 3 3 3 3 3 ...\n",
      " $ Completed    : Factor w/ 3 levels \"0\",\"FALSE\",\"TRUE\": 3 3 3 3 3 3 3 3 3 3 ...\n",
      " $ PG1PsnUse    : Factor w/ 15 levels \"\",\"Chapter book\",..: 3 3 3 3 1 3 3 3 1 3 ...\n",
      " $ PG1WdAuth    : Factor w/ 5 levels \"\",\"Because Microsoft was paying me to do it\",..: 1 1 1 1 1 1 3 1 1 1 ...\n",
      " $ PG1Trn       : Factor w/ 3 levels \"\",\"For a training / class that I took\",..: 1 2 1 1 2 1 1 1 1 1 ...\n",
      " $ PG2Resp      : Factor w/ 4 levels \"\",\"No\",\"Not sure\",..: 4 2 2 3 3 3 2 3 4 4 ...\n",
      " $ PG4AllResp   : int  8 8 7 8 5 NA 9 9 10 10 ...\n",
      " $ PG6Resp      : Factor w/ 7 levels \"\",\"13 - 19 years\",..: 2 7 3 3 7 3 5 3 7 3 ...\n",
      " $ PG7R         : Factor w/ 33 levels \"\",\"Bash, batch\",..: 16 16 16 16 16 16 16 16 16 15 ...\n",
      " $ PG7C.C..     : Factor w/ 3 levels \"\",\"C/C++\",\"Cobol\": 1 2 1 1 1 1 1 2 1 1 ...\n",
      " $ PG7Java      : Factor w/ 3 levels \"\",\"Java\",\"scala\": 1 1 1 1 1 1 1 1 1 1 ...\n",
      " $ PG7Python    : Factor w/ 3 levels \"\",\"Python\",\"perl\": 1 2 2 1 2 2 1 2 2 1 ...\n",
      " $ PG7Javascript: Factor w/ 3 levels \"\",\"Javascript\",..: 1 1 1 1 1 1 1 1 1 1 ...\n",
      " $ PG7Go        : Factor w/ 2 levels \"\",\"Go\": 1 1 1 1 1 1 1 1 1 1 ...\n",
      " $ PG7C.        : Factor w/ 2 levels \"\",\"C#\": 1 1 1 1 1 1 1 1 1 1 ...\n",
      " $ PG9Resp      : Factor w/ 8 levels \"\",\"1\",\"11 - 15\",..: 3 6 2 5 5 6 7 5 7 5 ...\n",
      " $ PG10Resp     : Factor w/ 7 levels \"\",\"Native\",\"Not native - full working proficiency\",..: 2 2 6 3 2 2 6 3 2 6 ...\n",
      " $ PG11Resp     : Factor w/ 4 levels \"\",\"Female\",\"Male\",..: 3 3 2 3 3 3 2 3 2 3 ...\n",
      " $ PG12Resp     : Factor w/ 7 levels \"\",\"18 - 24\",\"25 - 34\",..: 5 4 3 3 3 3 4 4 4 4 ...\n",
      " $ PG5_5PHR     : Factor w/ 5 levels \"Essential\",\"High Priority\",..: 4 1 2 2 5 4 4 2 1 3 ...\n",
      "'data.frame':\t450 obs. of  20 variables:\n",
      " $ Device       : Factor w/ 6 levels \"\",\"Bot\",\"PC\",..: 3 4 3 3 3 4 4 3 3 4 ...\n",
      " $ Completed    : Factor w/ 3 levels \"0\",\"FALSE\",\"TRUE\": 3 3 3 3 3 3 3 3 3 3 ...\n",
      " $ PG1PsnUse    : Factor w/ 15 levels \"\",\"Chapter book\",..: 3 1 3 3 3 3 3 3 3 3 ...\n",
      " $ PG1WdAuth    : Factor w/ 5 levels \"\",\"Because Microsoft was paying me to do it\",..: 1 1 1 1 1 1 1 1 3 1 ...\n",
      " $ PG1Trn       : Factor w/ 3 levels \"\",\"For a training / class that I took\",..: 1 2 1 1 1 2 2 1 1 1 ...\n",
      " $ PG2Resp      : Factor w/ 4 levels \"\",\"No\",\"Not sure\",..: 3 3 2 2 3 3 3 2 4 2 ...\n",
      " $ PG4AllResp   : int  8 10 10 10 8 8 10 10 10 10 ...\n",
      " $ PG6Resp      : Factor w/ 7 levels \"\",\"13 - 19 years\",..: 7 7 5 7 6 3 3 5 4 3 ...\n",
      " $ PG7R         : Factor w/ 33 levels \"\",\"Bash, batch\",..: 16 16 16 16 16 16 16 1 16 16 ...\n",
      " $ PG7C.C..     : Factor w/ 3 levels \"\",\"C/C++\",\"Cobol\": 1 1 1 1 1 1 1 1 1 1 ...\n",
      " $ PG7Java      : Factor w/ 3 levels \"\",\"Java\",\"scala\": 1 1 1 1 1 1 1 1 1 1 ...\n",
      " $ PG7Python    : Factor w/ 3 levels \"\",\"Python\",\"perl\": 1 2 2 1 1 1 2 2 1 1 ...\n",
      " $ PG7Javascript: Factor w/ 3 levels \"\",\"Javascript\",..: 1 1 1 1 1 1 1 1 1 2 ...\n",
      " $ PG7Go        : Factor w/ 2 levels \"\",\"Go\": 1 1 1 1 1 1 1 1 1 1 ...\n",
      " $ PG7C.        : Factor w/ 2 levels \"\",\"C#\": 1 1 1 1 1 1 1 1 1 1 ...\n",
      " $ PG9Resp      : Factor w/ 8 levels \"\",\"1\",\"11 - 15\",..: 5 5 5 2 8 6 5 6 7 6 ...\n",
      " $ PG10Resp     : Factor w/ 7 levels \"\",\"Native\",\"Not native - full working proficiency\",..: 2 3 2 2 2 2 3 4 3 2 ...\n",
      " $ PG11Resp     : Factor w/ 4 levels \"\",\"Female\",\"Male\",..: 3 3 3 3 2 2 3 3 3 3 ...\n",
      " $ PG12Resp     : Factor w/ 7 levels \"\",\"18 - 24\",\"25 - 34\",..: 4 4 3 3 4 3 3 4 5 2 ...\n",
      " $ PG5_5PHR     : Factor w/ 5 levels \"Essential\",\"High Priority\",..: 4 2 3 2 1 3 4 5 2 2 ...\n"
     ]
    }
   ],
   "source": [
    "str(test_data)\n",
    "str(train_data)"
   ]
  },
  {
   "cell_type": "code",
   "execution_count": 36,
   "metadata": {},
   "outputs": [],
   "source": [
    "test_data <- test_data[, -(grep(\"Submit\", colnames(test_data)))]\n",
    "train_data <- train_data[, -(grep(\"Submit\", colnames(train_data)))]"
   ]
  },
  {
   "cell_type": "code",
   "execution_count": 44,
   "metadata": {},
   "outputs": [
    {
     "data": {
      "text/html": [
       "0.429468599033816"
      ],
      "text/latex": [
       "0.429468599033816"
      ],
      "text/markdown": [
       "0.429468599033816"
      ],
      "text/plain": [
       "[1] 0.43"
      ]
     },
     "metadata": {},
     "output_type": "display_data"
    },
    {
     "data": {
      "text/html": [
       "<table>\n",
       "<thead><tr><th></th><th scope=col>MeanDecreaseAccuracy</th></tr></thead>\n",
       "<tbody>\n",
       "\t<tr><th scope=row>Device</th><td> 0.79658</td></tr>\n",
       "\t<tr><th scope=row>Completed</th><td> 0.23800</td></tr>\n",
       "\t<tr><th scope=row>PG1PsnUse</th><td> 1.11457</td></tr>\n",
       "\t<tr><th scope=row>PG1WdAuth</th><td> 2.37005</td></tr>\n",
       "\t<tr><th scope=row>PG1Trn</th><td>-0.87285</td></tr>\n",
       "\t<tr><th scope=row>PG2Resp</th><td> 0.00048</td></tr>\n",
       "\t<tr><th scope=row>PG4AllResp</th><td>-0.44630</td></tr>\n",
       "\t<tr><th scope=row>PG6Resp</th><td> 0.77729</td></tr>\n",
       "\t<tr><th scope=row>PG7R</th><td> 0.11063</td></tr>\n",
       "\t<tr><th scope=row>PG7C.C..</th><td>-0.54879</td></tr>\n",
       "\t<tr><th scope=row>PG7Java</th><td>-2.56851</td></tr>\n",
       "\t<tr><th scope=row>PG7Python</th><td>-1.23976</td></tr>\n",
       "\t<tr><th scope=row>PG7Javascript</th><td> 0.81491</td></tr>\n",
       "\t<tr><th scope=row>PG7Go</th><td>-1.42814</td></tr>\n",
       "\t<tr><th scope=row>PG7C.</th><td>-2.89543</td></tr>\n",
       "\t<tr><th scope=row>PG9Resp</th><td>-0.23414</td></tr>\n",
       "\t<tr><th scope=row>PG10Resp</th><td> 1.88412</td></tr>\n",
       "\t<tr><th scope=row>PG11Resp</th><td>-1.43758</td></tr>\n",
       "\t<tr><th scope=row>PG12Resp</th><td>-1.36704</td></tr>\n",
       "</tbody>\n",
       "</table>\n"
      ],
      "text/latex": [
       "\\begin{tabular}{r|l}\n",
       "  & MeanDecreaseAccuracy\\\\\n",
       "\\hline\n",
       "\tDevice &  0.79658\\\\\n",
       "\tCompleted &  0.23800\\\\\n",
       "\tPG1PsnUse &  1.11457\\\\\n",
       "\tPG1WdAuth &  2.37005\\\\\n",
       "\tPG1Trn & -0.87285\\\\\n",
       "\tPG2Resp &  0.00048\\\\\n",
       "\tPG4AllResp & -0.44630\\\\\n",
       "\tPG6Resp &  0.77729\\\\\n",
       "\tPG7R &  0.11063\\\\\n",
       "\tPG7C.C.. & -0.54879\\\\\n",
       "\tPG7Java & -2.56851\\\\\n",
       "\tPG7Python & -1.23976\\\\\n",
       "\tPG7Javascript &  0.81491\\\\\n",
       "\tPG7Go & -1.42814\\\\\n",
       "\tPG7C. & -2.89543\\\\\n",
       "\tPG9Resp & -0.23414\\\\\n",
       "\tPG10Resp &  1.88412\\\\\n",
       "\tPG11Resp & -1.43758\\\\\n",
       "\tPG12Resp & -1.36704\\\\\n",
       "\\end{tabular}\n"
      ],
      "text/markdown": [
       "\n",
       "| <!--/--> | MeanDecreaseAccuracy | \n",
       "|---|---|---|---|---|---|---|---|---|---|---|---|---|---|---|---|---|---|---|\n",
       "| Device |  0.79658 | \n",
       "| Completed |  0.23800 | \n",
       "| PG1PsnUse |  1.11457 | \n",
       "| PG1WdAuth |  2.37005 | \n",
       "| PG1Trn | -0.87285 | \n",
       "| PG2Resp |  0.00048 | \n",
       "| PG4AllResp | -0.44630 | \n",
       "| PG6Resp |  0.77729 | \n",
       "| PG7R |  0.11063 | \n",
       "| PG7C.C.. | -0.54879 | \n",
       "| PG7Java | -2.56851 | \n",
       "| PG7Python | -1.23976 | \n",
       "| PG7Javascript |  0.81491 | \n",
       "| PG7Go | -1.42814 | \n",
       "| PG7C. | -2.89543 | \n",
       "| PG9Resp | -0.23414 | \n",
       "| PG10Resp |  1.88412 | \n",
       "| PG11Resp | -1.43758 | \n",
       "| PG12Resp | -1.36704 | \n",
       "\n",
       "\n"
      ],
      "text/plain": [
       "              MeanDecreaseAccuracy\n",
       "Device         0.79658            \n",
       "Completed      0.23800            \n",
       "PG1PsnUse      1.11457            \n",
       "PG1WdAuth      2.37005            \n",
       "PG1Trn        -0.87285            \n",
       "PG2Resp        0.00048            \n",
       "PG4AllResp    -0.44630            \n",
       "PG6Resp        0.77729            \n",
       "PG7R           0.11063            \n",
       "PG7C.C..      -0.54879            \n",
       "PG7Java       -2.56851            \n",
       "PG7Python     -1.23976            \n",
       "PG7Javascript  0.81491            \n",
       "PG7Go         -1.42814            \n",
       "PG7C.         -2.89543            \n",
       "PG9Resp       -0.23414            \n",
       "PG10Resp       1.88412            \n",
       "PG11Resp      -1.43758            \n",
       "PG12Resp      -1.36704            "
      ]
     },
     "metadata": {},
     "output_type": "display_data"
    },
    {
     "data": {
      "image/png": "[encoded data removed]",
      "text/plain": [
       "plot without title"
      ]
     },
     "metadata": {},
     "output_type": "display_data"
    }
   ],
   "source": [
    "rf<- randomForest(PG5_5PHR ~ . , data=train_data, na.action = na.omit, iter = 100, ntree = 100, importance=TRUE)\n",
    "pred<- predict(rf, test_data)\n",
    "AUC::auc(roc(pred,test_y))  \n",
    "varImpPlot(rf, n.var = 10, main = \"Variable Importance\")\n",
    "importance(rf, type = 1)"
   ]
  },
  {
   "cell_type": "markdown",
   "metadata": {},
   "source": [
    "The result somehow confirms my hypothesis but not completely(PG7Javascript).  We can see that the project purpose variable is a more important factor."
   ]
  },
  {
   "cell_type": "code",
   "execution_count": null,
   "metadata": {},
   "outputs": [],
   "source": []
  }
 ],
 "metadata": {
  "kernelspec": {
   "display_name": "R",
   "language": "R",
   "name": "ir"
  },
  "language_info": {
   "codemirror_mode": "r",
   "file_extension": ".r",
   "mimetype": "text/x-r-source",
   "name": "R",
   "pygments_lexer": "r",
   "version": "3.4.4"
  }
 },
 "nbformat": 4,
 "nbformat_minor": 2
}
