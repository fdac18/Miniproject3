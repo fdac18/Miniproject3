{
 "cells": [
  {
   "cell_type": "markdown",
   "metadata": {},
   "source": [
    "Mini Project 3 for Rosemary Dabbs\n",
    "======"
   ]
  },
  {
   "cell_type": "markdown",
   "metadata": {},
   "source": [
    "# Introduction\n",
    "\n",
    "A survey of 12 questions was given to 1353 people and the responses were recorded. For miniproject 3, I will be looking at how certain explanatory variables affect the priority ranking of my assigned response variable from question 5 of the survey which asks \"How important were the following factors when choosing that package for your project?\" with the following options for ranking:\n",
    "* Resolve reported problems quickly\n",
    "* Helpful discussion on stack exchange\n",
    "* Number of forks on GitHub\n",
    "* Reputation of the package's authors\n",
    "* Package's historic reputation\n",
    "* Visible growth in popularity\n",
    "* Familiarity with related packages\n",
    "* Backlog / number of unresolved issues\n",
    "* Computing performances\n",
    "* Number developers of your project\n",
    "* Scale / size of your project\n",
    "* Number of stars on GitHub\n",
    "* Number of watchers on GitHub\n",
    "\n",
    "These options were ranked by Not a Priority, Low Priority, Medium Priority, High Priority, and Essential\n",
    "The response varible I was assigned was reputation of the package's authors. Based on this assignment, I will propose a hypothesis and create a model to investigate my predictions. \n",
    "\n",
    "# Hypothesis\n",
    "I hypothesize that the priority ranking for the package's author reputation is going to be affected by the following explanatory variables:\n",
    "* level of developer experience at the time of your commit\n",
    "* the purpose of the project: for personal work and/or research use\n",
    "* And responding \"I saw a recommendation for the package\" to the following question \"which of the following is the closest to why you chose the that package?\""
   ]
  },
  {
   "cell_type": "markdown",
   "metadata": {},
   "source": [
    "### Explanation of how needed measures are calculated from the provided data\n",
    "The survey data provided needs to be subsetting to be able to model my response variable. All variables from page five except my assigned response varibale will be extracted. Additionally cleaning will be done to make the model more accurate. "
   ]
  },
  {
   "cell_type": "markdown",
   "metadata": {},
   "source": [
    "## First Let's Add Our Survey Data to a Data Frame and Interpret Basic Summary"
   ]
  },
  {
   "cell_type": "code",
   "execution_count": 32,
   "metadata": {},
   "outputs": [],
   "source": [
    "# Additional Libraries Used:\n",
    "library(ggplot2) # library for making pretty plots\n",
    "library(dplyr) # library that provides tools for working with data frames specifically\n",
    "library(rpart)"
   ]
  },
  {
   "cell_type": "code",
   "execution_count": 2,
   "metadata": {},
   "outputs": [],
   "source": [
    "# Set global options\n",
    "# options() will print ALL available options\n",
    "# Digits controls the number of sig figs when printing numeric values\n",
    "options(digits=2)"
   ]
  },
  {
   "cell_type": "code",
   "execution_count": 3,
   "metadata": {},
   "outputs": [],
   "source": [
    "# Read .csv file and assign to data frame called \"data\"\n",
    "# Uses the arrow (<-) creates a global variable\n",
    "# header=TRUE indicates there is a header row in file\n",
    "data <- read.csv(file=\"TechSurvey - Survey.csv\",header=TRUE,sep=\",\")\n",
    "\n",
    "# convert date to unix second\n",
    "# c combines items into a list or vector\n",
    "for (i in c(\"Start\", \"End\")){\n",
    "    data[,i] = as.numeric(as.POSIXct(strptime(data[,i], \"%Y-%m-%d %H:%M:%S\")))\n",
    "}\n",
    "for (i in 0:12){\n",
    "    vnam = paste(c(\"PG\",i,\"Submit\"), collapse=\"\")\n",
    "    data[,vnam] = as.numeric(as.POSIXct(strptime(data[,vnam], \"%Y-%m-%d %H:%M:%S\")))\n",
    "}\n",
    "\n",
    "# calculate differences in time    \n",
    "for (i in 12:0){\n",
    "    pv = paste(c(\"PG\",i-1,\"Submit\"), collapse=\"\");\n",
    "    if (i==0) \n",
    "        pv=\"Start\";\n",
    "    vnam = paste(c(\"PG\",i,\"Submit\"), collapse=\"\");\n",
    "    data[,vnam] = data[,vnam] -data[,pv];\n",
    "}"
   ]
  },
  {
   "cell_type": "code",
   "execution_count": 4,
   "metadata": {},
   "outputs": [
    {
     "data": {
      "text/plain": [
       "     Device    Completed       Start               End               PG0Dis   \n",
       "        :  2   0    :  2   Min.   :1.54e+09   Min.   :1.54e+09   Min.   :  0  \n",
       " Bot    :  1   FALSE:546   1st Qu.:1.54e+09   1st Qu.:1.54e+09   1st Qu.:  0  \n",
       " PC     :955   TRUE :805   Median :1.54e+09   Median :1.54e+09   Median :  1  \n",
       " Phone  :376               Mean   :1.54e+09   Mean   :1.54e+09   Mean   : 44  \n",
       " Tablet : 16               3rd Qu.:1.54e+09   3rd Qu.:1.54e+09   3rd Qu.: 24  \n",
       " Unknown:  3               Max.   :1.54e+09   Max.   :1.54e+09   Max.   :168  \n",
       "                           NA's   :2          NA's   :548        NA's   :73   \n",
       "    PG0Shown      PG0Submit    \n",
       " Min.   :   0   Min.   :    2  \n",
       " 1st Qu.:   0   1st Qu.:    6  \n",
       " Median : 102   Median :    9  \n",
       " Mean   : 249   Mean   :  299  \n",
       " 3rd Qu.: 428   3rd Qu.:   15  \n",
       " Max.   :1190   Max.   :76226  \n",
       " NA's   :73     NA's   :199    \n",
       "                                       PG1PsnUse  \n",
       " For personal work and/or research use      :727  \n",
       "                                            :613  \n",
       " Chapter book                               :  1  \n",
       " For training attendees of my sessions      :  1  \n",
       " It's a coures on tidyverse that I developed:  1  \n",
       " Learning how to create a package           :  1  \n",
       " (Other)                                    :  9  \n",
       "                                                                        PG1WdAuth   \n",
       "                                                                             :1145  \n",
       " Because Microsoft was paying me to do it                                    :   1  \n",
       " For a wider audience, such as developers of other packages or other software: 205  \n",
       " Hackathon                                                                   :   1  \n",
       " Tool for other researchers to analyse their data                            :   1  \n",
       "                                                                                    \n",
       "                                                                                    \n",
       "                                PG1Trn    \n",
       "                                   :1168  \n",
       " For a training / class that I took: 184  \n",
       " teaching economics                :   1  \n",
       "                                          \n",
       "                                          \n",
       "                                          \n",
       "                                          \n",
       "                                                               PG1Other   \n",
       "                                                                   :1272  \n",
       " Other                                                             :  23  \n",
       " Teaching                                                          :   3  \n",
       " teaching                                                          :   3  \n",
       " For training that I gave                                          :   2  \n",
       " How does software technology spreads in the open source community?:   2  \n",
       " (Other)                                                           :  48  \n",
       "   PG1Submit        PG2Resp      PG2Submit   \n",
       " Min.   :   1           :431   Min.   :   1  \n",
       " 1st Qu.:  11   No      :374   1st Qu.:   9  \n",
       " Median :  16   Not sure:303   Median :  13  \n",
       " Mean   :  39   Yes     :245   Mean   :  29  \n",
       " 3rd Qu.:  30                  3rd Qu.:  29  \n",
       " Max.   :6892                  Max.   :1470  \n",
       " NA's   :282                   NA's   :377   \n",
       "                                                                            PG2Resp.1  \n",
       "                                                                                 :480  \n",
       " The core \"data.frame\" object lacked functionality that I needed                 :354  \n",
       " I saw a recommendation for the package                                          :149  \n",
       " Chose the package to be compatible with other packages in my project            :137  \n",
       " I didn't choose to use the package, it was included implicitly / unintentionally: 39  \n",
       " Other                                                                           :  6  \n",
       " (Other)                                                                         :188  \n",
       "   PG3Submit      PG4Dtr0_6      PG4Psv7_8      PG4Prm9_10    PG4AllResp \n",
       " Min.   :   1   Min.   :0      Min.   :7      Min.   : 9    Min.   : 0   \n",
       " 1st Qu.:  16   1st Qu.:3      1st Qu.:7      1st Qu.:10    1st Qu.: 8   \n",
       " Median :  23   Median :5      Median :8      Median :10    Median : 9   \n",
       " Mean   :  44   Mean   :4      Mean   :8      Mean   :10    Mean   : 8   \n",
       " 3rd Qu.:  40   3rd Qu.:6      3rd Qu.:8      3rd Qu.:10    3rd Qu.:10   \n",
       " Max.   :4648   Max.   :6      Max.   :8      Max.   :10    Max.   :10   \n",
       " NA's   :451    NA's   :1232   NA's   :1115   NA's   :869   NA's   :510  \n",
       "   PG4Submit             PG5_1RRPQ     PG5_1Order                PG5_1Time  \n",
       " Min.   :  1                  :877   Min.   : 1                       :877  \n",
       " 1st Qu.:  6   Essential      : 60   1st Qu.: 4    2018-10-11 13:32:57:  3  \n",
       " Median :  7   High Priority  :102   Median : 7    2018-10-11 13:29:20:  2  \n",
       " Mean   :  9   Low Priority   : 85   Mean   : 7    2018-10-11 13:34:56:  2  \n",
       " 3rd Qu.:  9   Medium Priority:134   3rd Qu.:11    2018-10-11 13:14:25:  1  \n",
       " Max.   :332   Not a Priority : 95   Max.   :20    2018-10-11 13:14:45:  1  \n",
       " NA's   :473                         NA's   :877   (Other)            :467  \n",
       "           PG5_2BNUI     PG5_2Order                PG5_2Time  \n",
       "                :923   Min.   : 1                       :923  \n",
       " Essential      :  3   1st Qu.: 5    2018-10-11 13:21:46:  2  \n",
       " High Priority  : 26   Median : 8    2018-10-11 13:38:07:  2  \n",
       " Low Priority   :121   Mean   : 8    2018-10-11 13:14:27:  1  \n",
       " Medium Priority: 92   3rd Qu.:11    2018-10-11 13:14:40:  1  \n",
       " Not a Priority :188   Max.   :21    2018-10-11 13:15:18:  1  \n",
       "                       NA's   :923   (Other)            :423  \n",
       "            PG5_3HDS     PG5_3Order                PG5_3Time  \n",
       "                :768   Min.   : 1                       :768  \n",
       " Essential      :103   1st Qu.: 2    2018-10-11 13:54:00:  2  \n",
       " High Priority  :200   Median : 4    2018-10-11 14:21:45:  2  \n",
       " Low Priority   : 69   Mean   : 6    2018-10-11 14:25:51:  2  \n",
       " Medium Priority:162   3rd Qu.: 9    2018-10-11 17:21:39:  2  \n",
       " Not a Priority : 51   Max.   :19    2018-10-11 13:14:18:  1  \n",
       "                       NA's   :768   (Other)            :576  \n",
       "            PG5_4VGP     PG5_4Order                PG5_4Time  \n",
       "                :852   Min.   : 1                       :852  \n",
       " Essential      : 22   1st Qu.: 4    2018-10-11 13:16:50:  2  \n",
       " High Priority  :111   Median : 6    2018-10-11 13:29:51:  2  \n",
       " Low Priority   : 88   Mean   : 7    2018-10-11 13:37:39:  2  \n",
       " Medium Priority:164   3rd Qu.:10    2018-10-11 13:38:11:  2  \n",
       " Not a Priority :116   Max.   :18    2018-10-11 15:42:22:  2  \n",
       "                       NA's   :852   (Other)            :491  \n",
       "            PG5_5PHR     PG5_5Order                PG5_5Time  \n",
       "                :753   Min.   : 1                       :753  \n",
       " Essential      : 79   1st Qu.: 2    2018-10-11 13:18:47:  2  \n",
       " High Priority  :252   Median : 4    2018-10-11 13:18:48:  2  \n",
       " Low Priority   : 63   Mean   : 6    2018-10-11 13:32:40:  2  \n",
       " Medium Priority:162   3rd Qu.: 8    2018-10-11 13:38:12:  2  \n",
       " Not a Priority : 44   Max.   :18    2018-10-11 13:45:48:  2  \n",
       "                       NA's   :753   (Other)            :590  \n",
       "           PG5_6SSYOP    PG5_6Order                PG5_6Time  \n",
       "                :852   Min.   : 1                       :852  \n",
       " Essential      : 63   1st Qu.: 3    2018-10-11 13:20:00:  2  \n",
       " High Priority  :137   Median : 6    2018-10-11 13:40:53:  2  \n",
       " Low Priority   : 84   Mean   : 7    2018-10-11 13:44:00:  2  \n",
       " Medium Priority:110   3rd Qu.:10    2018-10-11 13:45:41:  2  \n",
       " Not a Priority :107   Max.   :17    2018-10-11 16:22:38:  2  \n",
       "                       NA's   :852   (Other)            :491  \n",
       "           PG5_7NDYP     PG5_7Order                PG5_7Time  \n",
       "                :934   Min.   : 1                       :934  \n",
       " Essential      :  8   1st Qu.: 4    2018-10-11 13:18:50:  2  \n",
       " High Priority  : 31   Median : 7    2018-10-11 14:23:19:  2  \n",
       " Low Priority   : 93   Mean   : 7    2018-10-11 13:14:22:  1  \n",
       " Medium Priority: 52   3rd Qu.:11    2018-10-11 13:14:50:  1  \n",
       " Not a Priority :235   Max.   :17    2018-10-11 13:15:08:  1  \n",
       "                       NA's   :934   (Other)            :412  \n",
       "            PG5_8CP      PG5_8Order                PG5_8Time  \n",
       "                :715   Min.   : 1                       :715  \n",
       " Essential      :232   1st Qu.: 1    2018-10-11 13:29:46:  2  \n",
       " High Priority  :197   Median : 4    2018-10-11 13:37:00:  2  \n",
       " Low Priority   : 52   Mean   : 5    2018-10-11 13:38:36:  2  \n",
       " Medium Priority:121   3rd Qu.: 8    2018-10-11 13:39:22:  2  \n",
       " Not a Priority : 36   Max.   :20    2018-10-11 14:02:46:  2  \n",
       "                       NA's   :715   (Other)            :628  \n",
       "            PG5_9FRP     PG5_9Order                PG5_9Time  \n",
       "                :738   Min.   : 1                       :738  \n",
       " Essential      :165   1st Qu.: 2    2018-10-11 13:35:13:  2  \n",
       " High Priority  :243   Median : 4    2018-10-11 13:37:34:  2  \n",
       " Low Priority   : 42   Mean   : 5    2018-10-11 14:02:44:  2  \n",
       " Medium Priority:125   3rd Qu.: 9    2018-10-11 13:14:17:  1  \n",
       " Not a Priority : 40   Max.   :19    2018-10-11 13:14:52:  1  \n",
       "                       NA's   :738   (Other)            :607  \n",
       "           PG5_10RPA    PG5_10Order                PG5_10Time \n",
       "                :779   Min.   : 1                       :779  \n",
       " Essential      : 55   1st Qu.: 2    2018-10-11 13:17:47:  2  \n",
       " High Priority  :204   Median : 5    2018-10-11 13:27:48:  2  \n",
       " Low Priority   : 79   Mean   : 6    2018-10-11 13:45:33:  2  \n",
       " Medium Priority:151   3rd Qu.: 9    2018-10-11 15:30:40:  2  \n",
       " Not a Priority : 85   Max.   :22    2018-10-11 15:48:40:  2  \n",
       "                       NA's   :779   (Other)            :564  \n",
       "           PG5_11NSG    PG5_11Order                PG5_11Time \n",
       "                :890   Min.   : 1                       :890  \n",
       " Essential      :  6   1st Qu.: 4    2018-10-11 13:19:44:  2  \n",
       " High Priority  : 29   Median : 6    2018-10-11 13:21:53:  2  \n",
       " Low Priority   : 89   Mean   : 7    2018-10-11 13:31:08:  2  \n",
       " Medium Priority: 68   3rd Qu.:10    2018-10-11 13:40:48:  2  \n",
       " Not a Priority :271   Max.   :18    2018-10-11 14:55:47:  2  \n",
       "                       NA's   :890   (Other)            :453  \n",
       "           PG5_12NWG    PG5_12Order                PG5_12Time \n",
       "                :916   Min.   : 1                       :916  \n",
       " High Priority  : 10   1st Qu.: 5    2018-10-11 13:30:08:  2  \n",
       " Low Priority   : 77   Median : 7    2018-10-11 13:31:20:  2  \n",
       " Medium Priority: 25   Mean   : 7    2018-10-11 14:55:40:  2  \n",
       " Not a Priority :325   3rd Qu.:11    2018-10-11 13:14:46:  1  \n",
       "                       Max.   :18    2018-10-11 13:14:50:  1  \n",
       "                       NA's   :916   (Other)            :429  \n",
       "           PG5_13NFG    PG5_13Order                PG5_13Time    PG5Submit   \n",
       "                :920   Min.   : 1                       :920   Min.   :   3  \n",
       " High Priority  : 10   1st Qu.: 4    2018-10-11 13:17:39:  2   1st Qu.:  45  \n",
       " Low Priority   : 76   Median : 7    2018-10-11 13:35:20:  2   Median :  62  \n",
       " Medium Priority: 37   Mean   : 7    2018-10-11 13:35:56:  2   Mean   :  87  \n",
       " Not a Priority :310   3rd Qu.:10    2018-10-11 15:42:36:  2   3rd Qu.:  84  \n",
       "                       Max.   :17    2018-10-11 13:14:41:  1   Max.   :4130  \n",
       "                       NA's   :920   (Other)            :424   NA's   :544   \n",
       "              PG6Resp      PG6Submit         PG7R      PG7C.C..     PG7Java    \n",
       "                  :549   Min.   :   1   R      :684        :1268        :1306  \n",
       " 13 - 19 years    : 50   1st Qu.:   7          :614   C/C++:  84   Java :  46  \n",
       " 2 - 5 years      :332   Median :   9   Perl   :  6   Cobol:   1   scala:   1  \n",
       " 20 years or more : 45   Mean   :  24   PHP    :  5                            \n",
       " 6 - 8 years      :112   3rd Qu.:  12   SQL    :  5                            \n",
       " 9 - 12 years     : 70   Max.   :5759   Ruby   :  4                            \n",
       " Less than 2 years:195   NA's   :543    (Other): 35                            \n",
       "  PG7Python       PG7Javascript  PG7Go     PG7C.        PG7Other   \n",
       "       :1129             :1304     :1351     :1330          :1283  \n",
       " Python: 223   Javascript:  48   Go:   2   C#:  23   Other  :  62  \n",
       " perl  :   1   sql       :   1                       PHP    :   2  \n",
       "                                                     Matlab :   1  \n",
       "                                                     Ruby   :   1  \n",
       "                                                     SAS    :   1  \n",
       "                                                     (Other):   3  \n",
       "   PG7Submit                PG8Resp      PG8Submit           PG9Resp   \n",
       " Min.   :  1                    :570   Min.   :  1               :562  \n",
       " 1st Qu.:  6   Data Scientist   :379   1st Qu.:  5   2 - 3       :229  \n",
       " Median :  8   Software Engineer: 55   Median :  8   4 - 6       :166  \n",
       " Mean   : 11   Student          : 24   Mean   : 12   7 - 10      :122  \n",
       " 3rd Qu.: 11   Researcher       : 15   3rd Qu.: 14   1           : 94  \n",
       " Max.   :777   PhD student      : 10   Max.   :207   More than 25: 92  \n",
       " NA's   :542   (Other)          :300   NA's   :546   (Other)     : 88  \n",
       "   PG9Submit                                            PG10Resp  \n",
       " Min.   :    0                                              :565  \n",
       " 1st Qu.:    7   Native                                     :424  \n",
       " Median :   10   Not native - full working proficiency      :263  \n",
       " Mean   :   40   Not native - limited working proficiency   : 17  \n",
       " 3rd Qu.:   14   Not native - passable                      :  5  \n",
       " Max.   :20126   Not native - sufficient working proficiency: 77  \n",
       " NA's   :547     Not native - very limited                  :  2  \n",
       "   PG10Submit                   PG11Resp     PG11Submit         PG12Resp  \n",
       " Min.   :   1                       :576   Min.   :  1              :590  \n",
       " 1st Qu.:   5   Female              : 96   1st Qu.:  4   18 - 24    : 34  \n",
       " Median :   7   Male                :652   Median :  4   25 - 34    :338  \n",
       " Mean   :  17   Prefer not to answer: 29   Mean   :  6   35 - 44    :258  \n",
       " 3rd Qu.:  11                              3rd Qu.:  5   45 - 54    : 89  \n",
       " Max.   :5966                              Max.   :605   55 - 64    : 36  \n",
       " NA's   :546                               NA's   :548   65 and over:  8  \n",
       "   PG12Submit  \n",
       " Min.   :   1  \n",
       " 1st Qu.:   4  \n",
       " Median :   5  \n",
       " Mean   :   8  \n",
       " 3rd Qu.:   6  \n",
       " Max.   :1566  \n",
       " NA's   :548   "
      ]
     },
     "metadata": {},
     "output_type": "display_data"
    }
   ],
   "source": [
    "# Summary of variables\n",
    "summary(data)"
   ]
  },
  {
   "cell_type": "markdown",
   "metadata": {},
   "source": [
    "### Interpret  basic summaries"
   ]
  },
  {
   "cell_type": "code",
   "execution_count": 5,
   "metadata": {},
   "outputs": [
    {
     "data": {
      "text/html": [
       "<table>\n",
       "<thead><tr><th></th><th scope=col>Start</th><th scope=col>End</th><th scope=col>PG0Dis</th><th scope=col>PG0Shown</th><th scope=col>PG0Submit</th><th scope=col>PG1Submit</th><th scope=col>PG2Submit</th><th scope=col>PG3Submit</th><th scope=col>PG4Dtr0_6</th><th scope=col>PG4Psv7_8</th><th scope=col>...</th><th scope=col>PG5_12Order</th><th scope=col>PG5_13Order</th><th scope=col>PG5Submit</th><th scope=col>PG6Submit</th><th scope=col>PG7Submit</th><th scope=col>PG8Submit</th><th scope=col>PG9Submit</th><th scope=col>PG10Submit</th><th scope=col>PG11Submit</th><th scope=col>PG12Submit</th></tr></thead>\n",
       "<tbody>\n",
       "\t<tr><th scope=row>Start</th><td> 1.0000 </td><td> 0.9952 </td><td>-0.0417 </td><td>-0.11507</td><td> 0.1350 </td><td> 0.1156 </td><td> 0.0791 </td><td> 0.0384 </td><td> 0.01210</td><td> 0.00371</td><td>...     </td><td>-0.0369 </td><td> 0.0598 </td><td> 0.08512</td><td> 0.0054 </td><td> 0.0776 </td><td> 0.0441 </td><td> 0.04101</td><td> 0.047  </td><td> 7.9e-02</td><td> 0.0746 </td></tr>\n",
       "\t<tr><th scope=row>End</th><td> 0.9952 </td><td> 1.0000 </td><td>-0.0415 </td><td>-0.09879</td><td> 0.1142 </td><td> 0.1550 </td><td> 0.0791 </td><td> 0.0511 </td><td>-0.05185</td><td>-0.04576</td><td>...     </td><td>-0.0359 </td><td> 0.0661 </td><td> 0.09088</td><td> 0.0051 </td><td> 0.0759 </td><td> 0.0435 </td><td> 0.04071</td><td> 0.052  </td><td> 7.9e-02</td><td> 0.0772 </td></tr>\n",
       "\t<tr><th scope=row>PG0Dis</th><td>-0.0417 </td><td>-0.0415 </td><td> 1.0000 </td><td> 0.87220</td><td> 0.0153 </td><td> 0.0065 </td><td> 0.0041 </td><td> 0.0567 </td><td> 0.16368</td><td> 0.02668</td><td>...     </td><td> 0.0151 </td><td> 0.0384 </td><td> 0.00601</td><td> 0.0277 </td><td> 0.0097 </td><td> 0.0354 </td><td> 0.00995</td><td>-0.029  </td><td>-4.5e-02</td><td> 0.0546 </td></tr>\n",
       "\t<tr><th scope=row>PG0Shown</th><td>-0.1151 </td><td>-0.0988 </td><td> 0.8722 </td><td> 1.00000</td><td> 0.0360 </td><td> 0.0205 </td><td> 0.0023 </td><td> 0.0497 </td><td> 0.08226</td><td> 0.00036</td><td>...     </td><td> 0.0074 </td><td> 0.0407 </td><td>-0.00888</td><td> 0.0401 </td><td> 0.0121 </td><td> 0.0264 </td><td> 0.00056</td><td>-0.045  </td><td>-7.1e-02</td><td> 0.0436 </td></tr>\n",
       "\t<tr><th scope=row>PG0Submit</th><td> 0.1350 </td><td> 0.1142 </td><td> 0.0153 </td><td> 0.03596</td><td> 1.0000 </td><td> 0.1088 </td><td> 0.1037 </td><td> 0.1273 </td><td>-0.00802</td><td>-0.03763</td><td>...     </td><td>-0.0161 </td><td>-0.0280 </td><td> 0.17671</td><td> 0.1518 </td><td> 0.1365 </td><td> 0.1258 </td><td> 0.17579</td><td> 0.225  </td><td> 1.1e-01</td><td> 0.1096 </td></tr>\n",
       "\t<tr><th scope=row>PG1Submit</th><td> 0.1156 </td><td> 0.1550 </td><td> 0.0065 </td><td> 0.02047</td><td> 0.1088 </td><td> 1.0000 </td><td> 0.1452 </td><td> 0.2688 </td><td>-0.06852</td><td> 0.05661</td><td>...     </td><td> 0.0512 </td><td>-0.0651 </td><td> 0.24670</td><td> 0.2414 </td><td> 0.1133 </td><td> 0.1069 </td><td> 0.10895</td><td> 0.170  </td><td> 7.4e-02</td><td> 0.1137 </td></tr>\n",
       "\t<tr><th scope=row>PG2Submit</th><td> 0.0791 </td><td> 0.0791 </td><td> 0.0041 </td><td> 0.00235</td><td> 0.1037 </td><td> 0.1452 </td><td> 1.0000 </td><td> 0.2045 </td><td> 0.00146</td><td> 0.00897</td><td>...     </td><td> 0.0210 </td><td>-0.0047 </td><td> 0.21851</td><td> 0.2696 </td><td> 0.1245 </td><td> 0.1567 </td><td> 0.20127</td><td> 0.099  </td><td> 1.1e-01</td><td> 0.1073 </td></tr>\n",
       "\t<tr><th scope=row>PG3Submit</th><td> 0.0384 </td><td> 0.0511 </td><td> 0.0567 </td><td> 0.04968</td><td> 0.1273 </td><td> 0.2688 </td><td> 0.2045 </td><td> 1.0000 </td><td> 0.00865</td><td> 0.04424</td><td>...     </td><td> 0.0464 </td><td>-0.0222 </td><td> 0.26048</td><td> 0.2706 </td><td> 0.1316 </td><td> 0.1822 </td><td> 0.27450</td><td> 0.161  </td><td> 1.4e-01</td><td> 0.1642 </td></tr>\n",
       "\t<tr><th scope=row>PG4Dtr0_6</th><td> 0.0121 </td><td>-0.0518 </td><td> 0.1637 </td><td> 0.08226</td><td>-0.0080 </td><td>-0.0685 </td><td> 0.0015 </td><td> 0.0087 </td><td> 1.00000</td><td>      NA</td><td>...     </td><td> 0.1774 </td><td>-0.1289 </td><td>-0.05214</td><td>-0.1618 </td><td> 0.1560 </td><td> 0.0695 </td><td>-0.07292</td><td> 0.044  </td><td> 8.4e-04</td><td>-0.0272 </td></tr>\n",
       "\t<tr><th scope=row>PG4Psv7_8</th><td> 0.0037 </td><td>-0.0458 </td><td> 0.0267 </td><td> 0.00036</td><td>-0.0376 </td><td> 0.0566 </td><td> 0.0090 </td><td> 0.0442 </td><td>      NA</td><td> 1.00000</td><td>...     </td><td>-0.0008 </td><td>-0.0218 </td><td> 0.08974</td><td>-0.0146 </td><td>-0.0363 </td><td> 0.0526 </td><td> 0.05977</td><td> 0.069  </td><td>-4.9e-02</td><td>-0.0217 </td></tr>\n",
       "\t<tr><th scope=row>PG4Prm9_10</th><td>-0.0267 </td><td>-0.0267 </td><td>-0.0092 </td><td> 0.03279</td><td>-0.0939 </td><td> 0.0120 </td><td>-0.0587 </td><td>-0.0062 </td><td>      NA</td><td>      NA</td><td>...     </td><td> 0.0233 </td><td> 0.0916 </td><td> 0.00077</td><td>-0.0418 </td><td>-0.0633 </td><td>-0.0550 </td><td>-0.02989</td><td>-0.061  </td><td>-8.6e-05</td><td> 0.0169 </td></tr>\n",
       "\t<tr><th scope=row>PG4AllResp</th><td> 0.0063 </td><td>-0.0158 </td><td> 0.0018 </td><td>-0.02094</td><td>-0.0236 </td><td> 0.0297 </td><td> 0.0293 </td><td>-0.0193 </td><td> 1.00000</td><td> 1.00000</td><td>...     </td><td>-0.0306 </td><td>-0.0166 </td><td> 0.01248</td><td>-0.0040 </td><td>-0.0753 </td><td>-0.1294 </td><td>-0.03812</td><td>-0.106  </td><td>-8.2e-02</td><td>-0.0668 </td></tr>\n",
       "\t<tr><th scope=row>PG4Submit</th><td> 0.0187 </td><td> 0.0172 </td><td>-0.0539 </td><td>-0.05978</td><td> 0.2191 </td><td> 0.1651 </td><td> 0.1515 </td><td> 0.1956 </td><td>-0.14272</td><td>-0.08350</td><td>...     </td><td>-0.0119 </td><td>-0.0376 </td><td> 0.27328</td><td> 0.3326 </td><td> 0.2775 </td><td> 0.1821 </td><td> 0.33236</td><td> 0.391  </td><td> 2.8e-01</td><td> 0.2360 </td></tr>\n",
       "\t<tr><th scope=row>PG5_1Order</th><td> 0.0218 </td><td> 0.0196 </td><td> 0.0140 </td><td> 0.01254</td><td>-0.0240 </td><td> 0.0750 </td><td>-0.0069 </td><td> 0.0578 </td><td>-0.09488</td><td>-0.01399</td><td>...     </td><td>-0.0785 </td><td>-0.0950 </td><td> 0.08054</td><td> 0.0334 </td><td> 0.0173 </td><td>-0.0388 </td><td> 0.01033</td><td>-0.096  </td><td>-2.5e-02</td><td> 0.0238 </td></tr>\n",
       "\t<tr><th scope=row>PG5_2Order</th><td> 0.0014 </td><td> 0.0002 </td><td>-0.0386 </td><td>-0.03617</td><td> 0.0402 </td><td>-0.0226 </td><td>-0.0297 </td><td> 0.0048 </td><td>-0.00954</td><td> 0.08081</td><td>...     </td><td> 0.0527 </td><td>-0.0652 </td><td> 0.03898</td><td>-0.0571 </td><td>-0.0551 </td><td>-0.0567 </td><td>-0.01925</td><td> 0.015  </td><td> 7.3e-03</td><td> 0.0469 </td></tr>\n",
       "\t<tr><th scope=row>PG5_3Order</th><td>-0.0089 </td><td>-0.0177 </td><td> 0.0441 </td><td> 0.04228</td><td> 0.0155 </td><td> 0.0391 </td><td>-0.0131 </td><td> 0.0172 </td><td> 0.13631</td><td> 0.04396</td><td>...     </td><td>-0.0698 </td><td>-0.0250 </td><td> 0.23450</td><td> 0.0419 </td><td> 0.0058 </td><td>-0.0086 </td><td> 0.02604</td><td> 0.063  </td><td> 3.4e-02</td><td> 0.0538 </td></tr>\n",
       "\t<tr><th scope=row>PG5_4Order</th><td> 0.0931 </td><td> 0.0949 </td><td>-0.0262 </td><td>-0.02214</td><td>-0.0172 </td><td> 0.0293 </td><td> 0.0560 </td><td>-0.0462 </td><td> 0.01735</td><td>-0.12489</td><td>...     </td><td>-0.0447 </td><td>-0.0329 </td><td> 0.14487</td><td> 0.0414 </td><td> 0.0460 </td><td> 0.0182 </td><td>-0.03734</td><td>-0.075  </td><td>-8.6e-02</td><td>-0.0211 </td></tr>\n",
       "\t<tr><th scope=row>PG5_5Order</th><td>-0.0523 </td><td>-0.0466 </td><td>-0.0087 </td><td>-0.01058</td><td> 0.0860 </td><td> 0.0345 </td><td> 0.0570 </td><td>-0.0165 </td><td> 0.04533</td><td>-0.06369</td><td>...     </td><td>-0.0499 </td><td>-0.0981 </td><td> 0.28698</td><td> 0.0498 </td><td> 0.0372 </td><td> 0.0427 </td><td>-0.02976</td><td> 0.076  </td><td> 2.4e-02</td><td> 0.0085 </td></tr>\n",
       "\t<tr><th scope=row>PG5_6Order</th><td> 0.0237 </td><td> 0.0217 </td><td>-0.0480 </td><td>-0.04902</td><td> 0.0762 </td><td> 0.0327 </td><td> 0.1077 </td><td> 0.0370 </td><td>-0.13255</td><td> 0.01662</td><td>...     </td><td>-0.0430 </td><td>-0.0031 </td><td> 0.22759</td><td> 0.0165 </td><td> 0.0222 </td><td> 0.0639 </td><td>-0.02974</td><td> 0.015  </td><td> 2.8e-02</td><td> 0.0539 </td></tr>\n",
       "\t<tr><th scope=row>PG5_7Order</th><td>-0.0200 </td><td>-0.0236 </td><td> 0.0220 </td><td>-0.00444</td><td>-0.1174 </td><td>-0.0815 </td><td>-0.0285 </td><td> 0.0242 </td><td>-0.16196</td><td>-0.06938</td><td>...     </td><td> 0.0410 </td><td> 0.0944 </td><td> 0.06439</td><td>-0.0222 </td><td>-0.1082 </td><td>-0.0804 </td><td>-0.01762</td><td>-0.017  </td><td>-4.4e-02</td><td>-0.0617 </td></tr>\n",
       "\t<tr><th scope=row>PG5_8Order</th><td>-0.0804 </td><td>-0.0852 </td><td>-0.0147 </td><td>-0.00433</td><td>-0.0421 </td><td>-0.0205 </td><td>-0.0387 </td><td>-0.0129 </td><td>-0.16181</td><td> 0.01019</td><td>...     </td><td>-0.0896 </td><td>-0.1168 </td><td> 0.13787</td><td>-0.1227 </td><td>-0.0126 </td><td>-0.0526 </td><td>-0.05699</td><td>-0.065  </td><td>-3.7e-02</td><td>-0.0182 </td></tr>\n",
       "\t<tr><th scope=row>PG5_9Order</th><td> 0.0171 </td><td> 0.0167 </td><td>-0.0712 </td><td>-0.10235</td><td> 0.0476 </td><td> 0.0260 </td><td>-0.0410 </td><td>-0.0641 </td><td>-0.07948</td><td>-0.09747</td><td>...     </td><td>-0.0431 </td><td>-0.0837 </td><td> 0.18534</td><td>-0.0188 </td><td>-0.0314 </td><td>-0.0898 </td><td>-0.01354</td><td>-0.034  </td><td> 6.2e-03</td><td>-0.0280 </td></tr>\n",
       "\t<tr><th scope=row>PG5_10Order</th><td>-0.0214 </td><td>-0.0112 </td><td> 0.0200 </td><td> 0.02736</td><td> 0.0086 </td><td>-0.0017 </td><td>-0.0418 </td><td> 0.0581 </td><td>-0.05310</td><td> 0.15949</td><td>...     </td><td>-0.0905 </td><td>-0.1214 </td><td> 0.22151</td><td> 0.0427 </td><td> 0.0311 </td><td> 0.0345 </td><td> 0.02011</td><td> 0.102  </td><td> 1.8e-02</td><td>-0.0092 </td></tr>\n",
       "\t<tr><th scope=row>PG5_11Order</th><td>-0.0241 </td><td>-0.0196 </td><td> 0.0190 </td><td> 0.02551</td><td> 0.0927 </td><td>-0.0047 </td><td>-0.1043 </td><td> 0.0279 </td><td> 0.02791</td><td>-0.03487</td><td>...     </td><td> 0.1233 </td><td> 0.1434 </td><td> 0.02942</td><td>-0.0055 </td><td> 0.0210 </td><td> 0.0232 </td><td> 0.05579</td><td>-0.038  </td><td>-2.5e-03</td><td> 0.0275 </td></tr>\n",
       "\t<tr><th scope=row>PG5_12Order</th><td>-0.0369 </td><td>-0.0359 </td><td> 0.0151 </td><td> 0.00743</td><td>-0.0161 </td><td> 0.0512 </td><td> 0.0210 </td><td> 0.0464 </td><td> 0.17741</td><td>-0.00080</td><td>...     </td><td> 1.0000 </td><td> 0.1231 </td><td> 0.10997</td><td> 0.0777 </td><td> 0.0529 </td><td> 0.0149 </td><td> 0.00295</td><td> 0.016  </td><td> 2.4e-02</td><td> 0.0167 </td></tr>\n",
       "\t<tr><th scope=row>PG5_13Order</th><td> 0.0598 </td><td> 0.0661 </td><td> 0.0384 </td><td> 0.04072</td><td>-0.0280 </td><td>-0.0651 </td><td>-0.0047 </td><td>-0.0222 </td><td>-0.12890</td><td>-0.02179</td><td>...     </td><td> 0.1231 </td><td> 1.0000 </td><td> 0.00976</td><td>-0.0209 </td><td> 0.0355 </td><td> 0.0556 </td><td> 0.07229</td><td>-0.023  </td><td> 1.3e-02</td><td>-0.0614 </td></tr>\n",
       "\t<tr><th scope=row>PG5Submit</th><td> 0.0851 </td><td> 0.0909 </td><td> 0.0060 </td><td>-0.00888</td><td> 0.1767 </td><td> 0.2467 </td><td> 0.2185 </td><td> 0.2605 </td><td>-0.05214</td><td> 0.08974</td><td>...     </td><td> 0.1100 </td><td> 0.0098 </td><td> 1.00000</td><td> 0.3224 </td><td> 0.2312 </td><td> 0.2035 </td><td> 0.30291</td><td> 0.269  </td><td> 2.4e-01</td><td> 0.2588 </td></tr>\n",
       "\t<tr><th scope=row>PG6Submit</th><td> 0.0054 </td><td> 0.0051 </td><td> 0.0277 </td><td> 0.04005</td><td> 0.1518 </td><td> 0.2414 </td><td> 0.2696 </td><td> 0.2706 </td><td>-0.16179</td><td>-0.01463</td><td>...     </td><td> 0.0777 </td><td>-0.0209 </td><td> 0.32240</td><td> 1.0000 </td><td> 0.3086 </td><td> 0.2065 </td><td> 0.44528</td><td> 0.343  </td><td> 2.8e-01</td><td> 0.2904 </td></tr>\n",
       "\t<tr><th scope=row>PG7Submit</th><td> 0.0776 </td><td> 0.0759 </td><td> 0.0097 </td><td> 0.01212</td><td> 0.1365 </td><td> 0.1133 </td><td> 0.1245 </td><td> 0.1316 </td><td> 0.15596</td><td>-0.03631</td><td>...     </td><td> 0.0529 </td><td> 0.0355 </td><td> 0.23120</td><td> 0.3086 </td><td> 1.0000 </td><td> 0.1606 </td><td> 0.27819</td><td> 0.312  </td><td> 2.8e-01</td><td> 0.2523 </td></tr>\n",
       "\t<tr><th scope=row>PG8Submit</th><td> 0.0441 </td><td> 0.0435 </td><td> 0.0354 </td><td> 0.02635</td><td> 0.1258 </td><td> 0.1069 </td><td> 0.1567 </td><td> 0.1822 </td><td> 0.06953</td><td> 0.05260</td><td>...     </td><td> 0.0149 </td><td> 0.0556 </td><td> 0.20351</td><td> 0.2065 </td><td> 0.1606 </td><td> 1.0000 </td><td> 0.25569</td><td> 0.200  </td><td> 2.1e-01</td><td> 0.1932 </td></tr>\n",
       "\t<tr><th scope=row>PG9Submit</th><td> 0.0410 </td><td> 0.0407 </td><td> 0.0099 </td><td> 0.00056</td><td> 0.1758 </td><td> 0.1090 </td><td> 0.2013 </td><td> 0.2745 </td><td>-0.07292</td><td> 0.05977</td><td>...     </td><td> 0.0029 </td><td> 0.0723 </td><td> 0.30291</td><td> 0.4453 </td><td> 0.2782 </td><td> 0.2557 </td><td> 1.00000</td><td> 0.290  </td><td> 2.8e-01</td><td> 0.2755 </td></tr>\n",
       "\t<tr><th scope=row>PG10Submit</th><td> 0.0474 </td><td> 0.0517 </td><td>-0.0293 </td><td>-0.04481</td><td> 0.2248 </td><td> 0.1701 </td><td> 0.0989 </td><td> 0.1614 </td><td> 0.04433</td><td> 0.06942</td><td>...     </td><td> 0.0159 </td><td>-0.0227 </td><td> 0.26881</td><td> 0.3428 </td><td> 0.3121 </td><td> 0.2000 </td><td> 0.29018</td><td> 1.000  </td><td> 3.5e-01</td><td> 0.3131 </td></tr>\n",
       "\t<tr><th scope=row>PG11Submit</th><td> 0.0790 </td><td> 0.0792 </td><td>-0.0454 </td><td>-0.07102</td><td> 0.1093 </td><td> 0.0738 </td><td> 0.1147 </td><td> 0.1383 </td><td> 0.00084</td><td>-0.04870</td><td>...     </td><td> 0.0240 </td><td> 0.0130 </td><td> 0.23552</td><td> 0.2777 </td><td> 0.2768 </td><td> 0.2065 </td><td> 0.27906</td><td> 0.346  </td><td> 1.0e+00</td><td> 0.2513 </td></tr>\n",
       "\t<tr><th scope=row>PG12Submit</th><td> 0.0746 </td><td> 0.0772 </td><td> 0.0546 </td><td> 0.04364</td><td> 0.1096 </td><td> 0.1137 </td><td> 0.1073 </td><td> 0.1642 </td><td>-0.02721</td><td>-0.02169</td><td>...     </td><td> 0.0167 </td><td>-0.0614 </td><td> 0.25876</td><td> 0.2904 </td><td> 0.2523 </td><td> 0.1932 </td><td> 0.27550</td><td> 0.313  </td><td> 2.5e-01</td><td> 1.0000 </td></tr>\n",
       "</tbody>\n",
       "</table>\n"
      ],
      "text/latex": [
       "\\begin{tabular}{r|llllllllllllllllllllllllllllllllll}\n",
       "  & Start & End & PG0Dis & PG0Shown & PG0Submit & PG1Submit & PG2Submit & PG3Submit & PG4Dtr0\\_6 & PG4Psv7\\_8 & ... & PG5\\_12Order & PG5\\_13Order & PG5Submit & PG6Submit & PG7Submit & PG8Submit & PG9Submit & PG10Submit & PG11Submit & PG12Submit\\\\\n",
       "\\hline\n",
       "\tStart &  1.0000  &  0.9952  & -0.0417  & -0.11507 &  0.1350  &  0.1156  &  0.0791  &  0.0384  &  0.01210 &  0.00371 & ...      & -0.0369  &  0.0598  &  0.08512 &  0.0054  &  0.0776  &  0.0441  &  0.04101 &  0.047   &  7.9e-02 &  0.0746 \\\\\n",
       "\tEnd &  0.9952  &  1.0000  & -0.0415  & -0.09879 &  0.1142  &  0.1550  &  0.0791  &  0.0511  & -0.05185 & -0.04576 & ...      & -0.0359  &  0.0661  &  0.09088 &  0.0051  &  0.0759  &  0.0435  &  0.04071 &  0.052   &  7.9e-02 &  0.0772 \\\\\n",
       "\tPG0Dis & -0.0417  & -0.0415  &  1.0000  &  0.87220 &  0.0153  &  0.0065  &  0.0041  &  0.0567  &  0.16368 &  0.02668 & ...      &  0.0151  &  0.0384  &  0.00601 &  0.0277  &  0.0097  &  0.0354  &  0.00995 & -0.029   & -4.5e-02 &  0.0546 \\\\\n",
       "\tPG0Shown & -0.1151  & -0.0988  &  0.8722  &  1.00000 &  0.0360  &  0.0205  &  0.0023  &  0.0497  &  0.08226 &  0.00036 & ...      &  0.0074  &  0.0407  & -0.00888 &  0.0401  &  0.0121  &  0.0264  &  0.00056 & -0.045   & -7.1e-02 &  0.0436 \\\\\n",
       "\tPG0Submit &  0.1350  &  0.1142  &  0.0153  &  0.03596 &  1.0000  &  0.1088  &  0.1037  &  0.1273  & -0.00802 & -0.03763 & ...      & -0.0161  & -0.0280  &  0.17671 &  0.1518  &  0.1365  &  0.1258  &  0.17579 &  0.225   &  1.1e-01 &  0.1096 \\\\\n",
       "\tPG1Submit &  0.1156  &  0.1550  &  0.0065  &  0.02047 &  0.1088  &  1.0000  &  0.1452  &  0.2688  & -0.06852 &  0.05661 & ...      &  0.0512  & -0.0651  &  0.24670 &  0.2414  &  0.1133  &  0.1069  &  0.10895 &  0.170   &  7.4e-02 &  0.1137 \\\\\n",
       "\tPG2Submit &  0.0791  &  0.0791  &  0.0041  &  0.00235 &  0.1037  &  0.1452  &  1.0000  &  0.2045  &  0.00146 &  0.00897 & ...      &  0.0210  & -0.0047  &  0.21851 &  0.2696  &  0.1245  &  0.1567  &  0.20127 &  0.099   &  1.1e-01 &  0.1073 \\\\\n",
       "\tPG3Submit &  0.0384  &  0.0511  &  0.0567  &  0.04968 &  0.1273  &  0.2688  &  0.2045  &  1.0000  &  0.00865 &  0.04424 & ...      &  0.0464  & -0.0222  &  0.26048 &  0.2706  &  0.1316  &  0.1822  &  0.27450 &  0.161   &  1.4e-01 &  0.1642 \\\\\n",
       "\tPG4Dtr0\\_6 &  0.0121  & -0.0518  &  0.1637  &  0.08226 & -0.0080  & -0.0685  &  0.0015  &  0.0087  &  1.00000 &       NA & ...      &  0.1774  & -0.1289  & -0.05214 & -0.1618  &  0.1560  &  0.0695  & -0.07292 &  0.044   &  8.4e-04 & -0.0272 \\\\\n",
       "\tPG4Psv7\\_8 &  0.0037  & -0.0458  &  0.0267  &  0.00036 & -0.0376  &  0.0566  &  0.0090  &  0.0442  &       NA &  1.00000 & ...      & -0.0008  & -0.0218  &  0.08974 & -0.0146  & -0.0363  &  0.0526  &  0.05977 &  0.069   & -4.9e-02 & -0.0217 \\\\\n",
       "\tPG4Prm9\\_10 & -0.0267  & -0.0267  & -0.0092  &  0.03279 & -0.0939  &  0.0120  & -0.0587  & -0.0062  &       NA &       NA & ...      &  0.0233  &  0.0916  &  0.00077 & -0.0418  & -0.0633  & -0.0550  & -0.02989 & -0.061   & -8.6e-05 &  0.0169 \\\\\n",
       "\tPG4AllResp &  0.0063  & -0.0158  &  0.0018  & -0.02094 & -0.0236  &  0.0297  &  0.0293  & -0.0193  &  1.00000 &  1.00000 & ...      & -0.0306  & -0.0166  &  0.01248 & -0.0040  & -0.0753  & -0.1294  & -0.03812 & -0.106   & -8.2e-02 & -0.0668 \\\\\n",
       "\tPG4Submit &  0.0187  &  0.0172  & -0.0539  & -0.05978 &  0.2191  &  0.1651  &  0.1515  &  0.1956  & -0.14272 & -0.08350 & ...      & -0.0119  & -0.0376  &  0.27328 &  0.3326  &  0.2775  &  0.1821  &  0.33236 &  0.391   &  2.8e-01 &  0.2360 \\\\\n",
       "\tPG5\\_1Order &  0.0218  &  0.0196  &  0.0140  &  0.01254 & -0.0240  &  0.0750  & -0.0069  &  0.0578  & -0.09488 & -0.01399 & ...      & -0.0785  & -0.0950  &  0.08054 &  0.0334  &  0.0173  & -0.0388  &  0.01033 & -0.096   & -2.5e-02 &  0.0238 \\\\\n",
       "\tPG5\\_2Order &  0.0014  &  0.0002  & -0.0386  & -0.03617 &  0.0402  & -0.0226  & -0.0297  &  0.0048  & -0.00954 &  0.08081 & ...      &  0.0527  & -0.0652  &  0.03898 & -0.0571  & -0.0551  & -0.0567  & -0.01925 &  0.015   &  7.3e-03 &  0.0469 \\\\\n",
       "\tPG5\\_3Order & -0.0089  & -0.0177  &  0.0441  &  0.04228 &  0.0155  &  0.0391  & -0.0131  &  0.0172  &  0.13631 &  0.04396 & ...      & -0.0698  & -0.0250  &  0.23450 &  0.0419  &  0.0058  & -0.0086  &  0.02604 &  0.063   &  3.4e-02 &  0.0538 \\\\\n",
       "\tPG5\\_4Order &  0.0931  &  0.0949  & -0.0262  & -0.02214 & -0.0172  &  0.0293  &  0.0560  & -0.0462  &  0.01735 & -0.12489 & ...      & -0.0447  & -0.0329  &  0.14487 &  0.0414  &  0.0460  &  0.0182  & -0.03734 & -0.075   & -8.6e-02 & -0.0211 \\\\\n",
       "\tPG5\\_5Order & -0.0523  & -0.0466  & -0.0087  & -0.01058 &  0.0860  &  0.0345  &  0.0570  & -0.0165  &  0.04533 & -0.06369 & ...      & -0.0499  & -0.0981  &  0.28698 &  0.0498  &  0.0372  &  0.0427  & -0.02976 &  0.076   &  2.4e-02 &  0.0085 \\\\\n",
       "\tPG5\\_6Order &  0.0237  &  0.0217  & -0.0480  & -0.04902 &  0.0762  &  0.0327  &  0.1077  &  0.0370  & -0.13255 &  0.01662 & ...      & -0.0430  & -0.0031  &  0.22759 &  0.0165  &  0.0222  &  0.0639  & -0.02974 &  0.015   &  2.8e-02 &  0.0539 \\\\\n",
       "\tPG5\\_7Order & -0.0200  & -0.0236  &  0.0220  & -0.00444 & -0.1174  & -0.0815  & -0.0285  &  0.0242  & -0.16196 & -0.06938 & ...      &  0.0410  &  0.0944  &  0.06439 & -0.0222  & -0.1082  & -0.0804  & -0.01762 & -0.017   & -4.4e-02 & -0.0617 \\\\\n",
       "\tPG5\\_8Order & -0.0804  & -0.0852  & -0.0147  & -0.00433 & -0.0421  & -0.0205  & -0.0387  & -0.0129  & -0.16181 &  0.01019 & ...      & -0.0896  & -0.1168  &  0.13787 & -0.1227  & -0.0126  & -0.0526  & -0.05699 & -0.065   & -3.7e-02 & -0.0182 \\\\\n",
       "\tPG5\\_9Order &  0.0171  &  0.0167  & -0.0712  & -0.10235 &  0.0476  &  0.0260  & -0.0410  & -0.0641  & -0.07948 & -0.09747 & ...      & -0.0431  & -0.0837  &  0.18534 & -0.0188  & -0.0314  & -0.0898  & -0.01354 & -0.034   &  6.2e-03 & -0.0280 \\\\\n",
       "\tPG5\\_10Order & -0.0214  & -0.0112  &  0.0200  &  0.02736 &  0.0086  & -0.0017  & -0.0418  &  0.0581  & -0.05310 &  0.15949 & ...      & -0.0905  & -0.1214  &  0.22151 &  0.0427  &  0.0311  &  0.0345  &  0.02011 &  0.102   &  1.8e-02 & -0.0092 \\\\\n",
       "\tPG5\\_11Order & -0.0241  & -0.0196  &  0.0190  &  0.02551 &  0.0927  & -0.0047  & -0.1043  &  0.0279  &  0.02791 & -0.03487 & ...      &  0.1233  &  0.1434  &  0.02942 & -0.0055  &  0.0210  &  0.0232  &  0.05579 & -0.038   & -2.5e-03 &  0.0275 \\\\\n",
       "\tPG5\\_12Order & -0.0369  & -0.0359  &  0.0151  &  0.00743 & -0.0161  &  0.0512  &  0.0210  &  0.0464  &  0.17741 & -0.00080 & ...      &  1.0000  &  0.1231  &  0.10997 &  0.0777  &  0.0529  &  0.0149  &  0.00295 &  0.016   &  2.4e-02 &  0.0167 \\\\\n",
       "\tPG5\\_13Order &  0.0598  &  0.0661  &  0.0384  &  0.04072 & -0.0280  & -0.0651  & -0.0047  & -0.0222  & -0.12890 & -0.02179 & ...      &  0.1231  &  1.0000  &  0.00976 & -0.0209  &  0.0355  &  0.0556  &  0.07229 & -0.023   &  1.3e-02 & -0.0614 \\\\\n",
       "\tPG5Submit &  0.0851  &  0.0909  &  0.0060  & -0.00888 &  0.1767  &  0.2467  &  0.2185  &  0.2605  & -0.05214 &  0.08974 & ...      &  0.1100  &  0.0098  &  1.00000 &  0.3224  &  0.2312  &  0.2035  &  0.30291 &  0.269   &  2.4e-01 &  0.2588 \\\\\n",
       "\tPG6Submit &  0.0054  &  0.0051  &  0.0277  &  0.04005 &  0.1518  &  0.2414  &  0.2696  &  0.2706  & -0.16179 & -0.01463 & ...      &  0.0777  & -0.0209  &  0.32240 &  1.0000  &  0.3086  &  0.2065  &  0.44528 &  0.343   &  2.8e-01 &  0.2904 \\\\\n",
       "\tPG7Submit &  0.0776  &  0.0759  &  0.0097  &  0.01212 &  0.1365  &  0.1133  &  0.1245  &  0.1316  &  0.15596 & -0.03631 & ...      &  0.0529  &  0.0355  &  0.23120 &  0.3086  &  1.0000  &  0.1606  &  0.27819 &  0.312   &  2.8e-01 &  0.2523 \\\\\n",
       "\tPG8Submit &  0.0441  &  0.0435  &  0.0354  &  0.02635 &  0.1258  &  0.1069  &  0.1567  &  0.1822  &  0.06953 &  0.05260 & ...      &  0.0149  &  0.0556  &  0.20351 &  0.2065  &  0.1606  &  1.0000  &  0.25569 &  0.200   &  2.1e-01 &  0.1932 \\\\\n",
       "\tPG9Submit &  0.0410  &  0.0407  &  0.0099  &  0.00056 &  0.1758  &  0.1090  &  0.2013  &  0.2745  & -0.07292 &  0.05977 & ...      &  0.0029  &  0.0723  &  0.30291 &  0.4453  &  0.2782  &  0.2557  &  1.00000 &  0.290   &  2.8e-01 &  0.2755 \\\\\n",
       "\tPG10Submit &  0.0474  &  0.0517  & -0.0293  & -0.04481 &  0.2248  &  0.1701  &  0.0989  &  0.1614  &  0.04433 &  0.06942 & ...      &  0.0159  & -0.0227  &  0.26881 &  0.3428  &  0.3121  &  0.2000  &  0.29018 &  1.000   &  3.5e-01 &  0.3131 \\\\\n",
       "\tPG11Submit &  0.0790  &  0.0792  & -0.0454  & -0.07102 &  0.1093  &  0.0738  &  0.1147  &  0.1383  &  0.00084 & -0.04870 & ...      &  0.0240  &  0.0130  &  0.23552 &  0.2777  &  0.2768  &  0.2065  &  0.27906 &  0.346   &  1.0e+00 &  0.2513 \\\\\n",
       "\tPG12Submit &  0.0746  &  0.0772  &  0.0546  &  0.04364 &  0.1096  &  0.1137  &  0.1073  &  0.1642  & -0.02721 & -0.02169 & ...      &  0.0167  & -0.0614  &  0.25876 &  0.2904  &  0.2523  &  0.1932  &  0.27550 &  0.313   &  2.5e-01 &  1.0000 \\\\\n",
       "\\end{tabular}\n"
      ],
      "text/markdown": [
       "\n",
       "| <!--/--> | Start | End | PG0Dis | PG0Shown | PG0Submit | PG1Submit | PG2Submit | PG3Submit | PG4Dtr0_6 | PG4Psv7_8 | ... | PG5_12Order | PG5_13Order | PG5Submit | PG6Submit | PG7Submit | PG8Submit | PG9Submit | PG10Submit | PG11Submit | PG12Submit | \n",
       "|---|---|---|---|---|---|---|---|---|---|---|---|---|---|---|---|---|---|---|---|---|---|---|---|---|---|---|---|---|---|---|---|---|---|\n",
       "| Start |  1.0000  |  0.9952  | -0.0417  | -0.11507 |  0.1350  |  0.1156  |  0.0791  |  0.0384  |  0.01210 |  0.00371 | ...      | -0.0369  |  0.0598  |  0.08512 |  0.0054  |  0.0776  |  0.0441  |  0.04101 |  0.047   |  7.9e-02 |  0.0746  | \n",
       "| End |  0.9952  |  1.0000  | -0.0415  | -0.09879 |  0.1142  |  0.1550  |  0.0791  |  0.0511  | -0.05185 | -0.04576 | ...      | -0.0359  |  0.0661  |  0.09088 |  0.0051  |  0.0759  |  0.0435  |  0.04071 |  0.052   |  7.9e-02 |  0.0772  | \n",
       "| PG0Dis | -0.0417  | -0.0415  |  1.0000  |  0.87220 |  0.0153  |  0.0065  |  0.0041  |  0.0567  |  0.16368 |  0.02668 | ...      |  0.0151  |  0.0384  |  0.00601 |  0.0277  |  0.0097  |  0.0354  |  0.00995 | -0.029   | -4.5e-02 |  0.0546  | \n",
       "| PG0Shown | -0.1151  | -0.0988  |  0.8722  |  1.00000 |  0.0360  |  0.0205  |  0.0023  |  0.0497  |  0.08226 |  0.00036 | ...      |  0.0074  |  0.0407  | -0.00888 |  0.0401  |  0.0121  |  0.0264  |  0.00056 | -0.045   | -7.1e-02 |  0.0436  | \n",
       "| PG0Submit |  0.1350  |  0.1142  |  0.0153  |  0.03596 |  1.0000  |  0.1088  |  0.1037  |  0.1273  | -0.00802 | -0.03763 | ...      | -0.0161  | -0.0280  |  0.17671 |  0.1518  |  0.1365  |  0.1258  |  0.17579 |  0.225   |  1.1e-01 |  0.1096  | \n",
       "| PG1Submit |  0.1156  |  0.1550  |  0.0065  |  0.02047 |  0.1088  |  1.0000  |  0.1452  |  0.2688  | -0.06852 |  0.05661 | ...      |  0.0512  | -0.0651  |  0.24670 |  0.2414  |  0.1133  |  0.1069  |  0.10895 |  0.170   |  7.4e-02 |  0.1137  | \n",
       "| PG2Submit |  0.0791  |  0.0791  |  0.0041  |  0.00235 |  0.1037  |  0.1452  |  1.0000  |  0.2045  |  0.00146 |  0.00897 | ...      |  0.0210  | -0.0047  |  0.21851 |  0.2696  |  0.1245  |  0.1567  |  0.20127 |  0.099   |  1.1e-01 |  0.1073  | \n",
       "| PG3Submit |  0.0384  |  0.0511  |  0.0567  |  0.04968 |  0.1273  |  0.2688  |  0.2045  |  1.0000  |  0.00865 |  0.04424 | ...      |  0.0464  | -0.0222  |  0.26048 |  0.2706  |  0.1316  |  0.1822  |  0.27450 |  0.161   |  1.4e-01 |  0.1642  | \n",
       "| PG4Dtr0_6 |  0.0121  | -0.0518  |  0.1637  |  0.08226 | -0.0080  | -0.0685  |  0.0015  |  0.0087  |  1.00000 |       NA | ...      |  0.1774  | -0.1289  | -0.05214 | -0.1618  |  0.1560  |  0.0695  | -0.07292 |  0.044   |  8.4e-04 | -0.0272  | \n",
       "| PG4Psv7_8 |  0.0037  | -0.0458  |  0.0267  |  0.00036 | -0.0376  |  0.0566  |  0.0090  |  0.0442  |       NA |  1.00000 | ...      | -0.0008  | -0.0218  |  0.08974 | -0.0146  | -0.0363  |  0.0526  |  0.05977 |  0.069   | -4.9e-02 | -0.0217  | \n",
       "| PG4Prm9_10 | -0.0267  | -0.0267  | -0.0092  |  0.03279 | -0.0939  |  0.0120  | -0.0587  | -0.0062  |       NA |       NA | ...      |  0.0233  |  0.0916  |  0.00077 | -0.0418  | -0.0633  | -0.0550  | -0.02989 | -0.061   | -8.6e-05 |  0.0169  | \n",
       "| PG4AllResp |  0.0063  | -0.0158  |  0.0018  | -0.02094 | -0.0236  |  0.0297  |  0.0293  | -0.0193  |  1.00000 |  1.00000 | ...      | -0.0306  | -0.0166  |  0.01248 | -0.0040  | -0.0753  | -0.1294  | -0.03812 | -0.106   | -8.2e-02 | -0.0668  | \n",
       "| PG4Submit |  0.0187  |  0.0172  | -0.0539  | -0.05978 |  0.2191  |  0.1651  |  0.1515  |  0.1956  | -0.14272 | -0.08350 | ...      | -0.0119  | -0.0376  |  0.27328 |  0.3326  |  0.2775  |  0.1821  |  0.33236 |  0.391   |  2.8e-01 |  0.2360  | \n",
       "| PG5_1Order |  0.0218  |  0.0196  |  0.0140  |  0.01254 | -0.0240  |  0.0750  | -0.0069  |  0.0578  | -0.09488 | -0.01399 | ...      | -0.0785  | -0.0950  |  0.08054 |  0.0334  |  0.0173  | -0.0388  |  0.01033 | -0.096   | -2.5e-02 |  0.0238  | \n",
       "| PG5_2Order |  0.0014  |  0.0002  | -0.0386  | -0.03617 |  0.0402  | -0.0226  | -0.0297  |  0.0048  | -0.00954 |  0.08081 | ...      |  0.0527  | -0.0652  |  0.03898 | -0.0571  | -0.0551  | -0.0567  | -0.01925 |  0.015   |  7.3e-03 |  0.0469  | \n",
       "| PG5_3Order | -0.0089  | -0.0177  |  0.0441  |  0.04228 |  0.0155  |  0.0391  | -0.0131  |  0.0172  |  0.13631 |  0.04396 | ...      | -0.0698  | -0.0250  |  0.23450 |  0.0419  |  0.0058  | -0.0086  |  0.02604 |  0.063   |  3.4e-02 |  0.0538  | \n",
       "| PG5_4Order |  0.0931  |  0.0949  | -0.0262  | -0.02214 | -0.0172  |  0.0293  |  0.0560  | -0.0462  |  0.01735 | -0.12489 | ...      | -0.0447  | -0.0329  |  0.14487 |  0.0414  |  0.0460  |  0.0182  | -0.03734 | -0.075   | -8.6e-02 | -0.0211  | \n",
       "| PG5_5Order | -0.0523  | -0.0466  | -0.0087  | -0.01058 |  0.0860  |  0.0345  |  0.0570  | -0.0165  |  0.04533 | -0.06369 | ...      | -0.0499  | -0.0981  |  0.28698 |  0.0498  |  0.0372  |  0.0427  | -0.02976 |  0.076   |  2.4e-02 |  0.0085  | \n",
       "| PG5_6Order |  0.0237  |  0.0217  | -0.0480  | -0.04902 |  0.0762  |  0.0327  |  0.1077  |  0.0370  | -0.13255 |  0.01662 | ...      | -0.0430  | -0.0031  |  0.22759 |  0.0165  |  0.0222  |  0.0639  | -0.02974 |  0.015   |  2.8e-02 |  0.0539  | \n",
       "| PG5_7Order | -0.0200  | -0.0236  |  0.0220  | -0.00444 | -0.1174  | -0.0815  | -0.0285  |  0.0242  | -0.16196 | -0.06938 | ...      |  0.0410  |  0.0944  |  0.06439 | -0.0222  | -0.1082  | -0.0804  | -0.01762 | -0.017   | -4.4e-02 | -0.0617  | \n",
       "| PG5_8Order | -0.0804  | -0.0852  | -0.0147  | -0.00433 | -0.0421  | -0.0205  | -0.0387  | -0.0129  | -0.16181 |  0.01019 | ...      | -0.0896  | -0.1168  |  0.13787 | -0.1227  | -0.0126  | -0.0526  | -0.05699 | -0.065   | -3.7e-02 | -0.0182  | \n",
       "| PG5_9Order |  0.0171  |  0.0167  | -0.0712  | -0.10235 |  0.0476  |  0.0260  | -0.0410  | -0.0641  | -0.07948 | -0.09747 | ...      | -0.0431  | -0.0837  |  0.18534 | -0.0188  | -0.0314  | -0.0898  | -0.01354 | -0.034   |  6.2e-03 | -0.0280  | \n",
       "| PG5_10Order | -0.0214  | -0.0112  |  0.0200  |  0.02736 |  0.0086  | -0.0017  | -0.0418  |  0.0581  | -0.05310 |  0.15949 | ...      | -0.0905  | -0.1214  |  0.22151 |  0.0427  |  0.0311  |  0.0345  |  0.02011 |  0.102   |  1.8e-02 | -0.0092  | \n",
       "| PG5_11Order | -0.0241  | -0.0196  |  0.0190  |  0.02551 |  0.0927  | -0.0047  | -0.1043  |  0.0279  |  0.02791 | -0.03487 | ...      |  0.1233  |  0.1434  |  0.02942 | -0.0055  |  0.0210  |  0.0232  |  0.05579 | -0.038   | -2.5e-03 |  0.0275  | \n",
       "| PG5_12Order | -0.0369  | -0.0359  |  0.0151  |  0.00743 | -0.0161  |  0.0512  |  0.0210  |  0.0464  |  0.17741 | -0.00080 | ...      |  1.0000  |  0.1231  |  0.10997 |  0.0777  |  0.0529  |  0.0149  |  0.00295 |  0.016   |  2.4e-02 |  0.0167  | \n",
       "| PG5_13Order |  0.0598  |  0.0661  |  0.0384  |  0.04072 | -0.0280  | -0.0651  | -0.0047  | -0.0222  | -0.12890 | -0.02179 | ...      |  0.1231  |  1.0000  |  0.00976 | -0.0209  |  0.0355  |  0.0556  |  0.07229 | -0.023   |  1.3e-02 | -0.0614  | \n",
       "| PG5Submit |  0.0851  |  0.0909  |  0.0060  | -0.00888 |  0.1767  |  0.2467  |  0.2185  |  0.2605  | -0.05214 |  0.08974 | ...      |  0.1100  |  0.0098  |  1.00000 |  0.3224  |  0.2312  |  0.2035  |  0.30291 |  0.269   |  2.4e-01 |  0.2588  | \n",
       "| PG6Submit |  0.0054  |  0.0051  |  0.0277  |  0.04005 |  0.1518  |  0.2414  |  0.2696  |  0.2706  | -0.16179 | -0.01463 | ...      |  0.0777  | -0.0209  |  0.32240 |  1.0000  |  0.3086  |  0.2065  |  0.44528 |  0.343   |  2.8e-01 |  0.2904  | \n",
       "| PG7Submit |  0.0776  |  0.0759  |  0.0097  |  0.01212 |  0.1365  |  0.1133  |  0.1245  |  0.1316  |  0.15596 | -0.03631 | ...      |  0.0529  |  0.0355  |  0.23120 |  0.3086  |  1.0000  |  0.1606  |  0.27819 |  0.312   |  2.8e-01 |  0.2523  | \n",
       "| PG8Submit |  0.0441  |  0.0435  |  0.0354  |  0.02635 |  0.1258  |  0.1069  |  0.1567  |  0.1822  |  0.06953 |  0.05260 | ...      |  0.0149  |  0.0556  |  0.20351 |  0.2065  |  0.1606  |  1.0000  |  0.25569 |  0.200   |  2.1e-01 |  0.1932  | \n",
       "| PG9Submit |  0.0410  |  0.0407  |  0.0099  |  0.00056 |  0.1758  |  0.1090  |  0.2013  |  0.2745  | -0.07292 |  0.05977 | ...      |  0.0029  |  0.0723  |  0.30291 |  0.4453  |  0.2782  |  0.2557  |  1.00000 |  0.290   |  2.8e-01 |  0.2755  | \n",
       "| PG10Submit |  0.0474  |  0.0517  | -0.0293  | -0.04481 |  0.2248  |  0.1701  |  0.0989  |  0.1614  |  0.04433 |  0.06942 | ...      |  0.0159  | -0.0227  |  0.26881 |  0.3428  |  0.3121  |  0.2000  |  0.29018 |  1.000   |  3.5e-01 |  0.3131  | \n",
       "| PG11Submit |  0.0790  |  0.0792  | -0.0454  | -0.07102 |  0.1093  |  0.0738  |  0.1147  |  0.1383  |  0.00084 | -0.04870 | ...      |  0.0240  |  0.0130  |  0.23552 |  0.2777  |  0.2768  |  0.2065  |  0.27906 |  0.346   |  1.0e+00 |  0.2513  | \n",
       "| PG12Submit |  0.0746  |  0.0772  |  0.0546  |  0.04364 |  0.1096  |  0.1137  |  0.1073  |  0.1642  | -0.02721 | -0.02169 | ...      |  0.0167  | -0.0614  |  0.25876 |  0.2904  |  0.2523  |  0.1932  |  0.27550 |  0.313   |  2.5e-01 |  1.0000  | \n",
       "\n",
       "\n"
      ],
      "text/plain": [
       "            Start   End     PG0Dis  PG0Shown PG0Submit PG1Submit PG2Submit\n",
       "Start        1.0000  0.9952 -0.0417 -0.11507  0.1350    0.1156    0.0791  \n",
       "End          0.9952  1.0000 -0.0415 -0.09879  0.1142    0.1550    0.0791  \n",
       "PG0Dis      -0.0417 -0.0415  1.0000  0.87220  0.0153    0.0065    0.0041  \n",
       "PG0Shown    -0.1151 -0.0988  0.8722  1.00000  0.0360    0.0205    0.0023  \n",
       "PG0Submit    0.1350  0.1142  0.0153  0.03596  1.0000    0.1088    0.1037  \n",
       "PG1Submit    0.1156  0.1550  0.0065  0.02047  0.1088    1.0000    0.1452  \n",
       "PG2Submit    0.0791  0.0791  0.0041  0.00235  0.1037    0.1452    1.0000  \n",
       "PG3Submit    0.0384  0.0511  0.0567  0.04968  0.1273    0.2688    0.2045  \n",
       "PG4Dtr0_6    0.0121 -0.0518  0.1637  0.08226 -0.0080   -0.0685    0.0015  \n",
       "PG4Psv7_8    0.0037 -0.0458  0.0267  0.00036 -0.0376    0.0566    0.0090  \n",
       "PG4Prm9_10  -0.0267 -0.0267 -0.0092  0.03279 -0.0939    0.0120   -0.0587  \n",
       "PG4AllResp   0.0063 -0.0158  0.0018 -0.02094 -0.0236    0.0297    0.0293  \n",
       "PG4Submit    0.0187  0.0172 -0.0539 -0.05978  0.2191    0.1651    0.1515  \n",
       "PG5_1Order   0.0218  0.0196  0.0140  0.01254 -0.0240    0.0750   -0.0069  \n",
       "PG5_2Order   0.0014  0.0002 -0.0386 -0.03617  0.0402   -0.0226   -0.0297  \n",
       "PG5_3Order  -0.0089 -0.0177  0.0441  0.04228  0.0155    0.0391   -0.0131  \n",
       "PG5_4Order   0.0931  0.0949 -0.0262 -0.02214 -0.0172    0.0293    0.0560  \n",
       "PG5_5Order  -0.0523 -0.0466 -0.0087 -0.01058  0.0860    0.0345    0.0570  \n",
       "PG5_6Order   0.0237  0.0217 -0.0480 -0.04902  0.0762    0.0327    0.1077  \n",
       "PG5_7Order  -0.0200 -0.0236  0.0220 -0.00444 -0.1174   -0.0815   -0.0285  \n",
       "PG5_8Order  -0.0804 -0.0852 -0.0147 -0.00433 -0.0421   -0.0205   -0.0387  \n",
       "PG5_9Order   0.0171  0.0167 -0.0712 -0.10235  0.0476    0.0260   -0.0410  \n",
       "PG5_10Order -0.0214 -0.0112  0.0200  0.02736  0.0086   -0.0017   -0.0418  \n",
       "PG5_11Order -0.0241 -0.0196  0.0190  0.02551  0.0927   -0.0047   -0.1043  \n",
       "PG5_12Order -0.0369 -0.0359  0.0151  0.00743 -0.0161    0.0512    0.0210  \n",
       "PG5_13Order  0.0598  0.0661  0.0384  0.04072 -0.0280   -0.0651   -0.0047  \n",
       "PG5Submit    0.0851  0.0909  0.0060 -0.00888  0.1767    0.2467    0.2185  \n",
       "PG6Submit    0.0054  0.0051  0.0277  0.04005  0.1518    0.2414    0.2696  \n",
       "PG7Submit    0.0776  0.0759  0.0097  0.01212  0.1365    0.1133    0.1245  \n",
       "PG8Submit    0.0441  0.0435  0.0354  0.02635  0.1258    0.1069    0.1567  \n",
       "PG9Submit    0.0410  0.0407  0.0099  0.00056  0.1758    0.1090    0.2013  \n",
       "PG10Submit   0.0474  0.0517 -0.0293 -0.04481  0.2248    0.1701    0.0989  \n",
       "PG11Submit   0.0790  0.0792 -0.0454 -0.07102  0.1093    0.0738    0.1147  \n",
       "PG12Submit   0.0746  0.0772  0.0546  0.04364  0.1096    0.1137    0.1073  \n",
       "            PG3Submit PG4Dtr0_6 PG4Psv7_8 ... PG5_12Order PG5_13Order PG5Submit\n",
       "Start        0.0384    0.01210   0.00371  ... -0.0369      0.0598      0.08512 \n",
       "End          0.0511   -0.05185  -0.04576  ... -0.0359      0.0661      0.09088 \n",
       "PG0Dis       0.0567    0.16368   0.02668  ...  0.0151      0.0384      0.00601 \n",
       "PG0Shown     0.0497    0.08226   0.00036  ...  0.0074      0.0407     -0.00888 \n",
       "PG0Submit    0.1273   -0.00802  -0.03763  ... -0.0161     -0.0280      0.17671 \n",
       "PG1Submit    0.2688   -0.06852   0.05661  ...  0.0512     -0.0651      0.24670 \n",
       "PG2Submit    0.2045    0.00146   0.00897  ...  0.0210     -0.0047      0.21851 \n",
       "PG3Submit    1.0000    0.00865   0.04424  ...  0.0464     -0.0222      0.26048 \n",
       "PG4Dtr0_6    0.0087    1.00000        NA  ...  0.1774     -0.1289     -0.05214 \n",
       "PG4Psv7_8    0.0442         NA   1.00000  ... -0.0008     -0.0218      0.08974 \n",
       "PG4Prm9_10  -0.0062         NA        NA  ...  0.0233      0.0916      0.00077 \n",
       "PG4AllResp  -0.0193    1.00000   1.00000  ... -0.0306     -0.0166      0.01248 \n",
       "PG4Submit    0.1956   -0.14272  -0.08350  ... -0.0119     -0.0376      0.27328 \n",
       "PG5_1Order   0.0578   -0.09488  -0.01399  ... -0.0785     -0.0950      0.08054 \n",
       "PG5_2Order   0.0048   -0.00954   0.08081  ...  0.0527     -0.0652      0.03898 \n",
       "PG5_3Order   0.0172    0.13631   0.04396  ... -0.0698     -0.0250      0.23450 \n",
       "PG5_4Order  -0.0462    0.01735  -0.12489  ... -0.0447     -0.0329      0.14487 \n",
       "PG5_5Order  -0.0165    0.04533  -0.06369  ... -0.0499     -0.0981      0.28698 \n",
       "PG5_6Order   0.0370   -0.13255   0.01662  ... -0.0430     -0.0031      0.22759 \n",
       "PG5_7Order   0.0242   -0.16196  -0.06938  ...  0.0410      0.0944      0.06439 \n",
       "PG5_8Order  -0.0129   -0.16181   0.01019  ... -0.0896     -0.1168      0.13787 \n",
       "PG5_9Order  -0.0641   -0.07948  -0.09747  ... -0.0431     -0.0837      0.18534 \n",
       "PG5_10Order  0.0581   -0.05310   0.15949  ... -0.0905     -0.1214      0.22151 \n",
       "PG5_11Order  0.0279    0.02791  -0.03487  ...  0.1233      0.1434      0.02942 \n",
       "PG5_12Order  0.0464    0.17741  -0.00080  ...  1.0000      0.1231      0.10997 \n",
       "PG5_13Order -0.0222   -0.12890  -0.02179  ...  0.1231      1.0000      0.00976 \n",
       "PG5Submit    0.2605   -0.05214   0.08974  ...  0.1100      0.0098      1.00000 \n",
       "PG6Submit    0.2706   -0.16179  -0.01463  ...  0.0777     -0.0209      0.32240 \n",
       "PG7Submit    0.1316    0.15596  -0.03631  ...  0.0529      0.0355      0.23120 \n",
       "PG8Submit    0.1822    0.06953   0.05260  ...  0.0149      0.0556      0.20351 \n",
       "PG9Submit    0.2745   -0.07292   0.05977  ...  0.0029      0.0723      0.30291 \n",
       "PG10Submit   0.1614    0.04433   0.06942  ...  0.0159     -0.0227      0.26881 \n",
       "PG11Submit   0.1383    0.00084  -0.04870  ...  0.0240      0.0130      0.23552 \n",
       "PG12Submit   0.1642   -0.02721  -0.02169  ...  0.0167     -0.0614      0.25876 \n",
       "            PG6Submit PG7Submit PG8Submit PG9Submit PG10Submit PG11Submit\n",
       "Start        0.0054    0.0776    0.0441    0.04101   0.047      7.9e-02  \n",
       "End          0.0051    0.0759    0.0435    0.04071   0.052      7.9e-02  \n",
       "PG0Dis       0.0277    0.0097    0.0354    0.00995  -0.029     -4.5e-02  \n",
       "PG0Shown     0.0401    0.0121    0.0264    0.00056  -0.045     -7.1e-02  \n",
       "PG0Submit    0.1518    0.1365    0.1258    0.17579   0.225      1.1e-01  \n",
       "PG1Submit    0.2414    0.1133    0.1069    0.10895   0.170      7.4e-02  \n",
       "PG2Submit    0.2696    0.1245    0.1567    0.20127   0.099      1.1e-01  \n",
       "PG3Submit    0.2706    0.1316    0.1822    0.27450   0.161      1.4e-01  \n",
       "PG4Dtr0_6   -0.1618    0.1560    0.0695   -0.07292   0.044      8.4e-04  \n",
       "PG4Psv7_8   -0.0146   -0.0363    0.0526    0.05977   0.069     -4.9e-02  \n",
       "PG4Prm9_10  -0.0418   -0.0633   -0.0550   -0.02989  -0.061     -8.6e-05  \n",
       "PG4AllResp  -0.0040   -0.0753   -0.1294   -0.03812  -0.106     -8.2e-02  \n",
       "PG4Submit    0.3326    0.2775    0.1821    0.33236   0.391      2.8e-01  \n",
       "PG5_1Order   0.0334    0.0173   -0.0388    0.01033  -0.096     -2.5e-02  \n",
       "PG5_2Order  -0.0571   -0.0551   -0.0567   -0.01925   0.015      7.3e-03  \n",
       "PG5_3Order   0.0419    0.0058   -0.0086    0.02604   0.063      3.4e-02  \n",
       "PG5_4Order   0.0414    0.0460    0.0182   -0.03734  -0.075     -8.6e-02  \n",
       "PG5_5Order   0.0498    0.0372    0.0427   -0.02976   0.076      2.4e-02  \n",
       "PG5_6Order   0.0165    0.0222    0.0639   -0.02974   0.015      2.8e-02  \n",
       "PG5_7Order  -0.0222   -0.1082   -0.0804   -0.01762  -0.017     -4.4e-02  \n",
       "PG5_8Order  -0.1227   -0.0126   -0.0526   -0.05699  -0.065     -3.7e-02  \n",
       "PG5_9Order  -0.0188   -0.0314   -0.0898   -0.01354  -0.034      6.2e-03  \n",
       "PG5_10Order  0.0427    0.0311    0.0345    0.02011   0.102      1.8e-02  \n",
       "PG5_11Order -0.0055    0.0210    0.0232    0.05579  -0.038     -2.5e-03  \n",
       "PG5_12Order  0.0777    0.0529    0.0149    0.00295   0.016      2.4e-02  \n",
       "PG5_13Order -0.0209    0.0355    0.0556    0.07229  -0.023      1.3e-02  \n",
       "PG5Submit    0.3224    0.2312    0.2035    0.30291   0.269      2.4e-01  \n",
       "PG6Submit    1.0000    0.3086    0.2065    0.44528   0.343      2.8e-01  \n",
       "PG7Submit    0.3086    1.0000    0.1606    0.27819   0.312      2.8e-01  \n",
       "PG8Submit    0.2065    0.1606    1.0000    0.25569   0.200      2.1e-01  \n",
       "PG9Submit    0.4453    0.2782    0.2557    1.00000   0.290      2.8e-01  \n",
       "PG10Submit   0.3428    0.3121    0.2000    0.29018   1.000      3.5e-01  \n",
       "PG11Submit   0.2777    0.2768    0.2065    0.27906   0.346      1.0e+00  \n",
       "PG12Submit   0.2904    0.2523    0.1932    0.27550   0.313      2.5e-01  \n",
       "            PG12Submit\n",
       "Start        0.0746   \n",
       "End          0.0772   \n",
       "PG0Dis       0.0546   \n",
       "PG0Shown     0.0436   \n",
       "PG0Submit    0.1096   \n",
       "PG1Submit    0.1137   \n",
       "PG2Submit    0.1073   \n",
       "PG3Submit    0.1642   \n",
       "PG4Dtr0_6   -0.0272   \n",
       "PG4Psv7_8   -0.0217   \n",
       "PG4Prm9_10   0.0169   \n",
       "PG4AllResp  -0.0668   \n",
       "PG4Submit    0.2360   \n",
       "PG5_1Order   0.0238   \n",
       "PG5_2Order   0.0469   \n",
       "PG5_3Order   0.0538   \n",
       "PG5_4Order  -0.0211   \n",
       "PG5_5Order   0.0085   \n",
       "PG5_6Order   0.0539   \n",
       "PG5_7Order  -0.0617   \n",
       "PG5_8Order  -0.0182   \n",
       "PG5_9Order  -0.0280   \n",
       "PG5_10Order -0.0092   \n",
       "PG5_11Order  0.0275   \n",
       "PG5_12Order  0.0167   \n",
       "PG5_13Order -0.0614   \n",
       "PG5Submit    0.2588   \n",
       "PG6Submit    0.2904   \n",
       "PG7Submit    0.2523   \n",
       "PG8Submit    0.1932   \n",
       "PG9Submit    0.2755   \n",
       "PG10Submit   0.3131   \n",
       "PG11Submit   0.2513   \n",
       "PG12Submit   1.0000   "
      ]
     },
     "metadata": {},
     "output_type": "display_data"
    }
   ],
   "source": [
    "# get numeric fields only for correlation\n",
    "sel = c()\n",
    "for (i in 1:dim(data)[2]) if (is.numeric(data[,i])) sel = c(sel, i);\n",
    "\n",
    "\n",
    "cor(data[,sel],method=\"spearman\",use=\"pairwise.complete.obs\"); #OK for any: uses ranks"
   ]
  },
  {
   "cell_type": "markdown",
   "metadata": {},
   "source": [
    "## Basic Correlation Analysis:\n",
    "The above summary shows the correlations between the numeric variables of our dataset. The Spearman Rank-Order Correlation Coefficient has values between -1 and +1. The closer the coefficient is to +1 the more associated the two variables are and the closest the coefficient is to -1, the more negatively associated the variables are. If the coefficient is 0, there is little to no association between ranks of variables. The correlations at eactly 1 or -1 are too correlated(are the same value) and should not be included in the analysis. Looking of the table of coefficients above, at a quick glance, many of the coefficients are very close to one which would indicate that the variables are very mildly associated."
   ]
  },
  {
   "cell_type": "markdown",
   "metadata": {},
   "source": [
    "Let's Filter Out Some of the Extraneous Data:\n",
    "====\n",
    "\n",
    "### Transformation and Cleaning of Survey Data\n",
    "Data was filtered based on:\n",
    "* Whether the survey was completed\n",
    "* Whether the suvey was taken on a PC, Phone, or Tablet"
   ]
  },
  {
   "cell_type": "code",
   "execution_count": 6,
   "metadata": {},
   "outputs": [],
   "source": [
    "# Filter function will find rows/columns where conditions are TRUE and drop any NAs\n",
    "filtered_data = filter(data, Device == \"PC\"| Device == \"Phone\"| Device == \"Tablet\",)\n",
    "filtered_data = filter(filtered_data, Completed == \"TRUE\")"
   ]
  },
  {
   "cell_type": "code",
   "execution_count": 7,
   "metadata": {},
   "outputs": [
    {
     "name": "stdout",
     "output_type": "stream",
     "text": [
      "[1] \"There were 1353 rows before filtering and 805 after.\"\n"
     ]
    }
   ],
   "source": [
    "# Number of rows filtered out of data\n",
    "num_of_rows_before = dim(data)[1]\n",
    "num_of_rows_after = dim(filtered_data)[1]\n",
    "print(paste(\"There were\", num_of_rows_before, \"rows before filtering and\", num_of_rows_after,\"after.\"))"
   ]
  },
  {
   "cell_type": "markdown",
   "metadata": {
    "collapsed": true
   },
   "source": [
    "Now Let's Answer the Simple Questions to Get to Know the Data Better:\n",
    "=====\n",
    "\n",
    "### Time to take entire survey?"
   ]
  },
  {
   "cell_type": "code",
   "execution_count": 8,
   "metadata": {},
   "outputs": [
    {
     "name": "stdout",
     "output_type": "stream",
     "text": [
      "[1] \"The min survey time was 0.85 minutes\"\n",
      "[1] \"The max survey time was 24 hours\"\n",
      "[1] \"The mean survey time was roughly 11 minutes\"\n"
     ]
    }
   ],
   "source": [
    "# Calculate max and mean submit time\n",
    "survey_time = filtered_data$End - filtered_data$Start\n",
    "min_time = min(survey_time) / 60 # convert to minutes\n",
    "max_time = max(survey_time) / 3600 # convert to hours\n",
    "mean_time = mean(survey_time) / 60 # convert to minutes\n",
    "print(paste(\"The min survey time was\", min_time, \"minutes\"))\n",
    "print(paste(\"The max survey time was\", round(max_time), \"hours\"))\n",
    "print(paste(\"The mean survey time was roughly\", round(mean_time), 'minutes'))"
   ]
  },
  {
   "cell_type": "markdown",
   "metadata": {},
   "source": [
    "The survey on average takes about 11 minites. As you can see from the min and max values, the data should be cleaned farther to remove any outliers. Most likely the min value was an incomplete survey or completed by someone who may not have been very detailed with his or her responses. The max survey time appears to be too high to make sense. Perhaps the browser with the survey opened was left overnight. The box plot below shows a more realistic visual for the amount of time the survey takes to complete by excluding the outliers."
   ]
  },
  {
   "cell_type": "code",
   "execution_count": 9,
   "metadata": {},
   "outputs": [
    {
     "data": {
      "image/png": "[encoded data removed]",
      "text/plain": [
       "Plot with title \"Survey Time\""
      ]
     },
     "metadata": {},
     "output_type": "display_data"
    }
   ],
   "source": [
    "# Plot survey time box plot with excluded outliers\n",
    "boxplot(survey_time, outline = FALSE, main=\"Survey Time\")"
   ]
  },
  {
   "cell_type": "markdown",
   "metadata": {},
   "source": [
    "### Question that took the longest and the least amount of time to complete?\n",
    "Below is a graph of the mean submit times for each of the 12 questions."
   ]
  },
  {
   "cell_type": "code",
   "execution_count": 10,
   "metadata": {},
   "outputs": [
    {
     "data": {
      "image/png": "[encoded data removed]",
      "text/plain": [
       "plot without title"
      ]
     },
     "metadata": {},
     "output_type": "display_data"
    }
   ],
   "source": [
    "submit_cols <- grep(\"PG([1-9]).*Submit\", names(data))\n",
    "submit_means = apply(data[, submit_cols], 2, mean, na.rm = T)\n",
    "plot(submit_means, xlab=\"Question Number\", ylab=\"Mean Submit Time (sec)\")"
   ]
  },
  {
   "cell_type": "markdown",
   "metadata": {},
   "source": [
    "As you can see, question five took on average the longest to answer with a mean of about 1.5 minutes. Where as, question eleven on average took the shortest amount of time with a mean of about 6 seconds. These measures make sense with respect to the data because question 5 involved time-consuming ranking of 13 different factors for choosing a package for their project and question eleven only had 4 options total to choose from and asked a common question about gender."
   ]
  },
  {
   "cell_type": "markdown",
   "metadata": {},
   "source": [
    "### Top-ranked criteria?\n",
    "For question five, the order of the criteria was recorded. Below is a graph showing the mean rankings for each of the 13 criteria outlined above in the introduction. "
   ]
  },
  {
   "cell_type": "code",
   "execution_count": 11,
   "metadata": {},
   "outputs": [
    {
     "data": {
      "image/png": "[encoded data removed]",
      "text/plain": [
       "plot without title"
      ]
     },
     "metadata": {},
     "output_type": "display_data"
    }
   ],
   "source": [
    "order_cols <- grep(\"PG5_.*Order\", names(data))\n",
    "order_mean = apply(data[, order_cols], 2, mean, na.rm = T)\n",
    "plot(order_mean, xlab=\"Criteria\", ylab=\"Rank Mean\")"
   ]
  },
  {
   "cell_type": "markdown",
   "metadata": {},
   "source": [
    "Based on the above scatter plot, criteria two was ranked the most often and the highest. Criteria two was backlog and number of unresolved issues. This measure is reasonable because a package with lots of unresolved issues or backlog would most likely not be picked as compared to a package with very few unresolved issues or backlog."
   ]
  },
  {
   "cell_type": "markdown",
   "metadata": {},
   "source": [
    "### Demographic distribution by age?\n",
    "The ages of the surveyors where also recorded. Below is a histogram showing the distribution of the ages for this data set. Most of the surveyors were between 25-34 years of age. The35-44 years of age category was the second most."
   ]
  },
  {
   "cell_type": "code",
   "execution_count": 12,
   "metadata": {},
   "outputs": [
    {
     "data": {},
     "metadata": {},
     "output_type": "display_data"
    },
    {
     "data": {
      "image/png": "[encoded data removed]",
      "text/plain": [
       "plot without title"
      ]
     },
     "metadata": {},
     "output_type": "display_data"
    }
   ],
   "source": [
    "ggplot(data.frame(filtered_data[,81]), aes(x=filtered_data[,81])) + geom_bar() + xlab(\"Age Distribution\") + ylab(\"Number of Survey Takers\")\n"
   ]
  },
  {
   "cell_type": "markdown",
   "metadata": {},
   "source": [
    "## Second Cleaning Step to Prep Data for Model\n",
    "In order to look at just our response variable, we will need to remove all variables relating to the other response variables from page 5."
   ]
  },
  {
   "cell_type": "code",
   "execution_count": 13,
   "metadata": {},
   "outputs": [
    {
     "name": "stdout",
     "output_type": "stream",
     "text": [
      " [1] \"Device\"        \"Completed\"     \"Start\"         \"End\"          \n",
      " [5] \"PG0Dis\"        \"PG0Shown\"      \"PG0Submit\"     \"PG1PsnUse\"    \n",
      " [9] \"PG1WdAuth\"     \"PG1Trn\"        \"PG1Other\"      \"PG1Submit\"    \n",
      "[13] \"PG2Resp\"       \"PG2Submit\"     \"PG2Resp.1\"     \"PG3Submit\"    \n",
      "[17] \"PG4Dtr0_6\"     \"PG4Psv7_8\"     \"PG4Prm9_10\"    \"PG4AllResp\"   \n",
      "[21] \"PG4Submit\"     \"PG5_1RRPQ\"     \"PG5_1Order\"    \"PG5_1Time\"    \n",
      "[25] \"PG5_2BNUI\"     \"PG5_2Order\"    \"PG5_2Time\"     \"PG5_3HDS\"     \n",
      "[29] \"PG5_3Order\"    \"PG5_3Time\"     \"PG5_4VGP\"      \"PG5_4Order\"   \n",
      "[33] \"PG5_4Time\"     \"PG5_5PHR\"      \"PG5_5Order\"    \"PG5_5Time\"    \n",
      "[37] \"PG5_6SSYOP\"    \"PG5_6Order\"    \"PG5_6Time\"     \"PG5_7NDYP\"    \n",
      "[41] \"PG5_7Order\"    \"PG5_7Time\"     \"PG5_8CP\"       \"PG5_8Order\"   \n",
      "[45] \"PG5_8Time\"     \"PG5_9FRP\"      \"PG5_9Order\"    \"PG5_9Time\"    \n",
      "[49] \"PG5_10RPA\"     \"PG5_10Order\"   \"PG5_10Time\"    \"PG5_11NSG\"    \n",
      "[53] \"PG5_11Order\"   \"PG5_11Time\"    \"PG5_12NWG\"     \"PG5_12Order\"  \n",
      "[57] \"PG5_12Time\"    \"PG5_13NFG\"     \"PG5_13Order\"   \"PG5_13Time\"   \n",
      "[61] \"PG5Submit\"     \"PG6Resp\"       \"PG6Submit\"     \"PG7R\"         \n",
      "[65] \"PG7C.C..\"      \"PG7Java\"       \"PG7Python\"     \"PG7Javascript\"\n",
      "[69] \"PG7Go\"         \"PG7C.\"         \"PG7Other\"      \"PG7Submit\"    \n",
      "[73] \"PG8Resp\"       \"PG8Submit\"     \"PG9Resp\"       \"PG9Submit\"    \n",
      "[77] \"PG10Resp\"      \"PG10Submit\"    \"PG11Resp\"      \"PG11Submit\"   \n",
      "[81] \"PG12Resp\"      \"PG12Submit\"   \n"
     ]
    }
   ],
   "source": [
    "# Get and print a list of column headers\n",
    "data_header_list <- colnames(filtered_data)\n",
    "print(data_header_list)"
   ]
  },
  {
   "cell_type": "code",
   "execution_count": 14,
   "metadata": {},
   "outputs": [
    {
     "name": "stdout",
     "output_type": "stream",
     "text": [
      " [1] \"Device\"        \"Completed\"     \"Start\"         \"End\"          \n",
      " [5] \"PG0Dis\"        \"PG0Shown\"      \"PG0Submit\"     \"PG1PsnUse\"    \n",
      " [9] \"PG1WdAuth\"     \"PG1Trn\"        \"PG1Other\"      \"PG1Submit\"    \n",
      "[13] \"PG2Resp\"       \"PG2Submit\"     \"PG2Resp.1\"     \"PG3Submit\"    \n",
      "[17] \"PG4Dtr0_6\"     \"PG4Psv7_8\"     \"PG4Prm9_10\"    \"PG4AllResp\"   \n",
      "[21] \"PG4Submit\"     \"PG5_10RPA\"     \"PG5_10Order\"   \"PG5_10Time\"   \n",
      "[25] \"PG6Resp\"       \"PG6Submit\"     \"PG7R\"          \"PG7C.C..\"     \n",
      "[29] \"PG7Java\"       \"PG7Python\"     \"PG7Javascript\" \"PG7Go\"        \n",
      "[33] \"PG7C.\"         \"PG7Other\"      \"PG7Submit\"     \"PG8Resp\"      \n",
      "[37] \"PG8Submit\"     \"PG9Resp\"       \"PG9Submit\"     \"PG10Resp\"     \n",
      "[41] \"PG10Submit\"    \"PG11Resp\"      \"PG11Submit\"    \"PG12Resp\"     \n",
      "[45] \"PG12Submit\"   \n",
      "[1] \"There are 805 rows and 45 columns.\"\n"
     ]
    }
   ],
   "source": [
    "# REMOVE BY INDEX all response variables from page 5 that were not assigned to me\n",
    "data_trunc <- filtered_data[ , -c(22:48,52:61)]\n",
    "\n",
    "# Confirm correct columns were extracted\n",
    "data_trunc_header_list <- colnames(data_trunc)\n",
    "print(data_trunc_header_list)\n",
    "\n",
    "# Save dimensions of truncated data frame into variables and print the size of the data frame.\n",
    "# Note: dim(object_name) returns a vector described as (num of rows, num of columns)\n",
    "num_of_rows = dim(data_trunc)[1]\n",
    "num_of_columns = dim(data_trunc)[2]\n",
    "print(paste(\"There are\", num_of_rows, \"rows and\", num_of_columns,\"columns.\"))"
   ]
  },
  {
   "cell_type": "code",
   "execution_count": 15,
   "metadata": {},
   "outputs": [],
   "source": [
    "# Uncomment to view data frame summary\n",
    "# summary(data_trunc)"
   ]
  },
  {
   "cell_type": "code",
   "execution_count": 16,
   "metadata": {},
   "outputs": [],
   "source": [
    "# Uncomment to view data frame structure\n",
    "# str(data_trunc)"
   ]
  },
  {
   "cell_type": "code",
   "execution_count": 17,
   "metadata": {},
   "outputs": [],
   "source": [
    "data_trunc <- replace(data_trunc, is.na(data_trunc), 0)"
   ]
  },
  {
   "cell_type": "code",
   "execution_count": 18,
   "metadata": {},
   "outputs": [
    {
     "name": "stderr",
     "output_type": "stream",
     "text": [
      "Warning message:\n",
      "\"Ignoring unknown parameters: binwidth, bins, pad\""
     ]
    },
    {
     "data": {},
     "metadata": {},
     "output_type": "display_data"
    },
    {
     "data": {
      "image/png": "[encoded data removed]",
      "text/plain": [
       "plot without title"
      ]
     },
     "metadata": {},
     "output_type": "display_data"
    }
   ],
   "source": [
    "# Construct a histogram of the weights for my repsonse variable\n",
    "ggplot(data = data_trunc, mapping = aes(x = PG5_10RPA)) +\n",
    "    geom_histogram(stat=\"count\") +\n",
    "    ggtitle(\"Reputation of Package Author\") +\n",
    "    xlab(\"Priority\") +\n",
    "    ylab(\"Frequency\")"
   ]
  },
  {
   "cell_type": "code",
   "execution_count": 19,
   "metadata": {},
   "outputs": [],
   "source": [
    "# Initialize variables as emtpy vectors\n",
    "numeric_fields = c()\n",
    "non_numeric_fields = c()\n",
    "\n",
    "# First check if fields are numeric or non-numeric\n",
    "for (i in 1:num_of_columns){\n",
    "    if (is.numeric(data_trunc[,i])){\n",
    "        numeric_fields = c(numeric_fields, i)\n",
    "        #print(numeric_fields)\n",
    "    } else {\n",
    "        non_numeric_fields = c(non_numeric_fields, i)\n",
    "        #print(non_numeric_fields)\n",
    "    }\n",
    "}\n",
    "# Run correlation analysis on numeric fields only\n",
    "correlations <- cor(data_trunc[,numeric_fields],method=\"spearman\",use=\"pairwise.complete.obs\")"
   ]
  },
  {
   "cell_type": "code",
   "execution_count": 20,
   "metadata": {},
   "outputs": [
    {
     "data": {
      "image/png": "[encoded data removed]",
      "text/plain": [
       "plot without title"
      ]
     },
     "metadata": {},
     "output_type": "display_data"
    }
   ],
   "source": [
    "# Uncomment to plot correlations\n",
    "plot(correlations)"
   ]
  },
  {
   "cell_type": "code",
   "execution_count": 33,
   "metadata": {},
   "outputs": [
    {
     "name": "stderr",
     "output_type": "stream",
     "text": [
      "Warning message in summary.lm(lm(fmla, data = data_trunc[, numeric_fields])):\n",
      "\"essentially perfect fit: summary may be unreliable\"Warning message in summary.lm(lm(fmla, data = data_trunc[, numeric_fields])):\n",
      "\"essentially perfect fit: summary may be unreliable\""
     ]
    },
    {
     "data": {
      "text/html": [
       "<table>\n",
       "<tbody>\n",
       "\t<tr><th scope=row>PG4Dtr0_6</th><td> 9  </td><td>1.00</td></tr>\n",
       "\t<tr><th scope=row>PG4Psv7_8</th><td>10  </td><td>1.00</td></tr>\n",
       "\t<tr><th scope=row>PG4Prm9_10</th><td>11  </td><td>1.00</td></tr>\n",
       "\t<tr><th scope=row>PG4AllResp</th><td>12  </td><td>1.00</td></tr>\n",
       "\t<tr><th scope=row>PG0Shown</th><td> 4  </td><td>0.44</td></tr>\n",
       "\t<tr><th scope=row>PG0Dis</th><td> 3  </td><td>0.43</td></tr>\n",
       "\t<tr><th scope=row>PG8Submit</th><td>17  </td><td>0.27</td></tr>\n",
       "\t<tr><th scope=row>PG9Submit</th><td>18  </td><td>0.26</td></tr>\n",
       "\t<tr><th scope=row>PG4Submit</th><td>13  </td><td>0.07</td></tr>\n",
       "\t<tr><th scope=row>PG2Submit</th><td> 7  </td><td>0.05</td></tr>\n",
       "\t<tr><th scope=row>End</th><td> 2  </td><td>0.04</td></tr>\n",
       "\t<tr><th scope=row>PG3Submit</th><td> 8  </td><td>0.02</td></tr>\n",
       "\t<tr><th scope=row>PG5_10Order</th><td>14  </td><td>0.02</td></tr>\n",
       "\t<tr><th scope=row>PG7Submit</th><td>16  </td><td>0.02</td></tr>\n",
       "\t<tr><th scope=row>PG10Submit</th><td>19  </td><td>0.02</td></tr>\n",
       "\t<tr><th scope=row>PG0Submit</th><td> 5  </td><td>0.01</td></tr>\n",
       "\t<tr><th scope=row>PG1Submit</th><td> 6  </td><td>0.01</td></tr>\n",
       "\t<tr><th scope=row>PG6Submit</th><td>15  </td><td>0.01</td></tr>\n",
       "\t<tr><th scope=row>PG12Submit</th><td>21  </td><td>0.01</td></tr>\n",
       "\t<tr><th scope=row>PG11Submit</th><td>20  </td><td>0.00</td></tr>\n",
       "</tbody>\n",
       "</table>\n"
      ],
      "text/latex": [
       "\\begin{tabular}{r|ll}\n",
       "\tPG4Dtr0\\_6 &  9   & 1.00\\\\\n",
       "\tPG4Psv7\\_8 & 10   & 1.00\\\\\n",
       "\tPG4Prm9\\_10 & 11   & 1.00\\\\\n",
       "\tPG4AllResp & 12   & 1.00\\\\\n",
       "\tPG0Shown &  4   & 0.44\\\\\n",
       "\tPG0Dis &  3   & 0.43\\\\\n",
       "\tPG8Submit & 17   & 0.27\\\\\n",
       "\tPG9Submit & 18   & 0.26\\\\\n",
       "\tPG4Submit & 13   & 0.07\\\\\n",
       "\tPG2Submit &  7   & 0.05\\\\\n",
       "\tEnd &  2   & 0.04\\\\\n",
       "\tPG3Submit &  8   & 0.02\\\\\n",
       "\tPG5\\_10Order & 14   & 0.02\\\\\n",
       "\tPG7Submit & 16   & 0.02\\\\\n",
       "\tPG10Submit & 19   & 0.02\\\\\n",
       "\tPG0Submit &  5   & 0.01\\\\\n",
       "\tPG1Submit &  6   & 0.01\\\\\n",
       "\tPG6Submit & 15   & 0.01\\\\\n",
       "\tPG12Submit & 21   & 0.01\\\\\n",
       "\tPG11Submit & 20   & 0.00\\\\\n",
       "\\end{tabular}\n"
      ],
      "text/markdown": [
       "\n",
       "| PG4Dtr0_6 |  9   | 1.00 | \n",
       "| PG4Psv7_8 | 10   | 1.00 | \n",
       "| PG4Prm9_10 | 11   | 1.00 | \n",
       "| PG4AllResp | 12   | 1.00 | \n",
       "| PG0Shown |  4   | 0.44 | \n",
       "| PG0Dis |  3   | 0.43 | \n",
       "| PG8Submit | 17   | 0.27 | \n",
       "| PG9Submit | 18   | 0.26 | \n",
       "| PG4Submit | 13   | 0.07 | \n",
       "| PG2Submit |  7   | 0.05 | \n",
       "| End |  2   | 0.04 | \n",
       "| PG3Submit |  8   | 0.02 | \n",
       "| PG5_10Order | 14   | 0.02 | \n",
       "| PG7Submit | 16   | 0.02 | \n",
       "| PG10Submit | 19   | 0.02 | \n",
       "| PG0Submit |  5   | 0.01 | \n",
       "| PG1Submit |  6   | 0.01 | \n",
       "| PG6Submit | 15   | 0.01 | \n",
       "| PG12Submit | 21   | 0.01 | \n",
       "| PG11Submit | 20   | 0.00 | \n",
       "\n",
       "\n"
      ],
      "text/plain": [
       "            [,1] [,2]\n",
       "PG4Dtr0_6    9   1.00\n",
       "PG4Psv7_8   10   1.00\n",
       "PG4Prm9_10  11   1.00\n",
       "PG4AllResp  12   1.00\n",
       "PG0Shown     4   0.44\n",
       "PG0Dis       3   0.43\n",
       "PG8Submit   17   0.27\n",
       "PG9Submit   18   0.26\n",
       "PG4Submit   13   0.07\n",
       "PG2Submit    7   0.05\n",
       "End          2   0.04\n",
       "PG3Submit    8   0.02\n",
       "PG5_10Order 14   0.02\n",
       "PG7Submit   16   0.02\n",
       "PG10Submit  19   0.02\n",
       "PG0Submit    5   0.01\n",
       "PG1Submit    6   0.01\n",
       "PG6Submit   15   0.01\n",
       "PG12Submit  21   0.01\n",
       "PG11Submit  20   0.00"
      ]
     },
     "metadata": {},
     "output_type": "display_data"
    }
   ],
   "source": [
    "res <- c();\n",
    "vnam <- names(data_trunc[,numeric_fields]);\n",
    "for (i in 2:dim(data_trunc[,numeric_fields])[2]){\n",
    "  fmla <- as.formula(paste(vnam[i],paste(vnam[-c(1,i)],collapse=\"+\"),sep=\"~\"));\n",
    "  res <- rbind(res,c(i,round(summary(lm(fmla,data=data_trunc[,numeric_fields]))$r.squared,2)));\n",
    "}\n",
    "row.names(res) <- vnam[res[,1]];\n",
    "res[order(-res[,2]),];"
   ]
  },
  {
   "cell_type": "markdown",
   "metadata": {},
   "source": [
    "## Fitting of the statistical model"
   ]
  },
  {
   "cell_type": "markdown",
   "metadata": {},
   "source": [
    "Create a train and test set for model 70/30 ratio."
   ]
  },
  {
   "cell_type": "code",
   "execution_count": 22,
   "metadata": {},
   "outputs": [
    {
     "name": "stdout",
     "output_type": "stream",
     "text": [
      "[1] 564\n",
      "[1] 241\n"
     ]
    }
   ],
   "source": [
    "trainSize <- round(nrow(data_trunc) * 0.7)\n",
    "testSize <- nrow(data_trunc) - trainSize\n",
    "print(trainSize)\n",
    "print(testSize)"
   ]
  },
  {
   "cell_type": "code",
   "execution_count": 23,
   "metadata": {},
   "outputs": [],
   "source": [
    "set.seed(123)\n",
    "training_indices <- sample(seq_len(nrow(data_trunc)), size=trainSize)\n",
    "trainSet <- data_trunc[training_indices, ]\n",
    "testSet <- data_trunc[-training_indices, ]"
   ]
  },
  {
   "cell_type": "code",
   "execution_count": 24,
   "metadata": {},
   "outputs": [],
   "source": [
    "data_trunc$PG5_10RPA<- as.factor(as.character(data_trunc$PG5_10RPA))\n",
    "model <- rpart(PG5_10RPA ~ ., data = trainSet, method = \"anova\")\n",
    "#model2 <- rpart(PG5_10RPA ~ ., data = trainSet, method = \"class\")"
   ]
  },
  {
   "cell_type": "code",
   "execution_count": 25,
   "metadata": {},
   "outputs": [
    {
     "name": "stdout",
     "output_type": "stream",
     "text": [
      "\n",
      "Regression tree:\n",
      "rpart(formula = PG5_10RPA ~ ., data = trainSet, method = \"anova\")\n",
      "\n",
      "Variables actually used in tree construction:\n",
      "[1] PG5_10Order PG5_10Time \n",
      "\n",
      "Root node error: 1658/564 = 3\n",
      "\n",
      "n= 564 \n",
      "\n",
      "  CP nsplit rel error xerror xstd\n",
      "1  1      0         1      1    0\n",
      "2  0      1         0      1    0\n",
      "3  0      2         0      0    0\n",
      "4  0      3         0      1    0\n",
      "5  0      4         0      1    0\n",
      "6  0      5         0      0    0\n"
     ]
    }
   ],
   "source": [
    "printcp(model)"
   ]
  },
  {
   "cell_type": "code",
   "execution_count": 26,
   "metadata": {},
   "outputs": [
    {
     "data": {
      "image/png": "[encoded data removed]",
      "text/plain": [
       "plot without title"
      ]
     },
     "metadata": {},
     "output_type": "display_data"
    }
   ],
   "source": [
    "plotcp(model)"
   ]
  },
  {
   "cell_type": "code",
   "execution_count": 27,
   "metadata": {},
   "outputs": [
    {
     "name": "stdout",
     "output_type": "stream",
     "text": [
      "Call:\n",
      "rpart(formula = PG5_10RPA ~ ., data = trainSet, method = \"anova\")\n",
      "  n= 564 \n",
      "\n",
      "     CP nsplit rel error xerror  xstd\n",
      "1 0.740      0    1.0000   1.00 0.036\n",
      "2 0.172      1    0.2604   0.70 0.040\n",
      "3 0.044      2    0.0886   0.49 0.033\n",
      "4 0.020      3    0.0450   0.53 0.037\n",
      "5 0.017      4    0.0247   0.50 0.034\n",
      "6 0.010      5    0.0072   0.49 0.033\n",
      "\n",
      "Variable importance\n",
      " PG5_10Time PG5_10Order     PG8Resp   PG2Resp.1  PG4AllResp  PG4Prm9_10 \n",
      "         42          22          14          11           2           2 \n",
      "       PG7R    PG1Other  PG10Submit \n",
      "          2           2           2 \n",
      "\n",
      "Node number 1: 564 observations,    complexity param=0.74\n",
      "  mean=3.1, MSE=2.9 \n",
      "  left son=2 (351 obs) right son=3 (213 obs)\n",
      "  Primary splits:\n",
      "      PG5_10Time  splits as  L-R-L--RRRL-R--RRL--RLLRR-RLRR-R-RRR-RLR-RRR-RRRLLLR--RLRRL---LLLR-RLLLRLRRLL-LL-LR-RL-LL-R---LLRR-LRRRRLLL---LL--RLLR---LLR--RR--R--RRRRRLLRRL-LLLR-RLRLR-LLR-L-L-RRLRR-L-R-LL--L-RLLRL-LLLLLR--LL---LR--L-R-LRLLL-L--LLRLL-R-R-LLL-LRRRRLRRR-RLL-RRR-RRR-L-RL-RLRLRLRRRRR--RR-LLLR--L-RR-LRRRRLL-RRR-R-RR-R---LRLL-L-L-LRRRR-RL-RL--LRLR-LLRRRR-RR-RLRLL-LRRRRR-R-L--LR-RLRLRR-LL-LLLL--LL-L-R-LRLR-LLRRRL-RR--LRRRLRR-RRLR-LR--R-LLR--RLL-LRL-LL-LL-LLL--L--L-LR-L---RLL---RRR-RRRRRLL-RRLRR-R-R-RLLRL-R----L-RRLLRRRR-RLRRL-RLLRL-LLL---L-RR--RLR-LRRR----LRRL-R--LRRLRR--L-L-LLRLRL, improve=0.740, (0 missing)\n",
      "      PG5_10Order < 0.5     to the left,  improve=0.630, (0 missing)\n",
      "      PG8Resp     splits as  L-LLLL-LLR-LLL-LL--RR---LLLRRRL--RLRRLL--LLRLLL-LL--LR---LL--LLLLLLLLLL-RLLL--LLLLR-LLL-L-RRLLLLR--LRLLLLRLLLLLR--RRLL---L-LR-RL--RRL-LLRRRRL-L--LLLL-L-RLLRL-R-LL-LR-RLLLLRRRLLLRRRL----RRLLLLL--LRRLRLRRRL, improve=0.130, (0 missing)\n",
      "      PG2Resp.1   splits as  LLRRRL-RLL-LLL-----LL---LLRL-L-LLR-LLLLL--L-L-LLLRL-L-L--RR----LRR--RL-L--LLL-L-LRLLLL-LL-L--LLRL-RL-LLL-LLL-LLR-LLRLLL-L--R--LLR----RR----LRL--LLRLRLLR-LLL-L--L-RR-L-LLRL-R-LLL-RLR---, improve=0.098, (0 missing)\n",
      "      PG7R        splits as  L---RRL-L--LLLLLL-LLLL--RRRLRLRRR, improve=0.027, (0 missing)\n",
      "  Surrogate splits:\n",
      "      PG5_10Order < 2.5     to the left,  agree=0.75, adj=0.343, (0 split)\n",
      "      PG8Resp     splits as  L-LLLL-LLR-LLL-LL--RR---LLLRRRL--RRRRLL--LLRLLL-LL--LR---LL--LLLLLLLLLL-RLLL--LLLLR-LLL-L-RRLLLLR--LRLLLLRLLLLLR--RRLL---L-LR-LL--RRL-LLRRRRL-L--LLLL-L-RLLRL-R-LL-LR-RLLLLRRRLLLRRRL----RRLLLLL--LRRLRLRRRL, agree=0.72, adj=0.268, (0 split)\n",
      "      PG2Resp.1   splits as  LLRRRL-RLL-LLR-----LR---LLRL-L-RLR-RLLLL--L-R-LRRRL-L-L--RR----LRR--RL-L--LLL-L-LRLLLL-LL-L--LLRL-RR-LLL-LLL-LLR-RLRRLL-L--R--RLR----RR----LRL--LLRLRLLR-LLL-L--L-RR-L-LLRR-R-LLR-RLR---, agree=0.70, adj=0.207, (0 split)\n",
      "      PG7R        splits as  L---RRL-L--LLLLLL-RLLL--RRRLRLRRR, agree=0.64, adj=0.047, (0 split)\n",
      "      PG1Other    splits as  L--L-LLLRLL--RL--RRL--LLL-L-RR--L-LRLLLL-L---RL-LLL--, agree=0.64, adj=0.042, (0 split)\n",
      "\n",
      "Node number 2: 351 observations,    complexity param=0.17\n",
      "  mean=1.9, MSE=0.89 \n",
      "  left son=4 (168 obs) right son=5 (183 obs)\n",
      "  Primary splits:\n",
      "      PG5_10Order < 0.5     to the left,  improve=0.910, (0 missing)\n",
      "      PG5_10Time  splits as  L---R-----R------R---RR----R----------R---------RRR----R--R---RRR---RRR-R--RR-RR-R---R-RR-----RR---R----RRR---RR---RR----RR---------------RR--R-RRR---R-R--RR--R-R---R---R---RR--R--RR-R-RRRRR---RR---R---R---R-RRR-R--RR-RR-----RRR-R----R-----RR---------R--R--R-R-R----------RRR---R----R----RR--------------R-RR-R-R-R------R--R--R-R--RR---------R-RR-R--------R--R---R-R---RR-RRRR--RR-R---R-R--RR---R-----R---R-----R--R-----RR----RR-R-R-RR-RR-RRR--R--R-R--R----RR------------RR---R--------RR-R------R---RR------R--R--RR-R-RRR---R------R--R-------R--R----R--R----R-R-RR-R-R, improve=0.910, (0 missing)\n",
      "      PG8Resp     splits as  R-RLRL-LR--LRL-RR-------RLR---R---R--RL--RR-LRR-LL--L----LR--LLLLRRRRRR--RRR--LLLL--LLR-R---RRLLR--R-LRLR-LRLLR-----RR---R-RR-RR----R-RR----L-R--RRRR-L--RR-R---RR-L---LLRR---RLR---L------LRLLL--R--L-RL--L, improve=0.160, (0 missing)\n",
      "      PG2Resp.1   splits as  LR---R--RR-LL------L----LL-R-R--L---LLRL--L---L---L-L-R--------R-----L-L--LLR-L-L-LRLL-LL-L--LL-L-R--RRR-RLR-LL---R--RL-R------R-----------R-R--LL-L-RR--LRL-L--R----L-RL-----RL---R----, improve=0.140, (0 missing)\n",
      "      PG4Prm9_10  < 4.5     to the left,  improve=0.076, (0 missing)\n",
      "  Surrogate splits:\n",
      "      PG8Resp    splits as  R-RLRL-LR--LRL-RR-------RLR---R---R--RL--LR-LRR-LL--L----LR--LLLLRRRRRR--RRR--LLLL--LLR-L---RRLLL--R-LRLR-LRLLR-----RR---R-RR-RR----R-RL----L-R--RRRR-L--RR-R---RR-L---LLRR---RLR---L------LRLLL--R--L-RL--L, agree=0.68, adj=0.33, (0 split)\n",
      "      PG2Resp.1  splits as  LR---R--RR-LL------L----LL-R-R--L---LLRR--L---L---R-L-R--------R-----L-R--LRR-L-L-LRRL-LL-L--LL-L-R--RRR-RLR-LL---R--RL-R------R-----------R-R--LL-L-RR--LRL-R--R----L-RL-----RL---R----, agree=0.66, adj=0.29, (0 split)\n",
      "      PG4Prm9_10 < 4.5     to the left,  agree=0.64, adj=0.24, (0 split)\n",
      "      PG4AllResp < 8.5     to the left,  agree=0.64, adj=0.24, (0 split)\n",
      "      PG10Submit < 8.5     to the right, agree=0.60, adj=0.17, (0 split)\n",
      "\n",
      "Node number 3: 213 observations,    complexity param=0.044\n",
      "  mean=5, MSE=0.55 \n",
      "  left son=6 (57 obs) right son=7 (156 obs)\n",
      "  Primary splits:\n",
      "      PG5_10Time splits as  --L----RRR--R--RL---L--LR-L-RR-R-RRR-L-L-RRR-LRR---L--R-LR-------R-R---R-RR-------R-L-----R-----RR--LLRR----------R--L-----R--RR--L--RRRLR--RR-----R-R-R-L---R-----LL-RR---L-------R--R-------R--------R----R--R---------R---R-R------RRRL-RRR-R---RLR-RRR---L--L-R-R-RRRRL--RR----L----RR--RLRL---RRR-R-LR-L----L--------RRRL-R--R----R-R---LRRR-RL-L-R----RLRRR-R-----R-R-R-RL---------------R--R-R---RLL--LR---RRR-RL-RL-R--L--R---R--L----R-------------------L-----R-----RRL-RRLLR---RR-RR-R-R-L--R--R------RR--RRRL-R-RR--R--L----------RR--R-R--RRR-----RR--L---LR-RL--------R-R-, improve=0.610, (0 missing)\n",
      "      PG8Resp    splits as  L----R---L---R--L--RR------RRR---RLRRR---LLR---------R---------------L--R-----R---R-----L-RRR---R---R----L----RR--RR--------R-RR--RR---RLRRR--R---L-----R--RL-L-----R-R----RRR-R-LRR-----LR----R---RR-R-RRL-, improve=0.190, (0 missing)\n",
      "      PG2Resp.1  splits as  R-RRRR-R-----L------L----RR----L-R-L------R-L--LLR-------RR-----RR--R------------R--L----------R--RL----------RR-L-RL------R--L-R----RR-----R-----R-R--R----------RR-R---RL-R---L-R-R---, improve=0.160, (0 missing)\n",
      "      PG3Submit  < 69      to the right, improve=0.068, (0 missing)\n",
      "      PG1Submit  < 68      to the right, improve=0.054, (0 missing)\n",
      "  Surrogate splits:\n",
      "      PG2Resp.1   splits as  L-RRRR-R-----L------L----LR----L-R-L------R-L--LLR-------RR-----RR--R------------R--L----------R--RL----------RR-L-RL------R--L-R----RR-----R-----R-R--R----------RR-R---RL-R---L-R-R---, agree=0.81, adj=0.298, (0 split)\n",
      "      PG8Resp     splits as  R----R---L---R--L--RR------RRR---RLRRR---RLR---------R---------------L--R-----R---R-----L-RRR---R---R----L----RR--RR--------R-RR--RR---RLRRR--R---L-----L--RL-L-----R-R----RLR-R-LRR-----LR----R---RR-R-RRL-, agree=0.81, adj=0.298, (0 split)\n",
      "      Start       < 1.5e+09 to the left,  agree=0.74, adj=0.035, (0 split)\n",
      "      PG3Submit   < 69      to the right, agree=0.74, adj=0.035, (0 split)\n",
      "      PG5_10Order < 18      to the right, agree=0.74, adj=0.035, (0 split)\n",
      "\n",
      "Node number 4: 168 observations\n",
      "  mean=1, MSE=0 \n",
      "\n",
      "Node number 5: 183 observations,    complexity param=0.017\n",
      "  mean=2.8, MSE=0.16 \n",
      "  left son=10 (36 obs) right son=11 (147 obs)\n",
      "  Primary splits:\n",
      "      PG5_10Time splits as  ----R-----R------R---RR----R----------R---------RRR----R--R---RRL---RRR-L--RR-RR-R---R-RR-----RR---L----RRR---RR---LL----LL---------------LR--R-RRR---R-R--RR--R-L---R---R---LR--L--RR-R-RLRRR---LR---R---R---L-RRR-R--RR-RL-----RRR-R----R-----LR---------R--R--R-R-R----------RLR---L----R----RR--------------R-LR-R-R-R------R--R--R-L--RR---------R-RR-R--------L--R---L-R---RR-RRRR--RR-R---R-R--RR---R-----R---R-----R--R-----RL----RR-L-L-LR-RR-RLR--R--R-L--L----RR------------RR---L--------RR-R------R---RL------R--R--RR-L-RLR---L------L--R-------R--L----R--R----R-R-RR-R-R, improve=1.000, (0 missing)\n",
      "      PG8Resp    splits as  R-R-R---L---R--RR-------R-R---R---R--R---RR--RR-----------R------RRRRRR--RRR----------R-R---RL--R--R--R-R--L--R-----LR---R-RR-RR----R-LR------R--RRRL----LR-R---RL-------LR---L-L-----------R-----R----R----, improve=0.260, (0 missing)\n",
      "      PG2Resp.1  splits as  LR---L--RR---------------R-R-R--------RL--R-------L---R--------R-------L---LR------RR-------------R--RRR-R-R--L---R--R--R------R-----------R-R-------RR---R--R--R------R------R----R----, improve=0.064, (0 missing)\n",
      "      PG3Submit  < 44      to the left,  improve=0.042, (0 missing)\n",
      "      PG6Resp    splits as  -RLLLRL, improve=0.037, (0 missing)\n",
      "  Surrogate splits:\n",
      "      PG8Resp   splits as  R-R-R---L---R--RR-------R-R---R---R--R---RR--RR-----------R------RRRRRR--RRR----------R-R---RL--R--R--R-R--L--R-----LR---R-RR-RR----R-LR------R--RRRL----LR-R---RL-------LR---L-L-----------R-----R----R----, agree=0.86, adj=0.306, (0 split)\n",
      "      PG2Resp.1 splits as  RR---R--RR---------------R-R-R--------RL--R-------L---R--------R-------L---LR------RR-------------R--RRR-R-R--R---R--R--R------R-----------R-R-------RR---R--R--R------R------R----R----, agree=0.82, adj=0.111, (0 split)\n",
      "      PG9Submit < 50      to the right, agree=0.82, adj=0.083, (0 split)\n",
      "      PG1Other  splits as  R--R-RRR-RR---R----R--R------R--R---LRRR-R----R-RR---, agree=0.81, adj=0.056, (0 split)\n",
      "      PG8Submit < 66      to the right, agree=0.81, adj=0.056, (0 split)\n",
      "\n",
      "Node number 6: 57 observations\n",
      "  mean=4, MSE=0.19 \n",
      "\n",
      "Node number 7: 156 observations,    complexity param=0.02\n",
      "  mean=5.3, MSE=0.22 \n",
      "  left son=14 (103 obs) right son=15 (53 obs)\n",
      "  Primary splits:\n",
      "      PG5_10Time splits as  -------LRR--L--L--------L---LL-L-RLR-----RLL--RL------L--L-------L-R---L-RL-------L-------L-----LL----LR----------L--------L--RR-----RLR-L--LL-----L-L-R-----L--------LL-----------R--L-------L--------R----L--L---------R---L-R------LLR--LRL-R---R-L-LLL--------R-R-RLLR---LL---------LL--R-L----LLL-L--L---------------LRR--L--R----L-L----LLL-R----L----L-RLL-L-----L-L-R-R----------------L--L-R---R-----R---LLR-R--L--L-----L---L-------L-------------------------L-----LL--RR--L---LR-RR-L-L----L--R------LR--LLR--L-RR--R-------------LL--L-L--LLL-----LR-------L-L---------L-R-, improve=0.970, (0 missing)\n",
      "      PG8Resp    splits as  L----L-------L-----RL------LLR---RRRLL---L-R---------L------------------R-----L---L-------RLR---L---L----L----LL--RL--------R-LR--LR---L-LRL--R---L--------L--------L-R----L-L-L--LL------L----L---LL-L-LL--, improve=0.210, (0 missing)\n",
      "      PG2Resp.1  splits as  R-RRLL-L-----------------RL------R--------L------R-------LL-----LL--L------------R-------------L--R-----------RL---L-------L----R----LL-----L-----L-L--L----------RR-R---L--L-----L-L---, improve=0.160, (0 missing)\n",
      "      PG7R       splits as  R---RL-----L--RLL-L--L--LLL-L-LRL, improve=0.094, (0 missing)\n",
      "      PG7Java    splits as  LR-, improve=0.054, (0 missing)\n",
      "  Surrogate splits:\n",
      "      PG8Resp   splits as  L----R-------L-----RL------LLR---RRRLL---L-R---------L------------------R-----L---L-------RLR---L---L----L----LL--RL--------R-LR--LR---L-LRL--R---L--------L--------L-R----L-L-L--LL------L----L---LL-L-LL--, agree=0.77, adj=0.321, (0 split)\n",
      "      PG2Resp.1 splits as  L-RRLL-L-----------------RL------R--------L------R-------LL-----LL--L------------R-------------L--R-----------LL---L-------L----R----LL-----L-----L-L--L----------RR-R---L--L-----L-L---, agree=0.74, adj=0.226, (0 split)\n",
      "      PG7R      splits as  R---RL-----L--RLL-L--L--LLL-L-LRL, agree=0.71, adj=0.151, (0 split)\n",
      "      PG7Java   splits as  LR-, agree=0.69, adj=0.094, (0 split)\n",
      "      PG1Other  splits as  L-------R----L---RL---------LL-----L---------R-------, agree=0.68, adj=0.057, (0 split)\n",
      "\n",
      "Node number 10: 36 observations\n",
      "  mean=2, MSE=0 \n",
      "\n",
      "Node number 11: 147 observations\n",
      "  mean=3, MSE=0 \n",
      "\n",
      "Node number 14: 103 observations\n",
      "  mean=5, MSE=0 \n",
      "\n",
      "Node number 15: 53 observations\n",
      "  mean=6, MSE=0.019 \n",
      "\n"
     ]
    }
   ],
   "source": [
    "summary(model)"
   ]
  },
  {
   "cell_type": "code",
   "execution_count": 31,
   "metadata": {},
   "outputs": [
    {
     "name": "stdout",
     "output_type": "stream",
     "text": [
      "\n",
      "Regression tree:\n",
      "rpart(formula = PG5_10RPA ~ ., data = trainSet, method = \"anova\")\n",
      "\n",
      "Variables actually used in tree construction:\n",
      "[1] PG5_10Order PG5_10Time \n",
      "\n",
      "Root node error: 1658/564 = 3\n",
      "\n",
      "n= 564 \n",
      "\n",
      "  CP nsplit rel error xerror xstd\n",
      "1  1      0         1      1    0\n",
      "2  0      1         0      1    0\n",
      "3  0      2         0      0    0\n",
      "4  0      3         0      1    0\n",
      "5  0      4         0      1    0\n",
      "6  0      5         0      0    0\n"
     ]
    },
    {
     "data": {
      "image/png": "[encoded data removed]",
      "text/plain": [
       "plot without title"
      ]
     },
     "metadata": {},
     "output_type": "display_data"
    },
    {
     "data": {
      "image/png": "[encoded data removed]",
      "text/plain": [
       "plot without title"
      ]
     },
     "metadata": {},
     "output_type": "display_data"
    }
   ],
   "source": [
    "rsq.rpart(model)"
   ]
  },
  {
   "cell_type": "code",
   "execution_count": 29,
   "metadata": {},
   "outputs": [],
   "source": [
    "predictionResult <- predict(model, testSet)"
   ]
  },
  {
   "cell_type": "code",
   "execution_count": 34,
   "metadata": {},
   "outputs": [
    {
     "name": "stderr",
     "output_type": "stream",
     "text": [
      "ERROR while rich displaying an object: Error in dn[[2L]]: subscript out of bounds\n",
      "\n",
      "Traceback:\n",
      "1. FUN(X[[i]], ...)\n",
      "2. tryCatch(withCallingHandlers({\n",
      " .     rpr <- mime2repr[[mime]](obj)\n",
      " .     if (is.null(rpr)) \n",
      " .         return(NULL)\n",
      " .     prepare_content(is.raw(rpr), rpr)\n",
      " . }, error = error_handler), error = outer_handler)\n",
      "3. tryCatchList(expr, classes, parentenv, handlers)\n",
      "4. tryCatchOne(expr, names, parentenv, handlers[[1L]])\n",
      "5. doTryCatch(return(expr), name, parentenv, handler)\n",
      "6. withCallingHandlers({\n",
      " .     rpr <- mime2repr[[mime]](obj)\n",
      " .     if (is.null(rpr)) \n",
      " .         return(NULL)\n",
      " .     prepare_content(is.raw(rpr), rpr)\n",
      " . }, error = error_handler)\n",
      "7. mime2repr[[mime]](obj)\n",
      "8. repr_markdown.numeric(obj)\n",
      "9. repr_vector_generic(html_escape_names(obj), \"%s. %s\\n\", \"%s\\n:   %s\", \n",
      " .     \"**%s:** %s\", \"%s\\n\\n\", item_uses_numbers = TRUE, escape_fun = html_escape)\n",
      "10. html_escape_names(obj)\n",
      "11. .escape_names(obj, \"html\")\n",
      "12. colnames(obj)\n",
      "ERROR while rich displaying an object: Error in dn[[2L]]: subscript out of bounds\n",
      "\n",
      "Traceback:\n",
      "1. FUN(X[[i]], ...)\n",
      "2. tryCatch(withCallingHandlers({\n",
      " .     rpr <- mime2repr[[mime]](obj)\n",
      " .     if (is.null(rpr)) \n",
      " .         return(NULL)\n",
      " .     prepare_content(is.raw(rpr), rpr)\n",
      " . }, error = error_handler), error = outer_handler)\n",
      "3. tryCatchList(expr, classes, parentenv, handlers)\n",
      "4. tryCatchOne(expr, names, parentenv, handlers[[1L]])\n",
      "5. doTryCatch(return(expr), name, parentenv, handler)\n",
      "6. withCallingHandlers({\n",
      " .     rpr <- mime2repr[[mime]](obj)\n",
      " .     if (is.null(rpr)) \n",
      " .         return(NULL)\n",
      " .     prepare_content(is.raw(rpr), rpr)\n",
      " . }, error = error_handler)\n",
      "7. mime2repr[[mime]](obj)\n",
      "8. repr_latex.numeric(obj)\n",
      "9. repr_vector_generic(latex_escape_names(obj), \"\\\\item %s\\n\", \"\\\\item[%s] %s\\n\", \n",
      " .     \"\\\\textbf{%s:} %s\", enum_wrap = \"\\\\begin{enumerate*}\\n%s\\\\end{enumerate*}\\n\", \n",
      " .     named_wrap = \"\\\\begin{description*}\\n%s\\\\end{description*}\\n\", \n",
      " .     only_named_item = \"\\\\textbf{%s:} %s\", escape_fun = latex_escape)\n",
      "10. latex_escape_names(obj)\n",
      "11. .escape_names(obj, \"latex\")\n",
      "12. colnames(obj)\n"
     ]
    },
    {
     "data": {
      "text/html": [
       "<dl class=dl-horizontal>\n",
       "\t<dt>1</dt>\n",
       "\t\t<dd>0.731058578630005</dd>\n",
       "\t<dt>Essential</dt>\n",
       "\t\t<dd>0.977883792032419</dd>\n",
       "\t<dt>High Priority</dt>\n",
       "\t\t<dd>0.976092445421689</dd>\n",
       "\t<dt>Low Priority</dt>\n",
       "\t\t<dd>0.989939797956922</dd>\n",
       "\t<dt>Medium Priority</dt>\n",
       "\t\t<dd>0.986207546173666</dd>\n",
       "\t<dt>Not a Priority</dt>\n",
       "\t\t<dd>0.987883964773983</dd>\n",
       "</dl>\n"
      ],
      "text/plain": [
       "                      Essential   High Priority    Low Priority Medium Priority \n",
       "           0.73            0.98            0.98            0.99            0.99 \n",
       " Not a Priority \n",
       "           0.99 "
      ]
     },
     "metadata": {},
     "output_type": "display_data"
    }
   ],
   "source": [
    "predicted <- 1/(1+exp(-predict(model,testSet)));\n",
    "tapply(predicted, testSet$PG5_10RPA, mean)"
   ]
  },
  {
   "cell_type": "code",
   "execution_count": null,
   "metadata": {},
   "outputs": [],
   "source": []
  }
 ],
 "metadata": {
  "kernelspec": {
   "display_name": "R",
   "language": "R",
   "name": "ir"
  },
  "language_info": {
   "codemirror_mode": "r",
   "file_extension": ".r",
   "mimetype": "text/x-r-source",
   "name": "R",
   "pygments_lexer": "r",
   "version": "3.4.4"
  }
 },
 "nbformat": 4,
 "nbformat_minor": 1
}
