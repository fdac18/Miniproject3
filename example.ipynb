{
 "cells": [
  {
   "cell_type": "markdown",
   "metadata": {},
   "source": [
    "A Survey on Technology Choice\n",
    "======\n"
   ]
  },
  {
   "cell_type": "code",
   "execution_count": null,
   "metadata": {},
   "outputs": [],
   "source": [
    "# For nicer printing\n",
    "options(digits=2);"
   ]
  },
  {
   "cell_type": "code",
   "execution_count": null,
   "metadata": {},
   "outputs": [],
   "source": [
    "# Read in the data\n",
    "data <- read.csv(\"TechSurvey - Survey.csv\",header=T);\n",
    "\n",
    "#convert date to unix second\n",
    "for (i in c(\"Start\", \"End\")) \n",
    "    data[,i] = as.numeric(as.POSIXct(strptime(data[,i], \"%Y-%m-%d %H:%M:%S\")))\n",
    "for (i in 0:12){\n",
    "    vnam = paste(c(\"PG\",i,\"Submit\"), collapse=\"\")\n",
    "    data[,vnam] = as.numeric(as.POSIXct(strptime(data[,vnam], \"%Y-%m-%d %H:%M:%S\")))\n",
    "}\n",
    "#calculate differences in time    \n",
    "for (i in 12:0){\n",
    "    pv = paste(c(\"PG\",i-1,\"Submit\"), collapse=\"\");\n",
    "    if (i==0) \n",
    "        pv=\"Start\";\n",
    "    vnam = paste(c(\"PG\",i,\"Submit\"), collapse=\"\");\n",
    "    data[,vnam] = data[,vnam] -data[,pv];\n",
    "}"
   ]
  },
  {
   "cell_type": "code",
   "execution_count": null,
   "metadata": {},
   "outputs": [],
   "source": [
    "#now explore variables\n",
    "summary(data);"
   ]
  },
  {
   "cell_type": "markdown",
   "metadata": {},
   "source": [
    "### Interpret  basic summaries"
   ]
  },
  {
   "cell_type": "code",
   "execution_count": null,
   "metadata": {},
   "outputs": [],
   "source": [
    "#get numeric fields only for correlation\n",
    "sel = c()\n",
    "for (i in 1:dim(data)[2]) if (is.numeric(data[,i])) sel = c(sel, i);\n",
    "\n",
    "\n",
    "cor(data[,sel],method=\"spearman\",use=\"pairwise.complete.obs\"); #OK for any: uses ranks"
   ]
  },
  {
   "cell_type": "markdown",
   "metadata": {},
   "source": [
    "Interpret correlations: onlys start vs End, calculate differene instead\n"
   ]
  },
  {
   "cell_type": "markdown",
   "metadata": {
    "collapsed": true
   },
   "source": [
    "### Simple questions\n",
    "\n",
    "- Time to take entire survey?\n",
    "- Question that took the longest to complete?\n",
    "- Question that took the least time?\n",
    "- Top-ranked criteria?\n",
    "- Demographic distribution by age?"
   ]
  }
 ],
 "metadata": {
  "kernelspec": {
   "display_name": "R",
   "language": "R",
   "name": "ir"
  },
  "language_info": {
   "codemirror_mode": "r",
   "file_extension": ".r",
   "mimetype": "text/x-r-source",
   "name": "R",
   "pygments_lexer": "r",
   "version": "3.4.4"
  }
 },
 "nbformat": 4,
 "nbformat_minor": 1
}
