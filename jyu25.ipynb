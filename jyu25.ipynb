{
 "cells": [
  {
   "cell_type": "markdown",
   "metadata": {},
   "source": [
    "A Survey on Technology Choice\n",
    "======\n"
   ]
  },
  {
   "cell_type": "code",
   "execution_count": 1,
   "metadata": {},
   "outputs": [
    {
     "name": "stderr",
     "output_type": "stream",
     "text": [
      "\n",
      "Attaching package: 'dplyr'\n",
      "\n",
      "The following objects are masked from 'package:stats':\n",
      "\n",
      "    filter, lag\n",
      "\n",
      "The following objects are masked from 'package:base':\n",
      "\n",
      "    intersect, setdiff, setequal, union\n",
      "\n"
     ]
    }
   ],
   "source": [
    "library(dplyr)\n",
    "# For nicer printing\n",
    "options(digits=2);"
   ]
  },
  {
   "cell_type": "code",
   "execution_count": 2,
   "metadata": {},
   "outputs": [],
   "source": [
    "# Read in the data\n",
    "data <- read.csv(\"TechSurvey - Survey.csv\",header=T);\n",
    "\n",
    "#convert date to unix second\n",
    "for (i in c(\"Start\", \"End\")) \n",
    "    data[,i] = as.numeric(as.POSIXct(strptime(data[,i], \"%Y-%m-%d %H:%M:%S\")))\n",
    "for (i in 0:12){\n",
    "    vnam = paste(c(\"PG\",i,\"Submit\"), collapse=\"\")\n",
    "    data[,vnam] = as.numeric(as.POSIXct(strptime(data[,vnam], \"%Y-%m-%d %H:%M:%S\")))\n",
    "}\n",
    "#calculate differences in time    \n",
    "for (i in 12:0){\n",
    "    pv = paste(c(\"PG\",i-1,\"Submit\"), collapse=\"\");\n",
    "    if (i==0) \n",
    "        pv=\"Start\";\n",
    "    vnam = paste(c(\"PG\",i,\"Submit\"), collapse=\"\");\n",
    "    data[,vnam] = data[,vnam] -data[,pv];\n",
    "}"
   ]
  },
  {
   "cell_type": "markdown",
   "metadata": {
    "collapsed": true
   },
   "source": [
    "### Simple questions\n",
    "\n",
    "- Time to take entire survey?\n",
    "- Question that took the longest to complete?\n",
    "- Question that took the least time?\n",
    "- Top-ranked criteria?\n",
    "- Demographic distribution by age?"
   ]
  },
  {
   "cell_type": "code",
   "execution_count": 3,
   "metadata": {},
   "outputs": [
    {
     "name": "stdout",
     "output_type": "stream",
     "text": [
      "[1] \"Average Time: 680.35652173913\"\n"
     ]
    }
   ],
   "source": [
    "#Q1:\n",
    "Time = mean(data$End - data$Start, na.rm = TRUE)\n",
    "print(paste0(\"Average Time: \", Time))"
   ]
  },
  {
   "cell_type": "code",
   "execution_count": 4,
   "metadata": {},
   "outputs": [
    {
     "name": "stdout",
     "output_type": "stream",
     "text": [
      "[1] \"The longest to completePG5Submit\"\n"
     ]
    }
   ],
   "source": [
    "#Q2:\n",
    "submit_times <- data[, grep(\"Submit\", colnames(data), value = TRUE)]\n",
    "submit_times = submit_times[, -c(1)] \n",
    "submit_means = apply(submit_times, 2, mean, na.rm = TRUE)\n",
    "longest = names(submit_means[which(submit_means == max(submit_means))])\n",
    "print(paste0(\"The longest to complete\", longest))"
   ]
  },
  {
   "cell_type": "code",
   "execution_count": 5,
   "metadata": {},
   "outputs": [
    {
     "name": "stdout",
     "output_type": "stream",
     "text": [
      "[1] \"The least time PG11Submit\"\n"
     ]
    }
   ],
   "source": [
    "#Q3:\n",
    "least = names(submit_means[which(submit_means == min(submit_means))])\n",
    "print(paste0(\"The least time \", least))"
   ]
  },
  {
   "cell_type": "code",
   "execution_count": 6,
   "metadata": {},
   "outputs": [
    {
     "name": "stdout",
     "output_type": "stream",
     "text": [
      "[1] \"Top-Ranked: PG5_2Order\"\n"
     ]
    }
   ],
   "source": [
    "#Q4:\n",
    "ranked = data[, grep(\"PG5\", colnames(data), value = TRUE)]\n",
    "ordered = ranked[, grep(\"Order\", colnames(ranked), value = TRUE)]\n",
    "means = apply(ordered, 2, mean, na.rm = TRUE)\n",
    "top = names(means[which(means == max(means))])\n",
    "print(paste0(\"Top-Ranked: \", top))"
   ]
  },
  {
   "cell_type": "code",
   "execution_count": 7,
   "metadata": {},
   "outputs": [
    {
     "data": {
      "image/png": "[encoded data removed]",
      "text/plain": [
       "Plot with title \"Age Distribution\""
      ]
     },
     "metadata": {},
     "output_type": "display_data"
    }
   ],
   "source": [
    "#Q5:\n",
    "age_data <- select(data, PG12Resp) %>%\n",
    "    filter(PG12Resp != '')\n",
    "age_p <- factor(age_data[,])\n",
    "barplot(table(age_p), main = 'Age Distribution')"
   ]
  },
  {
   "cell_type": "markdown",
   "metadata": {},
   "source": [
    "## Hypothesis:\n",
    "I think the priority is going to be effected by the number of forks on github. I think to determine whether a project is popular is base on their priority."
   ]
  },
  {
   "cell_type": "markdown",
   "metadata": {},
   "source": [
    "## Data cleaning\n",
    "In this part, I'll remove all the data that will not affect the respones."
   ]
  },
  {
   "cell_type": "code",
   "execution_count": 8,
   "metadata": {},
   "outputs": [
    {
     "data": {
      "text/plain": [
       "           PG5_1RRPQ             PG5_2BNUI              PG5_3HDS  \n",
       "                :877                  :923                  :768  \n",
       " Essential      : 60   Essential      :  3   Essential      :103  \n",
       " High Priority  :102   High Priority  : 26   High Priority  :200  \n",
       " Low Priority   : 85   Low Priority   :121   Low Priority   : 69  \n",
       " Medium Priority:134   Medium Priority: 92   Medium Priority:162  \n",
       " Not a Priority : 95   Not a Priority :188   Not a Priority : 51  \n",
       "            PG5_4VGP              PG5_5PHR             PG5_6SSYOP \n",
       "                :852                  :753                  :852  \n",
       " Essential      : 22   Essential      : 79   Essential      : 63  \n",
       " High Priority  :111   High Priority  :252   High Priority  :137  \n",
       " Low Priority   : 88   Low Priority   : 63   Low Priority   : 84  \n",
       " Medium Priority:164   Medium Priority:162   Medium Priority:110  \n",
       " Not a Priority :116   Not a Priority : 44   Not a Priority :107  \n",
       "           PG5_7NDYP              PG5_8CP               PG5_9FRP  \n",
       "                :934                  :715                  :738  \n",
       " Essential      :  8   Essential      :232   Essential      :165  \n",
       " High Priority  : 31   High Priority  :197   High Priority  :243  \n",
       " Low Priority   : 93   Low Priority   : 52   Low Priority   : 42  \n",
       " Medium Priority: 52   Medium Priority:121   Medium Priority:125  \n",
       " Not a Priority :235   Not a Priority : 36   Not a Priority : 40  \n",
       "           PG5_10RPA             PG5_11NSG             PG5_12NWG  \n",
       "                :779                  :890                  :916  \n",
       " Essential      : 55   Essential      :  6   High Priority  : 10  \n",
       " High Priority  :204   High Priority  : 29   Low Priority   : 77  \n",
       " Low Priority   : 79   Low Priority   : 89   Medium Priority: 25  \n",
       " Medium Priority:151   Medium Priority: 68   Not a Priority :325  \n",
       " Not a Priority : 85   Not a Priority :271                        \n",
       "           PG5_13NFG  \n",
       "                :920  \n",
       " High Priority  : 10  \n",
       " Low Priority   : 76  \n",
       " Medium Priority: 37  \n",
       " Not a Priority :310  \n",
       "                      "
      ]
     },
     "metadata": {},
     "output_type": "display_data"
    }
   ],
   "source": [
    "datas <- select(data, starts_with('PG5'), -ends_with('Order'), -ends_with('Time'), -ends_with('Submit'))\n",
    "summary(datas)"
   ]
  },
  {
   "cell_type": "markdown",
   "metadata": {},
   "source": [
    "## Target\n",
    "This part going to exact the data that relate to the number of forks"
   ]
  },
  {
   "cell_type": "code",
   "execution_count": 9,
   "metadata": {},
   "outputs": [
    {
     "data": {
      "text/html": [
       "<dl class=dl-horizontal>\n",
       "\t<dt>High Priority</dt>\n",
       "\t\t<dd>10</dd>\n",
       "\t<dt>Low Priority</dt>\n",
       "\t\t<dd>76</dd>\n",
       "\t<dt>Medium Priority</dt>\n",
       "\t\t<dd>37</dd>\n",
       "\t<dt>Not a Priority</dt>\n",
       "\t\t<dd>310</dd>\n",
       "</dl>\n"
      ],
      "text/latex": [
       "\\begin{description*}\n",
       "\\item[High Priority] 10\n",
       "\\item[Low Priority] 76\n",
       "\\item[Medium Priority] 37\n",
       "\\item[Not a Priority] 310\n",
       "\\end{description*}\n"
      ],
      "text/markdown": [
       "High Priority\n",
       ":   10Low Priority\n",
       ":   76Medium Priority\n",
       ":   37Not a Priority\n",
       ":   310\n",
       "\n"
      ],
      "text/plain": [
       "  High Priority    Low Priority Medium Priority  Not a Priority \n",
       "             10              76              37             310 "
      ]
     },
     "metadata": {},
     "output_type": "display_data"
    }
   ],
   "source": [
    "datas <- filter(datas, PG5_13NFG != '')\n",
    "datas$PG5_13NFG <- factor(datas$PG5_13NFG)\n",
    "summary(datas$PG5_13NFG)"
   ]
  },
  {
   "cell_type": "markdown",
   "metadata": {},
   "source": [
    "## Correlation Analysis\n",
    "Create a function that detects a correlation between variables that is higher than 0.7 and exclude them from the data-set"
   ]
  },
  {
   "cell_type": "code",
   "execution_count": 10,
   "metadata": {},
   "outputs": [
    {
     "data": {
      "text/html": [
       "<dl class=dl-horizontal>\n",
       "\t<dt>Device</dt>\n",
       "\t\t<dd>FALSE</dd>\n",
       "\t<dt>Completed</dt>\n",
       "\t\t<dd>TRUE</dd>\n",
       "\t<dt>Start</dt>\n",
       "\t\t<dd>FALSE</dd>\n",
       "\t<dt>End</dt>\n",
       "\t\t<dd>TRUE</dd>\n",
       "\t<dt>PG0Dis</dt>\n",
       "\t\t<dd>TRUE</dd>\n",
       "\t<dt>PG0Shown</dt>\n",
       "\t\t<dd>TRUE</dd>\n",
       "\t<dt>PG0Submit</dt>\n",
       "\t\t<dd>FALSE</dd>\n",
       "\t<dt>PG1PsnUse</dt>\n",
       "\t\t<dd>FALSE</dd>\n",
       "\t<dt>PG1WdAuth</dt>\n",
       "\t\t<dd>FALSE</dd>\n",
       "\t<dt>PG1Trn</dt>\n",
       "\t\t<dd>FALSE</dd>\n",
       "\t<dt>PG1Other</dt>\n",
       "\t\t<dd>FALSE</dd>\n",
       "\t<dt>PG1Submit</dt>\n",
       "\t\t<dd>FALSE</dd>\n",
       "\t<dt>PG2Resp</dt>\n",
       "\t\t<dd>FALSE</dd>\n",
       "\t<dt>PG2Submit</dt>\n",
       "\t\t<dd>FALSE</dd>\n",
       "\t<dt>PG2Resp.1</dt>\n",
       "\t\t<dd>TRUE</dd>\n",
       "\t<dt>PG3Submit</dt>\n",
       "\t\t<dd>TRUE</dd>\n",
       "\t<dt>PG4Dtr0_6</dt>\n",
       "\t\t<dd>FALSE</dd>\n",
       "\t<dt>PG4Psv7_8</dt>\n",
       "\t\t<dd>FALSE</dd>\n",
       "\t<dt>PG4Prm9_10</dt>\n",
       "\t\t<dd>TRUE</dd>\n",
       "\t<dt>PG4AllResp</dt>\n",
       "\t\t<dd>TRUE</dd>\n",
       "\t<dt>PG4Submit</dt>\n",
       "\t\t<dd>TRUE</dd>\n",
       "\t<dt>PG5_1RRPQ</dt>\n",
       "\t\t<dd>TRUE</dd>\n",
       "\t<dt>PG5_1Order</dt>\n",
       "\t\t<dd>TRUE</dd>\n",
       "\t<dt>PG5_1Time</dt>\n",
       "\t\t<dd>TRUE</dd>\n",
       "\t<dt>PG5_2BNUI</dt>\n",
       "\t\t<dd>TRUE</dd>\n",
       "\t<dt>PG5_2Order</dt>\n",
       "\t\t<dd>TRUE</dd>\n",
       "\t<dt>PG5_2Time</dt>\n",
       "\t\t<dd>TRUE</dd>\n",
       "\t<dt>PG5_3HDS</dt>\n",
       "\t\t<dd>TRUE</dd>\n",
       "\t<dt>PG5_3Order</dt>\n",
       "\t\t<dd>TRUE</dd>\n",
       "\t<dt>PG5_3Time</dt>\n",
       "\t\t<dd>TRUE</dd>\n",
       "\t<dt>PG5_4VGP</dt>\n",
       "\t\t<dd>TRUE</dd>\n",
       "\t<dt>PG5_4Order</dt>\n",
       "\t\t<dd>TRUE</dd>\n",
       "\t<dt>PG5_4Time</dt>\n",
       "\t\t<dd>TRUE</dd>\n",
       "\t<dt>PG5_5PHR</dt>\n",
       "\t\t<dd>TRUE</dd>\n",
       "\t<dt>PG5_5Order</dt>\n",
       "\t\t<dd>TRUE</dd>\n",
       "\t<dt>PG5_5Time</dt>\n",
       "\t\t<dd>TRUE</dd>\n",
       "\t<dt>PG5_6SSYOP</dt>\n",
       "\t\t<dd>TRUE</dd>\n",
       "\t<dt>PG5_6Order</dt>\n",
       "\t\t<dd>TRUE</dd>\n",
       "\t<dt>PG5_6Time</dt>\n",
       "\t\t<dd>TRUE</dd>\n",
       "\t<dt>PG5_7NDYP</dt>\n",
       "\t\t<dd>TRUE</dd>\n",
       "\t<dt>PG5_7Order</dt>\n",
       "\t\t<dd>TRUE</dd>\n",
       "\t<dt>PG5_7Time</dt>\n",
       "\t\t<dd>TRUE</dd>\n",
       "\t<dt>PG5_8CP</dt>\n",
       "\t\t<dd>TRUE</dd>\n",
       "\t<dt>PG5_8Order</dt>\n",
       "\t\t<dd>TRUE</dd>\n",
       "\t<dt>PG5_8Time</dt>\n",
       "\t\t<dd>TRUE</dd>\n",
       "\t<dt>PG5_9FRP</dt>\n",
       "\t\t<dd>TRUE</dd>\n",
       "\t<dt>PG5_9Order</dt>\n",
       "\t\t<dd>TRUE</dd>\n",
       "\t<dt>PG5_9Time</dt>\n",
       "\t\t<dd>TRUE</dd>\n",
       "\t<dt>PG5_10RPA</dt>\n",
       "\t\t<dd>TRUE</dd>\n",
       "\t<dt>PG5_10Order</dt>\n",
       "\t\t<dd>TRUE</dd>\n",
       "\t<dt>PG5_10Time</dt>\n",
       "\t\t<dd>TRUE</dd>\n",
       "\t<dt>PG5_11NSG</dt>\n",
       "\t\t<dd>TRUE</dd>\n",
       "\t<dt>PG5_11Order</dt>\n",
       "\t\t<dd>TRUE</dd>\n",
       "\t<dt>PG5_11Time</dt>\n",
       "\t\t<dd>TRUE</dd>\n",
       "\t<dt>PG5_12NWG</dt>\n",
       "\t\t<dd>TRUE</dd>\n",
       "\t<dt>PG5_12Order</dt>\n",
       "\t\t<dd>TRUE</dd>\n",
       "\t<dt>PG5_12Time</dt>\n",
       "\t\t<dd>TRUE</dd>\n",
       "\t<dt>PG5_13NFG</dt>\n",
       "\t\t<dd>TRUE</dd>\n",
       "\t<dt>PG5_13Order</dt>\n",
       "\t\t<dd>TRUE</dd>\n",
       "\t<dt>PG5_13Time</dt>\n",
       "\t\t<dd>TRUE</dd>\n",
       "\t<dt>PG5Submit</dt>\n",
       "\t\t<dd>TRUE</dd>\n",
       "\t<dt>PG6Resp</dt>\n",
       "\t\t<dd>TRUE</dd>\n",
       "\t<dt>PG6Submit</dt>\n",
       "\t\t<dd>TRUE</dd>\n",
       "\t<dt>PG7R</dt>\n",
       "\t\t<dd>TRUE</dd>\n",
       "\t<dt>PG7C.C..</dt>\n",
       "\t\t<dd>FALSE</dd>\n",
       "\t<dt>PG7Java</dt>\n",
       "\t\t<dd>FALSE</dd>\n",
       "\t<dt>PG7Python</dt>\n",
       "\t\t<dd>FALSE</dd>\n",
       "\t<dt>PG7Javascript</dt>\n",
       "\t\t<dd>FALSE</dd>\n",
       "\t<dt>PG7Go</dt>\n",
       "\t\t<dd>FALSE</dd>\n",
       "\t<dt>PG7C.</dt>\n",
       "\t\t<dd>FALSE</dd>\n",
       "\t<dt>PG7Other</dt>\n",
       "\t\t<dd>FALSE</dd>\n",
       "\t<dt>PG7Submit</dt>\n",
       "\t\t<dd>TRUE</dd>\n",
       "\t<dt>PG8Resp</dt>\n",
       "\t\t<dd>TRUE</dd>\n",
       "\t<dt>PG8Submit</dt>\n",
       "\t\t<dd>TRUE</dd>\n",
       "\t<dt>PG9Resp</dt>\n",
       "\t\t<dd>TRUE</dd>\n",
       "\t<dt>PG9Submit</dt>\n",
       "\t\t<dd>TRUE</dd>\n",
       "\t<dt>PG10Resp</dt>\n",
       "\t\t<dd>TRUE</dd>\n",
       "\t<dt>PG10Submit</dt>\n",
       "\t\t<dd>TRUE</dd>\n",
       "\t<dt>PG11Resp</dt>\n",
       "\t\t<dd>TRUE</dd>\n",
       "\t<dt>PG11Submit</dt>\n",
       "\t\t<dd>TRUE</dd>\n",
       "\t<dt>PG12Resp</dt>\n",
       "\t\t<dd>TRUE</dd>\n",
       "\t<dt>PG12Submit</dt>\n",
       "\t\t<dd>TRUE</dd>\n",
       "</dl>\n"
      ],
      "text/latex": [
       "\\begin{description*}\n",
       "\\item[Device] FALSE\n",
       "\\item[Completed] TRUE\n",
       "\\item[Start] FALSE\n",
       "\\item[End] TRUE\n",
       "\\item[PG0Dis] TRUE\n",
       "\\item[PG0Shown] TRUE\n",
       "\\item[PG0Submit] FALSE\n",
       "\\item[PG1PsnUse] FALSE\n",
       "\\item[PG1WdAuth] FALSE\n",
       "\\item[PG1Trn] FALSE\n",
       "\\item[PG1Other] FALSE\n",
       "\\item[PG1Submit] FALSE\n",
       "\\item[PG2Resp] FALSE\n",
       "\\item[PG2Submit] FALSE\n",
       "\\item[PG2Resp.1] TRUE\n",
       "\\item[PG3Submit] TRUE\n",
       "\\item[PG4Dtr0\\textbackslash{}\\_6] FALSE\n",
       "\\item[PG4Psv7\\textbackslash{}\\_8] FALSE\n",
       "\\item[PG4Prm9\\textbackslash{}\\_10] TRUE\n",
       "\\item[PG4AllResp] TRUE\n",
       "\\item[PG4Submit] TRUE\n",
       "\\item[PG5\\textbackslash{}\\_1RRPQ] TRUE\n",
       "\\item[PG5\\textbackslash{}\\_1Order] TRUE\n",
       "\\item[PG5\\textbackslash{}\\_1Time] TRUE\n",
       "\\item[PG5\\textbackslash{}\\_2BNUI] TRUE\n",
       "\\item[PG5\\textbackslash{}\\_2Order] TRUE\n",
       "\\item[PG5\\textbackslash{}\\_2Time] TRUE\n",
       "\\item[PG5\\textbackslash{}\\_3HDS] TRUE\n",
       "\\item[PG5\\textbackslash{}\\_3Order] TRUE\n",
       "\\item[PG5\\textbackslash{}\\_3Time] TRUE\n",
       "\\item[PG5\\textbackslash{}\\_4VGP] TRUE\n",
       "\\item[PG5\\textbackslash{}\\_4Order] TRUE\n",
       "\\item[PG5\\textbackslash{}\\_4Time] TRUE\n",
       "\\item[PG5\\textbackslash{}\\_5PHR] TRUE\n",
       "\\item[PG5\\textbackslash{}\\_5Order] TRUE\n",
       "\\item[PG5\\textbackslash{}\\_5Time] TRUE\n",
       "\\item[PG5\\textbackslash{}\\_6SSYOP] TRUE\n",
       "\\item[PG5\\textbackslash{}\\_6Order] TRUE\n",
       "\\item[PG5\\textbackslash{}\\_6Time] TRUE\n",
       "\\item[PG5\\textbackslash{}\\_7NDYP] TRUE\n",
       "\\item[PG5\\textbackslash{}\\_7Order] TRUE\n",
       "\\item[PG5\\textbackslash{}\\_7Time] TRUE\n",
       "\\item[PG5\\textbackslash{}\\_8CP] TRUE\n",
       "\\item[PG5\\textbackslash{}\\_8Order] TRUE\n",
       "\\item[PG5\\textbackslash{}\\_8Time] TRUE\n",
       "\\item[PG5\\textbackslash{}\\_9FRP] TRUE\n",
       "\\item[PG5\\textbackslash{}\\_9Order] TRUE\n",
       "\\item[PG5\\textbackslash{}\\_9Time] TRUE\n",
       "\\item[PG5\\textbackslash{}\\_10RPA] TRUE\n",
       "\\item[PG5\\textbackslash{}\\_10Order] TRUE\n",
       "\\item[PG5\\textbackslash{}\\_10Time] TRUE\n",
       "\\item[PG5\\textbackslash{}\\_11NSG] TRUE\n",
       "\\item[PG5\\textbackslash{}\\_11Order] TRUE\n",
       "\\item[PG5\\textbackslash{}\\_11Time] TRUE\n",
       "\\item[PG5\\textbackslash{}\\_12NWG] TRUE\n",
       "\\item[PG5\\textbackslash{}\\_12Order] TRUE\n",
       "\\item[PG5\\textbackslash{}\\_12Time] TRUE\n",
       "\\item[PG5\\textbackslash{}\\_13NFG] TRUE\n",
       "\\item[PG5\\textbackslash{}\\_13Order] TRUE\n",
       "\\item[PG5\\textbackslash{}\\_13Time] TRUE\n",
       "\\item[PG5Submit] TRUE\n",
       "\\item[PG6Resp] TRUE\n",
       "\\item[PG6Submit] TRUE\n",
       "\\item[PG7R] TRUE\n",
       "\\item[PG7C.C..] FALSE\n",
       "\\item[PG7Java] FALSE\n",
       "\\item[PG7Python] FALSE\n",
       "\\item[PG7Javascript] FALSE\n",
       "\\item[PG7Go] FALSE\n",
       "\\item[PG7C.] FALSE\n",
       "\\item[PG7Other] FALSE\n",
       "\\item[PG7Submit] TRUE\n",
       "\\item[PG8Resp] TRUE\n",
       "\\item[PG8Submit] TRUE\n",
       "\\item[PG9Resp] TRUE\n",
       "\\item[PG9Submit] TRUE\n",
       "\\item[PG10Resp] TRUE\n",
       "\\item[PG10Submit] TRUE\n",
       "\\item[PG11Resp] TRUE\n",
       "\\item[PG11Submit] TRUE\n",
       "\\item[PG12Resp] TRUE\n",
       "\\item[PG12Submit] TRUE\n",
       "\\end{description*}\n"
      ],
      "text/markdown": [
       "Device\n",
       ":   FALSECompleted\n",
       ":   TRUEStart\n",
       ":   FALSEEnd\n",
       ":   TRUEPG0Dis\n",
       ":   TRUEPG0Shown\n",
       ":   TRUEPG0Submit\n",
       ":   FALSEPG1PsnUse\n",
       ":   FALSEPG1WdAuth\n",
       ":   FALSEPG1Trn\n",
       ":   FALSEPG1Other\n",
       ":   FALSEPG1Submit\n",
       ":   FALSEPG2Resp\n",
       ":   FALSEPG2Submit\n",
       ":   FALSEPG2Resp.1\n",
       ":   TRUEPG3Submit\n",
       ":   TRUEPG4Dtr0_6\n",
       ":   FALSEPG4Psv7_8\n",
       ":   FALSEPG4Prm9_10\n",
       ":   TRUEPG4AllResp\n",
       ":   TRUEPG4Submit\n",
       ":   TRUEPG5_1RRPQ\n",
       ":   TRUEPG5_1Order\n",
       ":   TRUEPG5_1Time\n",
       ":   TRUEPG5_2BNUI\n",
       ":   TRUEPG5_2Order\n",
       ":   TRUEPG5_2Time\n",
       ":   TRUEPG5_3HDS\n",
       ":   TRUEPG5_3Order\n",
       ":   TRUEPG5_3Time\n",
       ":   TRUEPG5_4VGP\n",
       ":   TRUEPG5_4Order\n",
       ":   TRUEPG5_4Time\n",
       ":   TRUEPG5_5PHR\n",
       ":   TRUEPG5_5Order\n",
       ":   TRUEPG5_5Time\n",
       ":   TRUEPG5_6SSYOP\n",
       ":   TRUEPG5_6Order\n",
       ":   TRUEPG5_6Time\n",
       ":   TRUEPG5_7NDYP\n",
       ":   TRUEPG5_7Order\n",
       ":   TRUEPG5_7Time\n",
       ":   TRUEPG5_8CP\n",
       ":   TRUEPG5_8Order\n",
       ":   TRUEPG5_8Time\n",
       ":   TRUEPG5_9FRP\n",
       ":   TRUEPG5_9Order\n",
       ":   TRUEPG5_9Time\n",
       ":   TRUEPG5_10RPA\n",
       ":   TRUEPG5_10Order\n",
       ":   TRUEPG5_10Time\n",
       ":   TRUEPG5_11NSG\n",
       ":   TRUEPG5_11Order\n",
       ":   TRUEPG5_11Time\n",
       ":   TRUEPG5_12NWG\n",
       ":   TRUEPG5_12Order\n",
       ":   TRUEPG5_12Time\n",
       ":   TRUEPG5_13NFG\n",
       ":   TRUEPG5_13Order\n",
       ":   TRUEPG5_13Time\n",
       ":   TRUEPG5Submit\n",
       ":   TRUEPG6Resp\n",
       ":   TRUEPG6Submit\n",
       ":   TRUEPG7R\n",
       ":   TRUEPG7C.C..\n",
       ":   FALSEPG7Java\n",
       ":   FALSEPG7Python\n",
       ":   FALSEPG7Javascript\n",
       ":   FALSEPG7Go\n",
       ":   FALSEPG7C.\n",
       ":   FALSEPG7Other\n",
       ":   FALSEPG7Submit\n",
       ":   TRUEPG8Resp\n",
       ":   TRUEPG8Submit\n",
       ":   TRUEPG9Resp\n",
       ":   TRUEPG9Submit\n",
       ":   TRUEPG10Resp\n",
       ":   TRUEPG10Submit\n",
       ":   TRUEPG11Resp\n",
       ":   TRUEPG11Submit\n",
       ":   TRUEPG12Resp\n",
       ":   TRUEPG12Submit\n",
       ":   TRUE\n",
       "\n"
      ],
      "text/plain": [
       "       Device     Completed         Start           End        PG0Dis \n",
       "        FALSE          TRUE         FALSE          TRUE          TRUE \n",
       "     PG0Shown     PG0Submit     PG1PsnUse     PG1WdAuth        PG1Trn \n",
       "         TRUE         FALSE         FALSE         FALSE         FALSE \n",
       "     PG1Other     PG1Submit       PG2Resp     PG2Submit     PG2Resp.1 \n",
       "        FALSE         FALSE         FALSE         FALSE          TRUE \n",
       "    PG3Submit     PG4Dtr0_6     PG4Psv7_8    PG4Prm9_10    PG4AllResp \n",
       "         TRUE         FALSE         FALSE          TRUE          TRUE \n",
       "    PG4Submit     PG5_1RRPQ    PG5_1Order     PG5_1Time     PG5_2BNUI \n",
       "         TRUE          TRUE          TRUE          TRUE          TRUE \n",
       "   PG5_2Order     PG5_2Time      PG5_3HDS    PG5_3Order     PG5_3Time \n",
       "         TRUE          TRUE          TRUE          TRUE          TRUE \n",
       "     PG5_4VGP    PG5_4Order     PG5_4Time      PG5_5PHR    PG5_5Order \n",
       "         TRUE          TRUE          TRUE          TRUE          TRUE \n",
       "    PG5_5Time    PG5_6SSYOP    PG5_6Order     PG5_6Time     PG5_7NDYP \n",
       "         TRUE          TRUE          TRUE          TRUE          TRUE \n",
       "   PG5_7Order     PG5_7Time       PG5_8CP    PG5_8Order     PG5_8Time \n",
       "         TRUE          TRUE          TRUE          TRUE          TRUE \n",
       "     PG5_9FRP    PG5_9Order     PG5_9Time     PG5_10RPA   PG5_10Order \n",
       "         TRUE          TRUE          TRUE          TRUE          TRUE \n",
       "   PG5_10Time     PG5_11NSG   PG5_11Order    PG5_11Time     PG5_12NWG \n",
       "         TRUE          TRUE          TRUE          TRUE          TRUE \n",
       "  PG5_12Order    PG5_12Time     PG5_13NFG   PG5_13Order    PG5_13Time \n",
       "         TRUE          TRUE          TRUE          TRUE          TRUE \n",
       "    PG5Submit       PG6Resp     PG6Submit          PG7R      PG7C.C.. \n",
       "         TRUE          TRUE          TRUE          TRUE         FALSE \n",
       "      PG7Java     PG7Python PG7Javascript         PG7Go         PG7C. \n",
       "        FALSE         FALSE         FALSE         FALSE         FALSE \n",
       "     PG7Other     PG7Submit       PG8Resp     PG8Submit       PG9Resp \n",
       "        FALSE          TRUE          TRUE          TRUE          TRUE \n",
       "    PG9Submit      PG10Resp    PG10Submit      PG11Resp    PG11Submit \n",
       "         TRUE          TRUE          TRUE          TRUE          TRUE \n",
       "     PG12Resp    PG12Submit \n",
       "         TRUE          TRUE "
      ]
     },
     "metadata": {},
     "output_type": "display_data"
    }
   ],
   "source": [
    "for(i in colnames(data))\n",
    "{\n",
    "    data[,i] <- as.numeric (data[,i]);\n",
    "}\n",
    "data <- replace(data, is.na(data), 0)\n",
    "\n",
    "hiCor <- function(x, level){\n",
    "  res <- cor(x,method=\"spearman\");\n",
    "  res1 <- res; res1[res<0] <- -res[res < 0];\n",
    "  for (i in 1:dim(x)[2]){\n",
    "    res1[i,i] <- 0;\n",
    "  }\n",
    "  sel <- apply(res1,1,max) > level;\n",
    "  return(sel)\n",
    "}\n",
    "hiCor(data,.7)"
   ]
  },
  {
   "cell_type": "markdown",
   "metadata": {},
   "source": [
    "## Model data\n",
    "This part using linear regression to modeling the data"
   ]
  },
  {
   "cell_type": "code",
   "execution_count": 11,
   "metadata": {
    "scrolled": false
   },
   "outputs": [
    {
     "data": {
      "text/plain": [
       "\n",
       "Call:\n",
       "lm(formula = PG5_13NFG ~ ., data = datas)\n",
       "\n",
       "Residuals:\n",
       "   Min     1Q Median     3Q    Max \n",
       "-2.267 -0.207  0.187  0.402  2.136 \n",
       "\n",
       "Coefficients:\n",
       "            Estimate Std. Error t value Pr(>|t|)    \n",
       "(Intercept)  1.55385    0.20976    7.41  7.1e-13 ***\n",
       "PG5_1RRPQ    0.08655    0.02935    2.95   0.0034 ** \n",
       "PG5_2BNUI   -0.01171    0.03449   -0.34   0.7344    \n",
       "PG5_3HDS     0.00284    0.02857    0.10   0.9210    \n",
       "PG5_4VGP     0.04921    0.03017    1.63   0.1037    \n",
       "PG5_5PHR     0.03637    0.03134    1.16   0.2465    \n",
       "PG5_6SSYOP  -0.03979    0.02803   -1.42   0.1565    \n",
       "PG5_7NDYP   -0.03305    0.02973   -1.11   0.2668    \n",
       "PG5_8CP      0.02309    0.02935    0.79   0.4319    \n",
       "PG5_9FRP    -0.01523    0.03094   -0.49   0.6227    \n",
       "PG5_10RPA   -0.02421    0.02940   -0.82   0.4107    \n",
       "PG5_11NSG    0.16386    0.03555    4.61  5.4e-06 ***\n",
       "PG5_12NWG    0.18780    0.04070    4.61  5.2e-06 ***\n",
       "---\n",
       "Signif. codes:  0 '***' 0.001 '**' 0.01 '*' 0.05 '.' 0.1 ' ' 1\n",
       "\n",
       "Residual standard error: 0.77 on 420 degrees of freedom\n",
       "Multiple R-squared:  0.232,\tAdjusted R-squared:  0.21 \n",
       "F-statistic: 10.6 on 12 and 420 DF,  p-value: <2e-16\n"
      ]
     },
     "metadata": {},
     "output_type": "display_data"
    }
   ],
   "source": [
    "for(i in colnames(datas))\n",
    "{\n",
    "    datas[,i] <- as.numeric (datas[,i]);\n",
    "}\n",
    "datas <- replace(datas, is.na(datas), 0)\n",
    "MODEL <- lm(PG5_13NFG ~ ., data = datas)\n",
    "summary(MODEL)"
   ]
  },
  {
   "cell_type": "markdown",
   "metadata": {},
   "source": [
    "## Summary\n",
    "Base on the result, we can see there are only 5 predictors have relatively small coefficient which is out of 13. And there is only 1 p-value is less than 0.05, which is mean only one predictor is useful to de model. Also, the r-squared just only 0.21, that is only 21% of the coffcient repones the data. So the result give us could not help to support the hypothesis."
   ]
  },
  {
   "cell_type": "markdown",
   "metadata": {},
   "source": [
    "### Extra Credit: Survey improvment\n",
    "First, I think it is nessary to limit the surveying time, so this could force all the people to full in a answer instead of leave a blank answer. This could help for data cleaning. And it is also great that to give the data better formating, which could help us fitting the model."
   ]
  }
 ],
 "metadata": {
  "kernelspec": {
   "display_name": "R",
   "language": "R",
   "name": "ir"
  },
  "language_info": {
   "codemirror_mode": "r",
   "file_extension": ".r",
   "mimetype": "text/x-r-source",
   "name": "R",
   "pygments_lexer": "r",
   "version": "3.4.4"
  }
 },
 "nbformat": 4,
 "nbformat_minor": 1
}
